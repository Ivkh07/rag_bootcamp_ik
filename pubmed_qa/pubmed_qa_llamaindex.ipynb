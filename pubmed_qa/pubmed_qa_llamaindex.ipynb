{
 "cells": [
  {
   "cell_type": "markdown",
   "id": "2e979eb9-3fe0-49c2-b814-f4025ed81934",
   "metadata": {},
   "source": [
    "# PubMed QA using LlamaIndex\n",
    "\n",
    "## Introduction\n",
    "This notebook presents a RAG workflow for the [PubMed QA](https://pubmedqa.github.io/) task using [LlamaIndex](https://www.llamaindex.ai/). The code is written in a configurable fashion, giving you the flexibility to edit the RAG configuration and observe the change in output/responses.\n",
    "\n",
    "It covers a step-by-step procedure for building the RAG workflow (Stages 1-4) and later runs the pipeline on a sample from the dataset. The notebook also covers the sparse, dense, hybrid retrieval strategies along with the re-ranker. We have alse added an optional component for RAG evaluation using the [Ragas](https://docs.ragas.io/en/stable/) library.\n",
    "\n",
    "### <u>Requirements</u>\n",
    "1. As you will accessing the LLMs and embedding models through Vector AI Engineering's Kaleidoscope Service (Vector Inference + Autoscaling), you will need to request a KScope API Key:\n",
    "\n",
    "      Run the following command (replace ```<user_id>``` and ```<password>```) from **within the cluster** to obtain the API Key. The ```access_token``` in the output is your KScope API Key.\n",
    "  ```bash\n",
    "  curl -X POST -d \"grant_type=password\" -d \"username=<user_id>\" -d \"password=<password>\" https://kscope.vectorinstitute.ai/token\n",
    "  ```\n",
    "2. After obtaining the `.env` configurations, make sure to create the ```.kscope.env``` file in your home directory (```/h/<user_id>```) and set the following env variables:\n",
    "- For local models through Kaleidoscope (KScope):\n",
    "    ```bash\n",
    "    export OPENAI_BASE_URL=\"https://kscope.vectorinstitute.ai/v1\"\n",
    "    export OPENAI_API_KEY=<kscope_api_key>\n",
    "    ```\n",
    "- For OpenAI models:\n",
    "   ```bash\n",
    "   export OPENAI_BASE_URL=\"https://api.openai.com/v1\"\n",
    "   export OPENAI_API_KEY=<openai_api_key>\n",
    "   ```"
   ]
  },
  {
   "cell_type": "markdown",
   "id": "d6e83bf1-b093-4acd-ad37-27bd56f5b8e4",
   "metadata": {},
   "source": [
    "## STAGE 0 - Set up the RAG workflow environment"
   ]
  },
  {
   "cell_type": "markdown",
   "id": "2d4e45a6-1ed6-4e90-b0b7-913566652b40",
   "metadata": {},
   "source": [
    "#### Import libraries, custom classes and functions"
   ]
  },
  {
   "cell_type": "code",
   "execution_count": 1,
   "id": "c1909a34-2063-4195-a90e-fd35ce1b5df5",
   "metadata": {},
   "outputs": [],
   "source": [
    "import warnings\n",
    "warnings.filterwarnings('ignore')"
   ]
  },
  {
   "cell_type": "code",
   "execution_count": 2,
   "id": "82038178-2699-403b-b32a-342b8d19ae98",
   "metadata": {},
   "outputs": [],
   "source": [
    "import sys\n",
    "import os\n",
    "import random\n",
    "\n",
    "from pathlib import Path\n",
    "from pprint import pprint\n",
    "\n",
    "from llama_index.core import ServiceContext, Settings, set_global_handler\n",
    "from llama_index.core.node_parser import SentenceSplitter\n",
    "\n",
    "from task_dataset import PubMedQATaskDataset\n",
    "\n",
    "from utils.hosting_utils import RAGLLM\n",
    "from utils.rag_utils import (\n",
    "    DocumentReader, RAGEmbedding, RAGQueryEngine, RagasEval, \n",
    "    extract_yes_no, validate_rag_cfg\n",
    "    )\n",
    "from utils.storage_utils import RAGIndex"
   ]
  },
  {
   "cell_type": "markdown",
   "id": "23409b3f-d436-469f-90eb-6ff4a7ce9c92",
   "metadata": {},
   "source": [
    "#### Load config files"
   ]
  },
  {
   "cell_type": "code",
   "execution_count": 3,
   "id": "94487a03-5c16-4683-b10b-026171b8b37d",
   "metadata": {},
   "outputs": [
    {
     "name": "stderr",
     "output_type": "stream",
     "text": [
      "/fs01/home/odige/rag_bootcamp/pubmed_qa/utils/load_secrets.py:11: ResourceWarning: unclosed file <_io.TextIOWrapper name='/h/odige/.kscope.env' mode='r' encoding='UTF-8'>\n",
      "  for line in open(env_path, \"r\").read().splitlines():\n",
      "ResourceWarning: Enable tracemalloc to get the object allocation traceback\n"
     ]
    }
   ],
   "source": [
    "# Add root folder of the rag_bootcamp repo to PYTHONPATH\n",
    "current_dir = Path().resolve()\n",
    "parent_dir = current_dir.parent\n",
    "sys.path.insert(0, str(parent_dir))\n",
    "\n",
    "from utils.load_secrets import load_env_file\n",
    "load_env_file()"
   ]
  },
  {
   "cell_type": "code",
   "execution_count": 4,
   "id": "24a2b082-8f20-4567-9e37-69f0beaee9ef",
   "metadata": {},
   "outputs": [],
   "source": [
    "GENERATOR_BASE_URL = os.environ.get(\"OPENAI_BASE_URL\")\n",
    "\n",
    "OPENAI_API_KEY = os.environ.get(\"OPENAI_API_KEY\")"
   ]
  },
  {
   "cell_type": "markdown",
   "id": "8c70d889-6e10-45b7-be3b-52a5b56d4f43",
   "metadata": {},
   "source": [
    "#### Set RAG configuration"
   ]
  },
  {
   "cell_type": "code",
   "execution_count": 5,
   "id": "ab816260-2e3f-4ac3-a3f7-623202b116bd",
   "metadata": {},
   "outputs": [],
   "source": [
    "rag_cfg = {\n",
    "    # Node parser config\n",
    "    \"chunk_size\": 256,\n",
    "    \"chunk_overlap\": 0,\n",
    "\n",
    "    # Embedding model config\n",
    "    \"embed_model_type\": \"hf\",\n",
    "    \"embed_model_name\": \"BAAI/bge-base-en-v1.5\",\n",
    "\n",
    "    # LLM config\n",
    "    \"llm_type\": \"kscope\",\n",
    "    \"llm_name\": \"Meta-Llama-3.1-8B-Instruct\",\n",
    "    \"max_new_tokens\": 256,\n",
    "    \"temperature\": 0.0,\n",
    "    \"top_p\": 1.0,\n",
    "    \"top_k\": 50,\n",
    "    \"do_sample\": False,\n",
    "\n",
    "    # Vector DB config\n",
    "    \"vector_db_type\": \"weaviate\", # \"weaviate\"\n",
    "    \"vector_db_name\": \"Pubmed_QA\",\n",
    "    # MODIFY THIS\n",
    "    \"weaviate_url\": \"https://4akrlvlhscazehiee5ez1q.c0.us-east1.gcp.weaviate.cloud\",\n",
    "\n",
    "    # Retriever and query config\n",
    "    \"retriever_type\": \"vector_index\", # \"vector_index\"\n",
    "    \"retriever_similarity_top_k\": 5,\n",
    "    \"query_mode\": \"hybrid\", # \"default\", \"hybrid\"\n",
    "    \"hybrid_search_alpha\": 0.0, # float from 0.0 (sparse search - bm25) to 1.0 (vector search)\n",
    "    \"response_mode\": \"compact\",\n",
    "    \"use_reranker\": False,\n",
    "    \"rerank_top_k\": 3,\n",
    "\n",
    "    # Evaluation config\n",
    "    \"eval_llm_type\": \"kscope\",\n",
    "    \"eval_llm_name\": \"Meta-Llama-3.1-8B-Instruct\",\n",
    "}"
   ]
  },
  {
   "cell_type": "markdown",
   "id": "7789ee5b-ceef-48c0-9e09-11ea2051233b",
   "metadata": {},
   "source": [
    "#### Read Weaviate Key"
   ]
  },
  {
   "cell_type": "code",
   "execution_count": 6,
   "id": "ed2f405b-4c51-4174-ae8b-03029adec4a8",
   "metadata": {},
   "outputs": [],
   "source": [
    "try:\n",
    "    f = open(Path.home() / \".weaviate.key\", \"r\")\n",
    "    f.close()\n",
    "except Exception as err:\n",
    "    print(f\"Could not read your Weaviate key. Please make sure this is available in plain text under your home directory in ~/.weaviate.key: {err}\")"
   ]
  },
  {
   "cell_type": "markdown",
   "id": "7d63ff4f-fdcb-48db-8c88-87b602fb0f86",
   "metadata": {},
   "source": [
    "#### Preliminary config checks"
   ]
  },
  {
   "cell_type": "code",
   "execution_count": 7,
   "id": "08e83dc8-9449-41d6-899d-0189bacaf437",
   "metadata": {},
   "outputs": [
    {
     "name": "stdout",
     "output_type": "stream",
     "text": [
      "{'chunk_overlap': 0,\n",
      " 'chunk_size': 256,\n",
      " 'do_sample': False,\n",
      " 'embed_model_name': 'BAAI/bge-base-en-v1.5',\n",
      " 'embed_model_type': 'hf',\n",
      " 'eval_llm_name': 'Meta-Llama-3.1-8B-Instruct',\n",
      " 'eval_llm_type': 'kscope',\n",
      " 'hybrid_search_alpha': 0.0,\n",
      " 'llm_name': 'Meta-Llama-3.1-8B-Instruct',\n",
      " 'llm_type': 'kscope',\n",
      " 'max_new_tokens': 256,\n",
      " 'query_mode': 'hybrid',\n",
      " 'rerank_top_k': 3,\n",
      " 'response_mode': 'compact',\n",
      " 'retriever_similarity_top_k': 5,\n",
      " 'retriever_type': 'vector_index',\n",
      " 'temperature': 0.0,\n",
      " 'top_k': 50,\n",
      " 'top_p': 1.0,\n",
      " 'use_reranker': False,\n",
      " 'vector_db_name': 'Pubmed_QA',\n",
      " 'vector_db_type': 'weaviate',\n",
      " 'weaviate_url': 'https://4akrlvlhscazehiee5ez1q.c0.us-east1.gcp.weaviate.cloud'}\n"
     ]
    }
   ],
   "source": [
    "validate_rag_cfg(rag_cfg)\n",
    "pprint(rag_cfg)"
   ]
  },
  {
   "cell_type": "markdown",
   "id": "8672715b-12b7-424d-8410-859ff336a757",
   "metadata": {},
   "source": [
    "## STAGE 1 - Load dataset and documents"
   ]
  },
  {
   "cell_type": "markdown",
   "id": "8fe5fd2a-f974-4bb5-a678-7110aba1bc32",
   "metadata": {},
   "source": [
    "#### 1. Load PubMed QA dataset\n",
    "PubMedQA ([github](https://github.com/pubmedqa/pubmedqa)) is a biomedical question answering dataset. Each instance consists of a question, a context (extracted from PubMed abstracts), a long answer and a yes/no/maybe answer. We make use of the test split of [this](https://huggingface.co/datasets/bigbio/pubmed_qa) huggingface dataset for this notebook.\n",
    "\n",
    "**The context for each instance is stored as a text file** (referred to as documents), to align the task as a standard RAG use-case."
   ]
  },
  {
   "cell_type": "code",
   "execution_count": 8,
   "id": "abd814ec-3084-4a5f-9fa9-8def165fe77d",
   "metadata": {},
   "outputs": [
    {
     "name": "stdout",
     "output_type": "stream",
     "text": [
      "Loading PubMed QA data ...\n"
     ]
    },
    {
     "name": "stderr",
     "output_type": "stream",
     "text": [
      "/fs01/projects/aieng/public/rag_bootcamp/envs/rag_pubmed_qa/lib/python3.10/site-packages/datasets/load.py:1461: FutureWarning: The repository for bigbio/pubmed_qa contains custom code which must be executed to correctly load the dataset. You can inspect the repository content at https://hf.co/datasets/bigbio/pubmed_qa\n",
      "You can avoid this message in future by passing the argument `trust_remote_code=True`.\n",
      "Passing `trust_remote_code=True` will be mandatory to load this dataset from the next major release of `datasets`.\n",
      "  warnings.warn(\n",
      "Preparing data: 100%|███████████████████████████████████████████████████████████████████████████████████████████████████████████████████████████████████████████████████| 500/500 [00:00<00:00, 1282.07it/s]\n"
     ]
    },
    {
     "name": "stdout",
     "output_type": "stream",
     "text": [
      "Loaded data size: 500\n"
     ]
    }
   ],
   "source": [
    "print('Loading PubMed QA data ...')\n",
    "pubmed_data = PubMedQATaskDataset('bigbio/pubmed_qa')\n",
    "print(f\"Loaded data size: {len(pubmed_data)}\")\n",
    "pubmed_data.mock_knowledge_base(output_dir='./data', one_file_per_sample=True)"
   ]
  },
  {
   "cell_type": "markdown",
   "id": "0139f09c-bf13-4d4a-9637-c7be7e165ad8",
   "metadata": {},
   "source": [
    "#### 2. Load documents\n",
    "All metadata is excluded by default. Set the *exclude_llm_metadata_keys* and *exclude_embed_metadata_keys* flags to *false* for including it. Please refer to [this](https://docs.llamaindex.ai/en/stable/module_guides/loading/documents_and_nodes/usage_documents.html) and the *DocumentReader* class from *rag_utils.py* for further details."
   ]
  },
  {
   "cell_type": "code",
   "execution_count": 9,
   "id": "a2b8ff42-45ee-4ad2-bf72-ccca100e1286",
   "metadata": {},
   "outputs": [
    {
     "name": "stdout",
     "output_type": "stream",
     "text": [
      "Loading documents ...\n",
      "No. of documents loaded: 500\n"
     ]
    }
   ],
   "source": [
    "print('Loading documents ...')\n",
    "reader = DocumentReader(input_dir=\"./data/pubmed_doc\")\n",
    "docs = reader.load_data()\n",
    "print(f'No. of documents loaded: {len(docs)}')"
   ]
  },
  {
   "cell_type": "markdown",
   "id": "c6db76ff-1c8c-4ada-8c3d-30b2ef7bca30",
   "metadata": {},
   "source": [
    "## STAGE 2 - Load node parser, embedding, LLM and set service context"
   ]
  },
  {
   "cell_type": "markdown",
   "id": "77e540f6-2522-4d69-89e6-3233f665c589",
   "metadata": {},
   "source": [
    "#### 1. Load node parser to split documents into smaller chunks"
   ]
  },
  {
   "cell_type": "code",
   "execution_count": 10,
   "id": "acd11331-fe79-4100-bcd9-127838159e1c",
   "metadata": {},
   "outputs": [
    {
     "name": "stdout",
     "output_type": "stream",
     "text": [
      "Loading node parser ...\n"
     ]
    }
   ],
   "source": [
    "print('Loading node parser ...')\n",
    "node_parser = SentenceSplitter(chunk_size=rag_cfg['chunk_size'], chunk_overlap=rag_cfg['chunk_overlap'])\n",
    "nodes = node_parser.get_nodes_from_documents(docs)"
   ]
  },
  {
   "cell_type": "markdown",
   "id": "018b8905-8a8e-4495-90f4-4e69811d9d19",
   "metadata": {},
   "source": [
    "#### 2. Load embedding model\n",
    "LlamaIndex supports embedding models from OpenAI, Cohere, HuggingFace, etc. Please refer to [this](https://docs.llamaindex.ai/en/stable/module_guides/models/embeddings.html#custom-embedding-model) for building a custom embedding model."
   ]
  },
  {
   "cell_type": "code",
   "execution_count": 11,
   "id": "cae31175-725c-46f9-ae43-5dc80f604649",
   "metadata": {},
   "outputs": [
    {
     "name": "stdout",
     "output_type": "stream",
     "text": [
      "Loading hf embedding model ...\n"
     ]
    }
   ],
   "source": [
    "embed_model = RAGEmbedding(model_type=rag_cfg['embed_model_type'], model_name=rag_cfg['embed_model_name']).load_model()"
   ]
  },
  {
   "cell_type": "markdown",
   "id": "b6446adf-983e-451c-b5dd-9a178e3b1af7",
   "metadata": {},
   "source": [
    "#### 3. Load LLM for generation\n",
    "LlamaIndex supports LLMs from OpenAI, Cohere, HuggingFace, AI21, etc. Please refer to [this](https://docs.llamaindex.ai/en/stable/module_guides/models/llms/usage_custom.html#example-using-a-custom-llm-model-advanced) for loading a custom LLM model for generation."
   ]
  },
  {
   "cell_type": "code",
   "execution_count": 12,
   "id": "d99126d7-48d6-4551-9c64-2044f7962ffd",
   "metadata": {},
   "outputs": [
    {
     "name": "stdout",
     "output_type": "stream",
     "text": [
      "Configuring kscope LLM model ...\n"
     ]
    }
   ],
   "source": [
    "llm = RAGLLM(\n",
    "    llm_type=rag_cfg['llm_type'],\n",
    "    llm_name=rag_cfg['llm_name'],\n",
    "    api_base=GENERATOR_BASE_URL,\n",
    "    api_key=OPENAI_API_KEY,\n",
    ").load_model(**rag_cfg)"
   ]
  },
  {
   "cell_type": "markdown",
   "id": "feb554bd-9df1-444c-b75a-373e117eee06",
   "metadata": {},
   "source": [
    "#### 4. Use ```Settings``` to set the node parser, embedding model, LLM, etc."
   ]
  },
  {
   "cell_type": "code",
   "execution_count": 13,
   "id": "4c62a809-0558-4e29-ae0d-451259663f60",
   "metadata": {},
   "outputs": [],
   "source": [
    "Settings.text_splitter = node_parser\n",
    "Settings.llm = llm\n",
    "Settings.embed_model = embed_model"
   ]
  },
  {
   "cell_type": "markdown",
   "id": "5dceb1e4-5ed6-47cb-987f-93f186387269",
   "metadata": {},
   "source": [
    "## STAGE 3 - Create index using the appropriate vector store\n",
    "All vector stores supported by LlamaIndex along with their available features are listed [here](https://docs.llamaindex.ai/en/stable/module_guides/storing/vector_stores.html).\n",
    "\n",
    "If you are using LangChain, the supported vector stores can be found [here](https://python.langchain.com/docs/modules/data_connection/vectorstores/)."
   ]
  },
  {
   "cell_type": "code",
   "execution_count": 14,
   "id": "23824c74-c247-46ff-86fc-dcf1a8bd6fcd",
   "metadata": {},
   "outputs": [
    {
     "name": "stdout",
     "output_type": "stream",
     "text": [
      "Loading index from ./.weaviate_index_store/ ...\n"
     ]
    }
   ],
   "source": [
    "index = RAGIndex(\n",
    "    db_type=rag_cfg['vector_db_type'],\n",
    "    db_name=rag_cfg['vector_db_name'],\n",
    ").create_index(docs, weaviate_url=rag_cfg[\"weaviate_url\"])"
   ]
  },
  {
   "cell_type": "markdown",
   "id": "b175a4a5-0a66-41b3-a848-850ce048bc6c",
   "metadata": {},
   "source": [
    "## STAGE 4 - Build query engine"
   ]
  },
  {
   "cell_type": "markdown",
   "id": "608d105b-87ca-4bac-a1b0-254f73297b0d",
   "metadata": {},
   "source": [
    "Now build a query engine using *retriever* and *response_synthesizer*. LlamaIndex also supports different types of [retrievers](https://docs.llamaindex.ai/en/stable/api_reference/query/retrievers.html) and [response modes](https://docs.llamaindex.ai/en/stable/module_guides/querying/response_synthesizers/root.html#configuring-the-response-mode) for various use-cases.\n",
    "\n",
    "[Weaviate hybrid search](https://weaviate.io/blog/hybrid-search-explained) explains how dense and sparse search is combined."
   ]
  },
  {
   "cell_type": "code",
   "execution_count": 15,
   "id": "ce527d9f-9f18-444a-ab77-b110a5277a1c",
   "metadata": {},
   "outputs": [],
   "source": [
    "def set_query_engine_args(rag_cfg, docs):\n",
    "    query_engine_args = {\n",
    "        \"similarity_top_k\": rag_cfg['retriever_similarity_top_k'], \n",
    "        \"response_mode\": rag_cfg['response_mode'],\n",
    "        \"use_reranker\": False,\n",
    "    }\n",
    "    \n",
    "    if (rag_cfg[\"retriever_type\"] == \"vector_index\") and (rag_cfg[\"vector_db_type\"] == \"weaviate\"):\n",
    "        query_engine_args.update({\n",
    "            \"query_mode\": rag_cfg[\"query_mode\"], \n",
    "            \"hybrid_search_alpha\": rag_cfg[\"hybrid_search_alpha\"]\n",
    "        })\n",
    "    elif rag_cfg[\"retriever_type\"] == \"bm25\":\n",
    "        nodes = Settings.text_splitter.get_nodes_from_documents(docs)\n",
    "        tokenizer = Settings.embed_model._tokenizer\n",
    "        query_engine_args.update({\"nodes\": nodes, \"tokenizer\": tokenizer})\n",
    "        \n",
    "    if rag_cfg[\"use_reranker\"]:\n",
    "        query_engine_args.update({\"use_reranker\": True, \"rerank_top_k\": rag_cfg[\"rerank_top_k\"]})\n",
    "\n",
    "    return query_engine_args"
   ]
  },
  {
   "cell_type": "code",
   "execution_count": 16,
   "id": "f47bc0bd-3d83-4dce-b488-38806eed654f",
   "metadata": {},
   "outputs": [
    {
     "name": "stdout",
     "output_type": "stream",
     "text": [
      "{'hybrid_search_alpha': 0.0,\n",
      " 'query_mode': 'hybrid',\n",
      " 'response_mode': 'compact',\n",
      " 'similarity_top_k': 5,\n",
      " 'use_reranker': False}\n"
     ]
    }
   ],
   "source": [
    "query_engine_args = set_query_engine_args(rag_cfg, docs)\n",
    "pprint(query_engine_args)"
   ]
  },
  {
   "cell_type": "code",
   "execution_count": 17,
   "id": "5502edfd-75d0-4b48-b75d-46e6adf9447d",
   "metadata": {},
   "outputs": [],
   "source": [
    "query_engine = RAGQueryEngine(\n",
    "    retriever_type=rag_cfg['retriever_type'],\n",
    "    vector_index=index,\n",
    ").create(**query_engine_args)"
   ]
  },
  {
   "cell_type": "markdown",
   "id": "9e6df972-2515-4968-9ea9-e2604f6ab82a",
   "metadata": {},
   "source": [
    "## STAGE 5 - Finally query the model !\n",
    "**Note:** We are using keyword based search or sparse search since *hybrid_search_alpha* is set to 0.0 by default."
   ]
  },
  {
   "cell_type": "markdown",
   "id": "ffaa9ea9-a3c9-4205-b050-d347a9f425dd",
   "metadata": {},
   "source": [
    "#### [TODO] Change seed to experiment with a different sample"
   ]
  },
  {
   "cell_type": "code",
   "execution_count": 18,
   "id": "725791c9-371b-43d5-9d5f-9de5d01e04f0",
   "metadata": {},
   "outputs": [],
   "source": [
    "random.seed(237)"
   ]
  },
  {
   "cell_type": "code",
   "execution_count": 19,
   "id": "bd7abee9-59f7-481b-a644-45c107d10686",
   "metadata": {},
   "outputs": [
    {
     "name": "stdout",
     "output_type": "stream",
     "text": [
      "{'answer': ['no'],\n",
      " 'context': 'Human immunodeficiency virus (HIV)-infected patients have '\n",
      "            'generally been excluded from transplantation. Recent advances in '\n",
      "            'the management and prognosis of these patients suggest that this '\n",
      "            'policy should be reevaluated. To explore the current views of '\n",
      "            'U.S. transplant centers toward transplanting asymptomatic '\n",
      "            'HIV-infected patients with end-stage renal disease, a written '\n",
      "            'survey was mailed to the directors of transplantation at all 248 '\n",
      "            'renal transplant centers in the United States. All 148 responding '\n",
      "            'centers said they require HIV testing of prospective kidney '\n",
      "            'recipients, and 84% of these centers would not transplant an '\n",
      "            'individual who refuses HIV testing. The vast majority of '\n",
      "            'responding centers would not transplant a kidney from a cadaveric '\n",
      "            '(88%) or a living donor (91%) into an asymptomatic HIV-infected '\n",
      "            'patient who is otherwise a good candidate for transplantation. '\n",
      "            'Among the few centers that would consider transplanting an '\n",
      "            'HIV-infected patient, not a single center had performed such a '\n",
      "            'transplant in the year prior to the survey. Most centers fear '\n",
      "            'that transplantation in the face of HIV infection would be '\n",
      "            'harmful to the individual, and some believe that it would be a '\n",
      "            'waste of precious organs.',\n",
      " 'id': '9603166',\n",
      " 'long_answer': 'The great majority of U.S. renal transplant centers will not '\n",
      "                'transplant kidneys to HIV-infected patients with end-stage '\n",
      "                'renal disease, even if their infection is asymptomatic. '\n",
      "                'However, advances in the management of HIV infection and a '\n",
      "                'review of relevant ethical issues suggest that this approach '\n",
      "                'should be reconsidered.',\n",
      " 'question': 'Should all human immunodeficiency virus-infected patients with '\n",
      "             'end-stage renal disease be excluded from transplantation?'}\n"
     ]
    }
   ],
   "source": [
    "sample_idx = random.randint(0, len(pubmed_data)-1)\n",
    "sample_elm = pubmed_data[sample_idx]\n",
    "pprint(sample_elm)"
   ]
  },
  {
   "cell_type": "code",
   "execution_count": 20,
   "id": "8279db69-6525-401a-b39c-69f6b83cb0af",
   "metadata": {
    "scrolled": true
   },
   "outputs": [
    {
     "name": "stdout",
     "output_type": "stream",
     "text": [
      "QUERY: Should all human immunodeficiency virus-infected patients with end-stage renal disease be excluded from transplantation?\n",
      "\n",
      "RESPONSE:\n",
      "-------------------------\n",
      "Based on the context information, the vast majority of responding centers (88% for cadaveric donors and 91% for living donors) would not transplant a kidney into an asymptomatic HIV-infected patient who is otherwise a good candidate for transplantation. This suggests that the prevailing view among U.S. transplant centers is that HIV-infected patients with end-stage renal disease should be excluded from transplantation. However, the text also mentions that recent advances in the management and prognosis of HIV-infected patients suggest that this policy should be reevaluated.\n",
      "\n",
      "Therefore, considering the current views of U.S. transplant centers, the answer to the query is: no.\n",
      "-------------------------\n",
      "\n",
      "YES/NO: no\n",
      "\n",
      "GT ANSWER: no\n",
      "\n",
      "GT LONG ANSWER:\n",
      "-------------------------\n",
      "The great majority of U.S. renal transplant centers will not transplant kidneys to HIV-infected patients with end-stage renal disease, even if their infection is asymptomatic. However, advances in the management of HIV infection and a review of relevant ethical issues suggest that this approach should be reconsidered.\n",
      "-------------------------\n"
     ]
    }
   ],
   "source": [
    "query = sample_elm['question']\n",
    "\n",
    "response = query_engine.query(query)\n",
    "\n",
    "delim = \"\".join([\"-\"]*25)\n",
    "print(f'QUERY: {query}\\n')\n",
    "print(f'RESPONSE:\\n{delim}\\n{response.response}\\n{delim}\\n')\n",
    "print(f'YES/NO: {extract_yes_no(response.response)}\\n')\n",
    "print(f'GT ANSWER: {sample_elm[\"answer\"][0]}\\n')\n",
    "print(f'GT LONG ANSWER:\\n{delim}\\n{sample_elm[\"long_answer\"]}\\n{delim}')"
   ]
  },
  {
   "cell_type": "markdown",
   "id": "a1808e94-337b-4e4b-9637-2b79746ddddc",
   "metadata": {},
   "source": [
    "#### [OPTIONAL] [Ragas](https://docs.ragas.io/en/latest/) evaluation\n",
    "Following are the commonly used metrics for evaluating a RAG workflow:\n",
    "* [Faithfulness](https://docs.ragas.io/en/latest/concepts/metrics/available_metrics/faithfulness/): Measures the factual correctness of the generated answer based on the retrived context. Value lies between 0 and 1. **Evaluated using a LLM.**\n",
    "* [Answer Relevance](https://docs.ragas.io/en/latest/concepts/metrics/available_metrics/answer_relevance/): Measures how relevant the answer is to the given query. Value lies between 0 and 1. **Evaluated using a LLM.**\n",
    "* [Context Precision](https://docs.ragas.io/en/latest/concepts/metrics/available_metrics/context_precision/): Precision of the retriever as measured using the retrieved and the ground truth context. Value lies between 0 and 1. LLM can be used for evaluation.\n",
    "* [Context Recall](https://docs.ragas.io/en/latest/concepts/metrics/available_metrics/context_recall/): Recall of the retriever as measured using the retrieved and the ground truth context. Value lies between 0 and 1. LLM can be used for evaluation."
   ]
  },
  {
   "cell_type": "markdown",
   "id": "c14877b8-e764-4e1b-b450-c29381567d44",
   "metadata": {},
   "source": [
    "Note: If you are planning to use **OpenAI models as evaluation LLMs**, store your OpenAI API key in ```~/.ragas_openai.env``` using the following format:\n",
    "\n",
    "```bash\n",
    "   export RAGAS_OPENAI_BASE_URL=\"https://api.openai.com/v1\"\n",
    "   export RAGAS_OPENAI_API_KEY=<openai_api_key>\n",
    "```\n",
    "\n",
    "Once done, **uncomment the next cell** to load these environment variables"
   ]
  },
  {
   "cell_type": "code",
   "execution_count": 21,
   "id": "4eb7ac22-3b60-465f-9226-f0db639ddf2a",
   "metadata": {},
   "outputs": [],
   "source": [
    "# from utils.load_secrets import load_env_file_ragas\n",
    "# load_env_file_ragas()"
   ]
  },
  {
   "cell_type": "code",
   "execution_count": 22,
   "id": "2bdb6372-9364-4bd3-9b81-bf403f0bc006",
   "metadata": {},
   "outputs": [
    {
     "name": "stdout",
     "output_type": "stream",
     "text": [
      "[{'reference': 'The great majority of U.S. renal transplant centers will not '\n",
      "               'transplant kidneys to HIV-infected patients with end-stage '\n",
      "               'renal disease, even if their infection is asymptomatic. '\n",
      "               'However, advances in the management of HIV infection and a '\n",
      "               'review of relevant ethical issues suggest that this approach '\n",
      "               'should be reconsidered.',\n",
      "  'reference_contexts': ['Human immunodeficiency virus (HIV)-infected patients '\n",
      "                         'have generally been excluded from transplantation. '\n",
      "                         'Recent advances in the management and prognosis of '\n",
      "                         'these patients suggest that this policy should be '\n",
      "                         'reevaluated. To explore the current views of U.S. '\n",
      "                         'transplant centers toward transplanting asymptomatic '\n",
      "                         'HIV-infected patients with end-stage renal disease, '\n",
      "                         'a written survey was mailed to the directors of '\n",
      "                         'transplantation at all 248 renal transplant centers '\n",
      "                         'in the United States. All 148 responding centers '\n",
      "                         'said they require HIV testing of prospective kidney '\n",
      "                         'recipients, and 84% of these centers would not '\n",
      "                         'transplant an individual who refuses HIV testing. '\n",
      "                         'The vast majority of responding centers would not '\n",
      "                         'transplant a kidney from a cadaveric (88%) or a '\n",
      "                         'living donor (91%) into an asymptomatic HIV-infected '\n",
      "                         'patient who is otherwise a good candidate for '\n",
      "                         'transplantation. Among the few centers that would '\n",
      "                         'consider transplanting an HIV-infected patient, not '\n",
      "                         'a single center had performed such a transplant in '\n",
      "                         'the year prior to the survey. Most centers fear that '\n",
      "                         'transplantation in the face of HIV infection would '\n",
      "                         'be harmful to the individual, and some believe that '\n",
      "                         'it would be a waste of precious organs.'],\n",
      "  'response': 'Based on the context information, the vast majority of '\n",
      "              'responding centers (88% for cadaveric donors and 91% for living '\n",
      "              'donors) would not transplant a kidney into an asymptomatic '\n",
      "              'HIV-infected patient who is otherwise a good candidate for '\n",
      "              'transplantation. This suggests that the prevailing view among '\n",
      "              'U.S. transplant centers is that HIV-infected patients with '\n",
      "              'end-stage renal disease should be excluded from '\n",
      "              'transplantation. However, the text also mentions that recent '\n",
      "              'advances in the management and prognosis of HIV-infected '\n",
      "              'patients suggest that this policy should be reevaluated.\\n'\n",
      "              '\\n'\n",
      "              'Therefore, considering the current views of U.S. transplant '\n",
      "              'centers, the answer to the query is: no.',\n",
      "  'retrieved_contexts': ['Human immunodeficiency virus (HIV)-infected patients '\n",
      "                         'have generally been excluded from transplantation. '\n",
      "                         'Recent advances in the management and prognosis of '\n",
      "                         'these patients suggest that this policy should be '\n",
      "                         'reevaluated. To explore the current views of U.S. '\n",
      "                         'transplant centers toward transplanting asymptomatic '\n",
      "                         'HIV-infected patients with end-stage renal disease, '\n",
      "                         'a written survey was mailed to the directors of '\n",
      "                         'transplantation at all 248 renal transplant centers '\n",
      "                         'in the United States. All 148 responding centers '\n",
      "                         'said they require HIV testing of prospective kidney '\n",
      "                         'recipients, and 84% of these centers would not '\n",
      "                         'transplant an individual who refuses HIV testing. '\n",
      "                         'The vast majority of responding centers would not '\n",
      "                         'transplant a kidney from a cadaveric (88%) or a '\n",
      "                         'living donor (91%) into an asymptomatic HIV-infected '\n",
      "                         'patient who is otherwise a good candidate for '\n",
      "                         'transplantation. Among the few centers that would '\n",
      "                         'consider transplanting an HIV-infected patient, not '\n",
      "                         'a single center had performed such a transplant in '\n",
      "                         'the year prior to the survey. Most centers fear that '\n",
      "                         'transplantation in the face of HIV infection would '\n",
      "                         'be harmful to the individual, and some believe that '\n",
      "                         'it would be a waste of precious organs.',\n",
      "                         'At least one marker of hepatitis G virus infection '\n",
      "                         '(hepatitis G virus-RNA and/or anti-hepatitis G '\n",
      "                         'virus, mostly mutually exclusive) was present in 6 '\n",
      "                         'out of 23 patients with cryptogenic hepatitis and 16 '\n",
      "                         'out of 40 with hepatitis C virus liver disease (26. '\n",
      "                         '1% vs 40% p=ns). T virus-DNA was present in serum in '\n",
      "                         '3 subjects, 1 with cryptogenic and 2 with hepatitis '\n",
      "                         'C virus-related chronic liver disease. Demographic '\n",
      "                         'and clinical features, including stage and grade of '\n",
      "                         'liver histology, were comparable between hepatitis G '\n",
      "                         'virus-infected and uninfected subjects. Severe liver '\n",
      "                         'damage [chronic hepatitis with fibrosis or '\n",
      "                         'cirrhosis) were significantly more frequent in '\n",
      "                         'subjects with hepatitis C virus liver disease.',\n",
      "                         'Hepatitis G virus can cause chronic infection in man '\n",
      "                         'but the role of this agent in chronic liver disease '\n",
      "                         'is poorly understood. Little is known about the '\n",
      "                         'relation of another newly discovered agent, the TT '\n",
      "                         'virus, with chronic liver disease.AIM: To '\n",
      "                         'investigate the rate of infection with hepatitis G '\n",
      "                         'virus and TT virus in patients with cryptogenic '\n",
      "                         'chronic liver disease. A total of 23 subjects with '\n",
      "                         'chronically raised alanine transaminase and a liver '\n",
      "                         'biopsy in whom all known causes of liver disease had '\n",
      "                         'been excluded, and 40 subjects with hepatitis C '\n",
      "                         'virus-related chronic liver disease. Evaluation of '\n",
      "                         'anti-hepatitis G virus by enzyme immunoassay. '\n",
      "                         'Hepatitis G virus-RNA by polymerase chain reaction '\n",
      "                         \"with primers from the 5' NC and NS5a regions. TT \"\n",
      "                         'virus-DNA by nested polymerase chain reaction with '\n",
      "                         'primers from the ORF1 region. Results. Hepatitis G '\n",
      "                         'virus-RNA was detected in 4 out of 23 patients with '\n",
      "                         'cryptogenic chronic hepatitis and in 6 out of 40 '\n",
      "                         'with hepatitis C virus chronic hepatitis (17.4% vs '\n",
      "                         '15% p=ns).',\n",
      "                         'A higher prevalence of cardiovascular risk factors '\n",
      "                         '(CRFs) in HIV-infected patients, together with '\n",
      "                         'chronic infection and treatments, has resulted in an '\n",
      "                         'increased risk of silent myocardial ischaemia (SMI). '\n",
      "                         'The objective of this study was to evaluate whether '\n",
      "                         'myocardial SPECT should be used for screening '\n",
      "                         'HIV-infected patients with no clinical symptoms of '\n",
      "                         'coronary artery disease. The prevalence of SMI '\n",
      "                         'detected by myocardial SPECT was determined in 94 '\n",
      "                         'HIV-infected patients with a normal clinical '\n",
      "                         'cardiovascular examination in relation to '\n",
      "                         'anthropomorphic parameters, CRFs, inflammatory and '\n",
      "                         'HIV infection status, and treatment. Coronary artery '\n",
      "                         'disease was detected in nine patients (eight with '\n",
      "                         'ischaemia, one with myocardial infarction), '\n",
      "                         'corresponding to 9.6 % positivity. All but two of '\n",
      "                         'the scintigraphic diagnoses of ischaemia were '\n",
      "                         'confirmed by coronarography. Univariate analysis '\n",
      "                         'revealed that the overall number of CRFs and the '\n",
      "                         'combination of gender and age were associated with a '\n",
      "                         'diagnosis of SMI (p<0.05). According to multivariate '\n",
      "                         'analysis, the only independent parameter '\n",
      "                         'significantly associated with the scintigraphic '\n",
      "                         'diagnosis of SMI was the combination of gender and '\n",
      "                         'age (p = 0.01).',\n",
      "                         'Hepatorenal syndrome (HRS) is the functional renal '\n",
      "                         'failure associated with advanced cirrhosis and has '\n",
      "                         'also been described in fulminant hepatic failure. '\n",
      "                         'Without liver transplantation its prognosis is '\n",
      "                         'dismal. Our study included patients with type 1 HRS '\n",
      "                         'associated with cirrhosis, who were not liver '\n",
      "                         'transplant candidates.AIM: To identify variables '\n",
      "                         'associated with improved survival. Sixty-eight '\n",
      "                         'patients fulfilled the revised Ascites Club Criteria '\n",
      "                         'for type 1 HRS. None of them was suitable for liver '\n",
      "                         'transplantation. All the patients were treated with '\n",
      "                         'combinations of: albumin, midodrine and octreotide, '\n",
      "                         'pressors, and hemodialysis. Median survival was 13 '\n",
      "                         'days for the whole group. Survival varied with the '\n",
      "                         'end-stage liver disease (ESLD) etiology: autoimmune, '\n",
      "                         '49 days, cardiac cirrhosis, 22 days, idiopathic, '\n",
      "                         '15.5 days, viral, 15 days, hepatitis C and alcohol, '\n",
      "                         '14.5 days, alcohol 8 days, and neoplasia 4 days (p = '\n",
      "                         '0.048). Survival of HRS associated with alcoholic '\n",
      "                         'liver disease versus other etiologies was not '\n",
      "                         'statistically significant (p = 0.1).'],\n",
      "  'user_input': 'Should all human immunodeficiency virus-infected patients '\n",
      "                'with end-stage renal disease be excluded from '\n",
      "                'transplantation?'}]\n"
     ]
    }
   ],
   "source": [
    "retrieved_nodes = query_engine.retriever.retrieve(query)\n",
    "\n",
    "eval_data = [dict({\n",
    "    \"user_input\": query,\n",
    "    \"response\": response.response,\n",
    "    \"retrieved_contexts\": [node.text for node in retrieved_nodes],\n",
    "    \"reference\": sample_elm['long_answer'],\n",
    "    \"reference_contexts\": [sample_elm[\"context\"]],\n",
    "})]\n",
    "pprint(eval_data)"
   ]
  },
  {
   "cell_type": "code",
   "execution_count": 23,
   "id": "ed0582ac-b840-457d-86eb-4aa9d8fc43de",
   "metadata": {},
   "outputs": [],
   "source": [
    "eval_obj = RagasEval(\n",
    "    metrics=[\"faithfulness\", \"relevancy\", \"recall\", \"precision\"],\n",
    "    eval_llm_type=rag_cfg[\"eval_llm_type\"],\n",
    "    eval_llm_name=rag_cfg[\"eval_llm_name\"],\n",
    "    embed_model_name=rag_cfg['embed_model_name'],\n",
    "    max_tokens=1024,\n",
    ")"
   ]
  },
  {
   "cell_type": "code",
   "execution_count": 24,
   "id": "65d26888-6b7b-4a41-9dac-9c242554a136",
   "metadata": {},
   "outputs": [
    {
     "name": "stderr",
     "output_type": "stream",
     "text": [
      "/fs01/projects/aieng/public/rag_bootcamp/envs/rag_pubmed_qa/lib/python3.10/site-packages/ragas/_analytics.py:72: ResourceWarning: unclosed file <_io.TextIOWrapper name='/h/odige/.local/share/ragas/uuid.json' mode='r' encoding='UTF-8'>\n",
      "  user_id = json.load(open(uuid_filepath))[\"userid\"]\n",
      "ResourceWarning: Enable tracemalloc to get the object allocation traceback\n"
     ]
    },
    {
     "data": {
      "application/vnd.jupyter.widget-view+json": {
       "model_id": "7bc524664b4a43979c8bcc883d9dfec6",
       "version_major": 2,
       "version_minor": 0
      },
      "text/plain": [
       "Evaluating:   0%|          | 0/4 [00:00<?, ?it/s]"
      ]
     },
     "metadata": {},
     "output_type": "display_data"
    },
    {
     "name": "stdout",
     "output_type": "stream",
     "text": [
      "{'faithfulness': 0.8000, 'answer_relevancy': 0.9749, 'non_llm_context_recall': 1.0000, 'non_llm_context_precision_with_reference': 1.0000}\n"
     ]
    }
   ],
   "source": [
    "eval_result = eval_obj.evaluate(eval_data)\n",
    "pprint(eval_result)"
   ]
  },
  {
   "cell_type": "markdown",
   "id": "dfe5bcc7-900b-4939-aa71-65385b5c765c",
   "metadata": {},
   "source": [
    "### 5.1 - Dense Search\n",
    "Set *hybrid_search_alpha* to 1.0 for dense vector search."
   ]
  },
  {
   "cell_type": "code",
   "execution_count": 25,
   "id": "131eaa05-ae98-481c-9967-cc6c74b9d383",
   "metadata": {},
   "outputs": [],
   "source": [
    "rag_cfg[\"hybrid_search_alpha\"] = 1.0"
   ]
  },
  {
   "cell_type": "code",
   "execution_count": 26,
   "id": "9fba7d70-0bd7-42b7-ba52-f1924e96b338",
   "metadata": {},
   "outputs": [
    {
     "name": "stdout",
     "output_type": "stream",
     "text": [
      "{'hybrid_search_alpha': 1.0,\n",
      " 'query_mode': 'hybrid',\n",
      " 'response_mode': 'compact',\n",
      " 'similarity_top_k': 5,\n",
      " 'use_reranker': False}\n",
      "\n",
      "\n",
      "QUERY: Should all human immunodeficiency virus-infected patients with end-stage renal disease be excluded from transplantation?\n",
      "\n",
      "RESPONSE:\n",
      "-------------------------\n",
      "Based on the context information, it seems that the current views of U.S. transplant centers are generally against transplanting asymptomatic HIV-infected patients with end-stage renal disease. The survey mentioned in the first text indicates that the vast majority of responding centers would not transplant a kidney from a cadaveric or living donor into an asymptomatic HIV-infected patient who is otherwise a good candidate for transplantation. This suggests that the prevailing opinion is to exclude HIV-infected patients with end-stage renal disease from transplantation, at least for now.\n",
      "\n",
      "However, the context also mentions that recent advances in the management and prognosis of HIV-infected patients suggest that this policy should be reevaluated. This implies that there may be a need to reconsider the exclusion of HIV-infected patients from transplantation, especially as our understanding of HIV and its treatment continues to evolve.\n",
      "\n",
      "Therefore, based on the current views of U.S. transplant centers, the answer to the query is: no.\n",
      "-------------------------\n",
      "\n",
      "YES/NO: no\n",
      "\n",
      "GT ANSWER: no\n",
      "\n",
      "GT LONG ANSWER:\n",
      "-------------------------\n",
      "The great majority of U.S. renal transplant centers will not transplant kidneys to HIV-infected patients with end-stage renal disease, even if their infection is asymptomatic. However, advances in the management of HIV infection and a review of relevant ethical issues suggest that this approach should be reconsidered.\n",
      "-------------------------\n"
     ]
    }
   ],
   "source": [
    "# Recreate query engine\n",
    "query_engine_args = set_query_engine_args(rag_cfg, docs)\n",
    "pprint(query_engine_args)\n",
    "query_engine = RAGQueryEngine(\n",
    "    retriever_type=rag_cfg['retriever_type'],\n",
    "    vector_index=index\n",
    ").create(**query_engine_args)\n",
    "\n",
    "# Get response\n",
    "response = query_engine.query(query)\n",
    "\n",
    "# Print response\n",
    "print(f'\\n\\nQUERY: {query}\\n')\n",
    "print(f'RESPONSE:\\n{delim}\\n{response.response}\\n{delim}\\n')\n",
    "print(f'YES/NO: {extract_yes_no(response.response)}\\n')\n",
    "print(f'GT ANSWER: {sample_elm[\"answer\"][0]}\\n')\n",
    "print(f'GT LONG ANSWER:\\n{delim}\\n{sample_elm[\"long_answer\"]}\\n{delim}')"
   ]
  },
  {
   "cell_type": "markdown",
   "id": "893b4da5-2391-49ca-bbe6-ed7f2433faa5",
   "metadata": {},
   "source": [
    "#### [OPTIONAL] Ragas evaluation"
   ]
  },
  {
   "cell_type": "code",
   "execution_count": 27,
   "id": "78b240d3-2b09-4c28-8c20-6d9be47dc963",
   "metadata": {},
   "outputs": [
    {
     "data": {
      "application/vnd.jupyter.widget-view+json": {
       "model_id": "05ca64f306274d679859d7e8bd4abcb6",
       "version_major": 2,
       "version_minor": 0
      },
      "text/plain": [
       "Evaluating:   0%|          | 0/4 [00:00<?, ?it/s]"
      ]
     },
     "metadata": {},
     "output_type": "display_data"
    },
    {
     "name": "stderr",
     "output_type": "stream",
     "text": [
      "Exception raised in Job[0]: LLMDidNotFinishException(The LLM generation was not completed. Please increase try increasing the max_tokens and try again.)\n"
     ]
    },
    {
     "name": "stdout",
     "output_type": "stream",
     "text": [
      "{'faithfulness': nan, 'answer_relevancy': 0.8393, 'non_llm_context_recall': 1.0000, 'non_llm_context_precision_with_reference': 1.0000}\n"
     ]
    }
   ],
   "source": [
    "retrieved_nodes = query_engine.retriever.retrieve(query)\n",
    "\n",
    "eval_data = [dict({\n",
    "    \"user_input\": query,\n",
    "    \"response\": response.response,\n",
    "    \"retrieved_contexts\": [node.text for node in retrieved_nodes],\n",
    "    \"reference\": sample_elm['long_answer'],\n",
    "    \"reference_contexts\": [sample_elm[\"context\"]],\n",
    "})]\n",
    "\n",
    "eval_result = eval_obj.evaluate(eval_data)\n",
    "pprint(eval_result)"
   ]
  },
  {
   "cell_type": "markdown",
   "id": "69911c71-1639-4ed8-86cb-85abbbc15467",
   "metadata": {},
   "source": [
    "### 5.2 - Hybrid Search\n",
    "Set *hybrid_search_alpha* to 0.5 for hybrid search with equal weightage for dense and sparse (keyword-based) search."
   ]
  },
  {
   "cell_type": "code",
   "execution_count": 28,
   "id": "6a526b44-5473-4850-9209-7f9b9446f5b3",
   "metadata": {},
   "outputs": [],
   "source": [
    "rag_cfg[\"hybrid_search_alpha\"] = 0.5"
   ]
  },
  {
   "cell_type": "code",
   "execution_count": 29,
   "id": "bf513126-01fe-4f6f-b18a-b6c5224f07e0",
   "metadata": {},
   "outputs": [
    {
     "name": "stdout",
     "output_type": "stream",
     "text": [
      "{'hybrid_search_alpha': 0.5,\n",
      " 'query_mode': 'hybrid',\n",
      " 'response_mode': 'compact',\n",
      " 'similarity_top_k': 5,\n",
      " 'use_reranker': False}\n",
      "\n",
      "\n",
      "QUERY: Should all human immunodeficiency virus-infected patients with end-stage renal disease be excluded from transplantation?\n",
      "\n",
      "RESPONSE:\n",
      "-------------------------\n",
      "No\n",
      "\n",
      "The context information suggests that recent advances in the management and prognosis of HIV-infected patients have led to a reevaluation of the policy of excluding them from transplantation. While the majority of transplant centers surveyed would not transplant a kidney from a cadaveric or living donor into an asymptomatic HIV-infected patient, the reasons cited are largely based on fear of harm to the individual and the potential waste of precious organs, rather than any conclusive evidence that transplantation would be contraindicated. This implies that the policy of exclusion may be overly cautious and that individual cases should be considered on a case-by-case basis.\n",
      "-------------------------\n",
      "\n",
      "YES/NO: No\n",
      "\n",
      "GT ANSWER: no\n",
      "\n",
      "GT LONG ANSWER:\n",
      "-------------------------\n",
      "The great majority of U.S. renal transplant centers will not transplant kidneys to HIV-infected patients with end-stage renal disease, even if their infection is asymptomatic. However, advances in the management of HIV infection and a review of relevant ethical issues suggest that this approach should be reconsidered.\n",
      "-------------------------\n"
     ]
    }
   ],
   "source": [
    "# Recreate query engine\n",
    "query_engine_args = set_query_engine_args(rag_cfg, docs)\n",
    "pprint(query_engine_args)\n",
    "query_engine = RAGQueryEngine(\n",
    "    retriever_type=rag_cfg['retriever_type'],\n",
    "    vector_index=index\n",
    ").create(**query_engine_args)\n",
    "\n",
    "# Get response\n",
    "response = query_engine.query(query)\n",
    "\n",
    "# Print response\n",
    "print(f'\\n\\nQUERY: {query}\\n')\n",
    "print(f'RESPONSE:\\n{delim}\\n{response.response}\\n{delim}\\n')\n",
    "print(f'YES/NO: {extract_yes_no(response.response)}\\n')\n",
    "print(f'GT ANSWER: {sample_elm[\"answer\"][0]}\\n')\n",
    "print(f'GT LONG ANSWER:\\n{delim}\\n{sample_elm[\"long_answer\"]}\\n{delim}')"
   ]
  },
  {
   "cell_type": "markdown",
   "id": "028e7abc-1fbd-4d66-a724-dddba4733721",
   "metadata": {},
   "source": [
    "#### [OPTIONAL] Ragas evaluation"
   ]
  },
  {
   "cell_type": "code",
   "execution_count": 30,
   "id": "03197082-eb44-46d7-b982-816f8811560f",
   "metadata": {},
   "outputs": [
    {
     "data": {
      "application/vnd.jupyter.widget-view+json": {
       "model_id": "ac4f16c68e8f44caafce4c57feda7666",
       "version_major": 2,
       "version_minor": 0
      },
      "text/plain": [
       "Evaluating:   0%|          | 0/4 [00:00<?, ?it/s]"
      ]
     },
     "metadata": {},
     "output_type": "display_data"
    },
    {
     "name": "stdout",
     "output_type": "stream",
     "text": [
      "{'faithfulness': 0.5714, 'answer_relevancy': 0.9438, 'non_llm_context_recall': 1.0000, 'non_llm_context_precision_with_reference': 1.0000}\n"
     ]
    }
   ],
   "source": [
    "retrieved_nodes = query_engine.retriever.retrieve(query)\n",
    "\n",
    "eval_data = [dict({\n",
    "    \"user_input\": query,\n",
    "    \"response\": response.response,\n",
    "    \"retrieved_contexts\": [node.text for node in retrieved_nodes],\n",
    "    \"reference\": sample_elm['long_answer'],\n",
    "    \"reference_contexts\": [sample_elm[\"context\"]],\n",
    "})]\n",
    "\n",
    "eval_result = eval_obj.evaluate(eval_data)\n",
    "pprint(eval_result)"
   ]
  },
  {
   "cell_type": "markdown",
   "id": "17ca6e00-2580-4d98-a832-3fd0f8094e1a",
   "metadata": {},
   "source": [
    "### 5.3 - Using Re-ranker\n",
    "Set *use_reranker* to *True* to re-rank the context after retrieving it from the vector database."
   ]
  },
  {
   "cell_type": "code",
   "execution_count": 31,
   "id": "acad8e06-e9a1-4d3c-b6e5-fa8bc6b1b8a6",
   "metadata": {},
   "outputs": [],
   "source": [
    "rag_cfg[\"use_reranker\"] = True\n",
    "rag_cfg[\"hybrid_search_alpha\"] = 1.0 # Using dense search"
   ]
  },
  {
   "cell_type": "code",
   "execution_count": 32,
   "id": "6c714b8f-45db-4ab6-9e28-7afa8c8a31ed",
   "metadata": {},
   "outputs": [
    {
     "name": "stdout",
     "output_type": "stream",
     "text": [
      "{'hybrid_search_alpha': 1.0,\n",
      " 'query_mode': 'hybrid',\n",
      " 'rerank_top_k': 3,\n",
      " 'response_mode': 'compact',\n",
      " 'similarity_top_k': 5,\n",
      " 'use_reranker': True}\n",
      "\n",
      "\n",
      "QUERY: Should all human immunodeficiency virus-infected patients with end-stage renal disease be excluded from transplantation?\n",
      "\n",
      "RESPONSE:\n",
      "-------------------------\n",
      "Based on the context information, the answer to the query is no. The survey results indicate that the vast majority of responding centers would not transplant a kidney from a cadaveric (88%) or a living donor (91%) into an asymptomatic HIV-infected patient who is otherwise a good candidate for transplantation. However, this does not necessarily mean that all HIV-infected patients with end-stage renal disease should be excluded from transplantation. The survey results suggest that some centers may consider transplanting an HIV-infected patient, and the authors of the study suggest that the policy of excluding HIV-infected patients from transplantation should be reevaluated. Therefore, the answer to the query is no, as it implies an absolute exclusion, which is not supported by the survey results.\n",
      "-------------------------\n",
      "\n",
      "YES/NO: no\n",
      "\n",
      "GT ANSWER: no\n",
      "\n",
      "GT LONG ANSWER:\n",
      "-------------------------\n",
      "The great majority of U.S. renal transplant centers will not transplant kidneys to HIV-infected patients with end-stage renal disease, even if their infection is asymptomatic. However, advances in the management of HIV infection and a review of relevant ethical issues suggest that this approach should be reconsidered.\n",
      "-------------------------\n"
     ]
    }
   ],
   "source": [
    "# Recreate query engine\n",
    "query_engine_args = set_query_engine_args(rag_cfg, docs)\n",
    "pprint(query_engine_args)\n",
    "query_engine = RAGQueryEngine(\n",
    "    retriever_type=rag_cfg['retriever_type'],\n",
    "    vector_index=index\n",
    ").create(**query_engine_args)\n",
    "\n",
    "# Get response\n",
    "response = query_engine.query(query)\n",
    "\n",
    "# Print response\n",
    "print(f'\\n\\nQUERY: {query}\\n')\n",
    "print(f'RESPONSE:\\n{delim}\\n{response.response}\\n{delim}\\n')\n",
    "print(f'YES/NO: {extract_yes_no(response.response)}\\n')\n",
    "print(f'GT ANSWER: {sample_elm[\"answer\"][0]}\\n')\n",
    "print(f'GT LONG ANSWER:\\n{delim}\\n{sample_elm[\"long_answer\"]}\\n{delim}')"
   ]
  },
  {
   "cell_type": "markdown",
   "id": "2b6f4714-ee80-46ba-bf14-ec4762f70a08",
   "metadata": {},
   "source": [
    "#### [OPTIONAL] Ragas evaluation"
   ]
  },
  {
   "cell_type": "code",
   "execution_count": 33,
   "id": "8e43ba3a-6824-4246-8df9-3e9ce7efa5b1",
   "metadata": {},
   "outputs": [
    {
     "data": {
      "application/vnd.jupyter.widget-view+json": {
       "model_id": "3400c7a1dc3f4bd0bf2cde1a6e1a2fc9",
       "version_major": 2,
       "version_minor": 0
      },
      "text/plain": [
       "Evaluating:   0%|          | 0/4 [00:00<?, ?it/s]"
      ]
     },
     "metadata": {},
     "output_type": "display_data"
    },
    {
     "name": "stdout",
     "output_type": "stream",
     "text": [
      "{'faithfulness': 0.8182, 'answer_relevancy': 0.9831, 'non_llm_context_recall': 1.0000, 'non_llm_context_precision_with_reference': 1.0000}\n"
     ]
    },
    {
     "name": "stderr",
     "output_type": "stream",
     "text": [
      "Traceback (most recent call last):\n",
      "  File \"/pkgs/python-3.10.12/lib/python3.10/runpy.py\", line 196, in _run_module_as_main\n",
      "    return _run_code(code, main_globals, None,\n",
      "  File \"/pkgs/python-3.10.12/lib/python3.10/runpy.py\", line 86, in _run_code\n",
      "    exec(code, run_globals)\n",
      "  File \"/fs01/projects/aieng/public/rag_bootcamp/envs/rag_pubmed_qa/lib/python3.10/site-packages/ipykernel_launcher.py\", line 18, in <module>\n",
      "    app.launch_new_instance()\n",
      "  File \"/fs01/projects/aieng/public/rag_bootcamp/envs/rag_pubmed_qa/lib/python3.10/site-packages/traitlets/config/application.py\", line 1075, in launch_instance\n",
      "    app.start()\n",
      "  File \"/fs01/projects/aieng/public/rag_bootcamp/envs/rag_pubmed_qa/lib/python3.10/site-packages/ipykernel/kernelapp.py\", line 739, in start\n",
      "    self.io_loop.start()\n",
      "  File \"/fs01/projects/aieng/public/rag_bootcamp/envs/rag_pubmed_qa/lib/python3.10/site-packages/tornado/platform/asyncio.py\", line 205, in start\n",
      "    self.asyncio_loop.run_forever()\n",
      "  File \"/pkgs/python-3.10.12/lib/python3.10/asyncio/base_events.py\", line 603, in run_forever\n",
      "    self._run_once()\n",
      "  File \"/pkgs/python-3.10.12/lib/python3.10/asyncio/base_events.py\", line 1894, in _run_once\n",
      "    handle = self._ready.popleft()\n",
      "IndexError: pop from an empty deque\n"
     ]
    }
   ],
   "source": [
    "retrieved_nodes = query_engine.retriever.retrieve(query)\n",
    "\n",
    "eval_data = [dict({\n",
    "    \"user_input\": query,\n",
    "    \"response\": response.response,\n",
    "    \"retrieved_contexts\": [node.text for node in retrieved_nodes],\n",
    "    \"reference\": sample_elm['long_answer'],\n",
    "    \"reference_contexts\": [sample_elm[\"context\"]],\n",
    "})]\n",
    "\n",
    "eval_result = eval_obj.evaluate(eval_data)\n",
    "pprint(eval_result)"
   ]
  }
 ],
 "metadata": {
  "kernelspec": {
   "display_name": "rag_pubmed_qa",
   "language": "python",
   "name": "rag_pubmed_qa"
  },
  "language_info": {
   "codemirror_mode": {
    "name": "ipython",
    "version": 3
   },
   "file_extension": ".py",
   "mimetype": "text/x-python",
   "name": "python",
   "nbconvert_exporter": "python",
   "pygments_lexer": "ipython3",
   "version": "3.10.12"
  }
 },
 "nbformat": 4,
 "nbformat_minor": 5
}
