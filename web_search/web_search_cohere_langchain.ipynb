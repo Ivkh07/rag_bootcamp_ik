{
 "cells": [
  {
   "cell_type": "markdown",
   "id": "3d86f6cd",
   "metadata": {},
   "source": [
    "# Cohere Web Search with Langchain"
   ]
  },
  {
   "cell_type": "markdown",
   "id": "4168e6b6",
   "metadata": {},
   "source": [
    "This example shows how to use the Python [langchain](https://python.langchain.com/docs/get_started/introduction) library to run a text-generation request against [Cohere's](https://cohere.com/) API, then augment that request using the results from a Google web search.\n",
    "\n",
    "**Requirements:**\n",
    "- You will need an access key to Cohere's API key, which you can sign up for at (https://dashboard.cohere.com/welcome/login). A free trial account will suffice, but will be limited to a small number of requests.\n",
    "- After obtaining this key, store it in plain text in your home in directory in the `~/.cohere.key` file."
   ]
  },
  {
   "cell_type": "markdown",
   "id": "22e4da1f",
   "metadata": {},
   "source": [
    "## Set up the RAG workflow environment"
   ]
  },
  {
   "cell_type": "code",
   "execution_count": 1,
   "id": "2f637730",
   "metadata": {},
   "outputs": [],
   "source": [
    "from bs4 import BeautifulSoup\n",
    "from getpass import getpass\n",
    "from googlesearch import search\n",
    "import os\n",
    "from pathlib import Path\n",
    "import requests\n",
    "\n",
    "from langchain.chains import RetrievalQA\n",
    "from langchain.embeddings import HuggingFaceBgeEmbeddings\n",
    "from langchain.llms import Cohere\n",
    "from langchain.retrievers import ContextualCompressionRetriever\n",
    "from langchain.retrievers.document_compressors import CohereRerank\n",
    "from langchain.text_splitter import RecursiveCharacterTextSplitter\n",
    "from langchain.vectorstores import FAISS"
   ]
  },
  {
   "cell_type": "markdown",
   "id": "12ecf9ac",
   "metadata": {},
   "source": [
    "Set up some helper functions:"
   ]
  },
  {
   "cell_type": "code",
   "execution_count": 2,
   "id": "dd4e2417",
   "metadata": {},
   "outputs": [],
   "source": [
    "def pretty_print_docs(docs):\n",
    "    print(\n",
    "        f\"\\n{'-' * 100}\\n\".join(\n",
    "            [f\"Document {i+1}:\\n\\n\" + d.page_content for i, d in enumerate(docs)]\n",
    "        )\n",
    "    )"
   ]
  },
  {
   "cell_type": "markdown",
   "id": "d9edd103",
   "metadata": {},
   "source": [
    "Make sure other necessary items are in place:"
   ]
  },
  {
   "cell_type": "code",
   "execution_count": 3,
   "id": "74b61e4f",
   "metadata": {},
   "outputs": [],
   "source": [
    "try:\n",
    "    os.environ[\"COHERE_API_KEY\"] = open(Path.home() / \".cohere.key\", \"r\").read().strip()\n",
    "except Exception:\n",
    "    print(f\"ERROR: You must have a Cohere API key available in your home directory at ~/.cohere.key\")"
   ]
  },
  {
   "cell_type": "markdown",
   "id": "1e558afb",
   "metadata": {},
   "source": [
    "## Start with a basic generation request without RAG augmentation\n",
    "\n",
    "Let's start by asking the Cohere LLM a question about recent events that it doesn't know about, something that happened after it finished training. At the time I'm writing this notebook in January 2024, Cohere doesn't know who won the last World Series of baseball.\n",
    "\n",
    "**The correct answer is the Texas Rangers won in November 2023.**\n",
    "\n",
    "\"*Who won the 2023 World Series of baseball?*\""
   ]
  },
  {
   "cell_type": "code",
   "execution_count": 4,
   "id": "6133a928",
   "metadata": {},
   "outputs": [],
   "source": [
    "query = \"Who won the 2023 World Series of baseball?\""
   ]
  },
  {
   "cell_type": "markdown",
   "id": "3bccaf41",
   "metadata": {},
   "source": [
    "## Now send the query to Cohere"
   ]
  },
  {
   "cell_type": "code",
   "execution_count": 5,
   "id": "40c2663f",
   "metadata": {},
   "outputs": [
    {
     "name": "stderr",
     "output_type": "stream",
     "text": [
      "/fs01/projects/aieng/public/rag_bootcamp/envs/rag_dataloaders/lib/python3.10/site-packages/langchain_core/_api/deprecation.py:117: LangChainDeprecationWarning: The function `__call__` was deprecated in LangChain 0.1.7 and will be removed in 0.2.0. Use invoke instead.\n",
      "  warn_deprecated(\n",
      "unknown field: parameter model is not a valid field\n"
     ]
    },
    {
     "name": "stdout",
     "output_type": "stream",
     "text": [
      "Result: \n",
      "\n",
      " The Houston Astros won the 2023 World Series of baseball, defeating the Philadelphia Phillies in six games. This was the second time the Astros have won the World Series, having previously won in 2017. \n"
     ]
    }
   ],
   "source": [
    "llm = Cohere()\n",
    "result = llm(query)\n",
    "print(f\"Result: \\n\\n{result}\")"
   ]
  },
  {
   "cell_type": "markdown",
   "id": "e6e1c200",
   "metadata": {},
   "source": [
    "At the best, the Cohere LLM admits that it doesn't know. At worst, it tells a lie and says the Houston Astros won (they won the year before, in 2022).\n",
    "\n",
    "Let's see how we can use RAG to augment our question with a Google wen search and get the correct answer."
   ]
  },
  {
   "cell_type": "markdown",
   "id": "0255ea68",
   "metadata": {},
   "source": [
    "## Ingestion: Do a Google web search with the question"
   ]
  },
  {
   "cell_type": "markdown",
   "id": "ba9d0304",
   "metadata": {},
   "source": [
    "Parse through all the websites returned by a Google search, break them up into smaller digestible chunks, then encode them as vector embeddings."
   ]
  },
  {
   "cell_type": "code",
   "execution_count": 6,
   "id": "5710c72d",
   "metadata": {},
   "outputs": [
    {
     "name": "stdout",
     "output_type": "stream",
     "text": [
      "Number of text chunks: 503\n",
      "\n",
      "Setting up the embeddings model...\n",
      "\n",
      "Done\n"
     ]
    }
   ],
   "source": [
    "# Do a Google web search and parse the results into a big text string\n",
    "result_text = \"\"\n",
    "for result_url in search(query, tld=\"com\", num=10, stop=10, pause=2):\n",
    "    response = requests.get(result_url)\n",
    "    soup = BeautifulSoup(response.content, 'html.parser')\n",
    "    result_text = result_text + soup.get_text()\n",
    "\n",
    "# Split the result text into smaller chunks\n",
    "text_splitter = RecursiveCharacterTextSplitter(chunk_size=1000, chunk_overlap=150)\n",
    "chunks = text_splitter.split_text(result_text)\n",
    "print(f\"Number of text chunks: {len(chunks)}\\n\")\n",
    "\n",
    "# Define Embeddings Model\n",
    "model_name = \"BAAI/bge-small-en-v1.5\"\n",
    "encode_kwargs = {'normalize_embeddings': True} # set True to compute cosine similarity\n",
    "\n",
    "print(f\"Setting up the embeddings model...\\n\")\n",
    "embeddings = HuggingFaceBgeEmbeddings(\n",
    "    model_name=model_name,\n",
    "    model_kwargs={'device': 'cuda'},\n",
    "    encode_kwargs=encode_kwargs\n",
    ")\n",
    "\n",
    "print(\"Done\")"
   ]
  },
  {
   "cell_type": "markdown",
   "id": "b4a7545e",
   "metadata": {},
   "source": [
    "# Retrieval: Make the document chunks available via a retriever"
   ]
  },
  {
   "cell_type": "markdown",
   "id": "01bc16fe",
   "metadata": {},
   "source": [
    "The retriever will identify the document chunks that most closely match our original query. (This takes about 1-2 minutes)"
   ]
  },
  {
   "cell_type": "code",
   "execution_count": 7,
   "id": "1048c42a",
   "metadata": {},
   "outputs": [],
   "source": [
    "vectorstore = FAISS.from_texts(chunks, embeddings)\n",
    "retriever = vectorstore.as_retriever(search_kwargs={\"k\": 20})\n",
    "\n",
    "# Retrieve the most relevant context from the vector store based on the query(No Reranking Applied)\n",
    "docs = retriever.get_relevant_documents(query)"
   ]
  },
  {
   "cell_type": "markdown",
   "id": "8fe1690e",
   "metadata": {},
   "source": [
    "Let's see what results it found. Important to note, these results are in the order the retriever thought were the best matches."
   ]
  },
  {
   "cell_type": "code",
   "execution_count": 8,
   "id": "075ede5c",
   "metadata": {},
   "outputs": [
    {
     "name": "stdout",
     "output_type": "stream",
     "text": [
      "Document 1:\n",
      "\n",
      "The 2023 World Series was the championship series of Major League Baseball's (MLB) 2023 season, and the 119th edition of the World Series. It was a best-of-seven playoff played between the American League (AL) champion Texas Rangers and the National League (NL) champion Arizona Diamondbacks. The series began on October 27 and ended on November 1 with Texas winning in five games. The Rangers won their first World Series title since their founding in 1961. This marked the first time since 1989 in which consecutive championships were won by different teams from the same state.\n",
      "----------------------------------------------------------------------------------------------------\n",
      "Document 2:\n",
      "\n",
      "The 2023 World Series was the championship series of Major League Baseball's (MLB) 2023 season, and the 119th edition of the World Series. It was a best-of-seven playoff played between the American League (AL) champion Texas Rangers and the National League (NL) champion Arizona Diamondbacks. The series began on October 27 and ended on November 1 with Texas winning in five games. The Rangers won their first World Series title since their founding in 1961. This marked the first time since 1989 in which consecutive championships were won by different teams from the same state.\n",
      "----------------------------------------------------------------------------------------------------\n",
      "Document 3:\n",
      "\n",
      "The 2023 World Series was the championship series of Major League Baseball's (MLB) 2023 season, and the 119th edition of the World Series. It was a best-of-seven playoff played between the American League (AL) champion Texas Rangers and the National League (NL) champion Arizona Diamondbacks. The series began on October 27 and ended on November 1 with Texas winning in five games. The Rangers won their first World Series title since their founding in 1961. This marked the first time since 1989 in which consecutive championships were won by different teams from the same state.\n",
      "----------------------------------------------------------------------------------------------------\n",
      "Document 4:\n",
      "\n",
      "The 2023 World Series was the championship series of Major League Baseball's (MLB) 2023 season, and the 119th edition of the World Series. It was a best-of-seven playoff played between the American League (AL) champion Texas Rangers and the National League (NL) champion Arizona Diamondbacks. The series began on October 27 and ended on November 1 with Texas winning in five games. The Rangers won their first World Series title since their founding in 1961. This marked the first time since 1989 in which consecutive championships were won by different teams from the same state.\n",
      "----------------------------------------------------------------------------------------------------\n",
      "Document 5:\n",
      "\n",
      "The 2023 World Series was the championship series of Major League Baseball's (MLB) 2023 season, and the 119th edition of the World Series. It was a best-of-seven playoff played between the American League (AL) champion Texas Rangers and the National League (NL) champion Arizona Diamondbacks. The series began on October 27 and ended on November 1 with Texas winning in five games. The Rangers won their first World Series title since their founding in 1961. This marked the first time since 1989 in which consecutive championships were won by different teams from the same state.\n",
      "----------------------------------------------------------------------------------------------------\n",
      "Document 6:\n",
      "\n",
      "Category\n",
      "\n",
      "\n",
      "\n",
      "\n",
      "\n",
      "Retrieved from \"https://en.wikipedia.org/w/index.php?title=2023_World_Series&oldid=1253253323\"\n",
      "Categories: 2023 Major League Baseball season2023 in sports in Arizona2023 in sports in Texas2023 in Phoenix, Arizona21st century in Arlington, TexasOctober 2023 sports events in the United StatesNovember 2023 sports events in the United StatesBaseball competitions in Arlington, TexasBaseball competitions in Phoenix, ArizonaArizona Diamondbacks postseasonTexas Rangers postseasonWorld SeriesHidden categories: Pages using the JsonConfig extensionArticles with short descriptionShort description is different from WikidataUse mdy dates from November 2023\n",
      "----------------------------------------------------------------------------------------------------\n",
      "Document 7:\n",
      "\n",
      "Category\n",
      "\n",
      "\n",
      "\n",
      "\n",
      "\n",
      "Retrieved from \"https://en.wikipedia.org/w/index.php?title=2023_World_Series&oldid=1253253323\"\n",
      "Categories: 2023 Major League Baseball season2023 in sports in Arizona2023 in sports in Texas2023 in Phoenix, Arizona21st century in Arlington, TexasOctober 2023 sports events in the United StatesNovember 2023 sports events in the United StatesBaseball competitions in Arlington, TexasBaseball competitions in Phoenix, ArizonaArizona Diamondbacks postseasonTexas Rangers postseasonWorld SeriesHidden categories: Pages using the JsonConfig extensionArticles with short descriptionShort description is different from WikidataUse mdy dates from November 2023\n",
      "----------------------------------------------------------------------------------------------------\n",
      "Document 8:\n",
      "\n",
      "Category\n",
      "\n",
      "\n",
      "\n",
      "\n",
      "\n",
      "Retrieved from \"https://en.wikipedia.org/w/index.php?title=2023_World_Series&oldid=1253253323\"\n",
      "Categories: 2023 Major League Baseball season2023 in sports in Arizona2023 in sports in Texas2023 in Phoenix, Arizona21st century in Arlington, TexasOctober 2023 sports events in the United StatesNovember 2023 sports events in the United StatesBaseball competitions in Arlington, TexasBaseball competitions in Phoenix, ArizonaArizona Diamondbacks postseasonTexas Rangers postseasonWorld SeriesHidden categories: Pages using the JsonConfig extensionArticles with short descriptionShort description is different from WikidataUse mdy dates from November 2023\n",
      "----------------------------------------------------------------------------------------------------\n",
      "Document 9:\n",
      "\n",
      "Category\n",
      "\n",
      "\n",
      "\n",
      "\n",
      "\n",
      "Retrieved from \"https://en.wikipedia.org/w/index.php?title=2023_World_Series&oldid=1253253323\"\n",
      "Categories: 2023 Major League Baseball season2023 in sports in Arizona2023 in sports in Texas2023 in Phoenix, Arizona21st century in Arlington, TexasOctober 2023 sports events in the United StatesNovember 2023 sports events in the United StatesBaseball competitions in Arlington, TexasBaseball competitions in Phoenix, ArizonaArizona Diamondbacks postseasonTexas Rangers postseasonWorld SeriesHidden categories: Pages using the JsonConfig extensionArticles with short descriptionShort description is different from WikidataUse mdy dates from November 2023\n",
      "----------------------------------------------------------------------------------------------------\n",
      "Document 10:\n",
      "\n",
      "Category\n",
      "\n",
      "\n",
      "\n",
      "\n",
      "\n",
      "Retrieved from \"https://en.wikipedia.org/w/index.php?title=2023_World_Series&oldid=1253253323\"\n",
      "Categories: 2023 Major League Baseball season2023 in sports in Arizona2023 in sports in Texas2023 in Phoenix, Arizona21st century in Arlington, TexasOctober 2023 sports events in the United StatesNovember 2023 sports events in the United StatesBaseball competitions in Arlington, TexasBaseball competitions in Phoenix, ArizonaArizona Diamondbacks postseasonTexas Rangers postseasonWorld SeriesHidden categories: Pages using the JsonConfig extensionArticles with short descriptionShort description is different from WikidataUse mdy dates from November 2023\n",
      "----------------------------------------------------------------------------------------------------\n",
      "Document 11:\n",
      "\n",
      "2023 World Series Team (Wins) Manager(s) Season Texas Rangers (4) Bruce Bochy 90–72 (.556), GB: 0 Arizona Diamondbacks (1) Torey Lovullo 84–78 (.519), GB: 16DatesOctober 27 – November 1Venue(s)Globe Life Field (Arlington, Texas)Chase Field (Phoenix, Arizona)MVPCorey Seager (Texas)UmpiresVic Carapazza, Brian Knight, Alfonso Márquez, Bill Miller (crew chief), David Rackley, D. J. Reyburn, Quinn WolcottBroadcastTelevisionFox (United States – English)Fox Deportes (United States – Spanish)MLB International (International)TV announcersJoe Davis, John Smoltz, Ken Rosenthal, and Tom Verducci (Fox)Adrian Garcia Marquez, Edgar Gonzalez, Carlos Alvarez, and Jaime Motta (Fox Deportes)Dave Flemming and Ryan Spilborghs (MLB International – English)RadioESPN (United States – English)TUDN (United States – Spanish)KRLD (TEX – English)KAMM (TEX – Spanish)KMVP (ARI – English)KHOV (ARI – Spanish)Radio announcersJon Sciambi, Jessica Mendoza, Eduardo Pérez, and Buster Olney (ESPN)Jesus Acosta, Alberto\n",
      "----------------------------------------------------------------------------------------------------\n",
      "Document 12:\n",
      "\n",
      "2023 World Series Team (Wins) Manager(s) Season Texas Rangers (4) Bruce Bochy 90–72 (.556), GB: 0 Arizona Diamondbacks (1) Torey Lovullo 84–78 (.519), GB: 16DatesOctober 27 – November 1Venue(s)Globe Life Field (Arlington, Texas)Chase Field (Phoenix, Arizona)MVPCorey Seager (Texas)UmpiresVic Carapazza, Brian Knight, Alfonso Márquez, Bill Miller (crew chief), David Rackley, D. J. Reyburn, Quinn WolcottBroadcastTelevisionFox (United States – English)Fox Deportes (United States – Spanish)MLB International (International)TV announcersJoe Davis, John Smoltz, Ken Rosenthal, and Tom Verducci (Fox)Adrian Garcia Marquez, Edgar Gonzalez, Carlos Alvarez, and Jaime Motta (Fox Deportes)Dave Flemming and Ryan Spilborghs (MLB International – English)RadioESPN (United States – English)TUDN (United States – Spanish)KRLD (TEX – English)KAMM (TEX – Spanish)KMVP (ARI – English)KHOV (ARI – Spanish)Radio announcersJon Sciambi, Jessica Mendoza, Eduardo Pérez, and Buster Olney (ESPN)Jesus Acosta, Alberto\n",
      "----------------------------------------------------------------------------------------------------\n",
      "Document 13:\n",
      "\n",
      "2023 World Series Team (Wins) Manager(s) Season Texas Rangers (4) Bruce Bochy 90–72 (.556), GB: 0 Arizona Diamondbacks (1) Torey Lovullo 84–78 (.519), GB: 16DatesOctober 27 – November 1Venue(s)Globe Life Field (Arlington, Texas)Chase Field (Phoenix, Arizona)MVPCorey Seager (Texas)UmpiresVic Carapazza, Brian Knight, Alfonso Márquez, Bill Miller (crew chief), David Rackley, D. J. Reyburn, Quinn WolcottBroadcastTelevisionFox (United States – English)Fox Deportes (United States – Spanish)MLB International (International)TV announcersJoe Davis, John Smoltz, Ken Rosenthal, and Tom Verducci (Fox)Adrian Garcia Marquez, Edgar Gonzalez, Carlos Alvarez, and Jaime Motta (Fox Deportes)Dave Flemming and Ryan Spilborghs (MLB International – English)RadioESPN (United States – English)TUDN (United States – Spanish)KRLD (TEX – English)KAMM (TEX – Spanish)KMVP (ARI – English)KHOV (ARI – Spanish)Radio announcersJon Sciambi, Jessica Mendoza, Eduardo Pérez, and Buster Olney (ESPN)Jesus Acosta, Alberto\n",
      "----------------------------------------------------------------------------------------------------\n",
      "Document 14:\n",
      "\n",
      "2023 World Series Team (Wins) Manager(s) Season Texas Rangers (4) Bruce Bochy 90–72 (.556), GB: 0 Arizona Diamondbacks (1) Torey Lovullo 84–78 (.519), GB: 16DatesOctober 27 – November 1Venue(s)Globe Life Field (Arlington, Texas)Chase Field (Phoenix, Arizona)MVPCorey Seager (Texas)UmpiresVic Carapazza, Brian Knight, Alfonso Márquez, Bill Miller (crew chief), David Rackley, D. J. Reyburn, Quinn WolcottBroadcastTelevisionFox (United States – English)Fox Deportes (United States – Spanish)MLB International (International)TV announcersJoe Davis, John Smoltz, Ken Rosenthal, and Tom Verducci (Fox)Adrian Garcia Marquez, Edgar Gonzalez, Carlos Alvarez, and Jaime Motta (Fox Deportes)Dave Flemming and Ryan Spilborghs (MLB International – English)RadioESPN (United States – English)TUDN (United States – Spanish)KRLD (TEX – English)KAMM (TEX – Spanish)KMVP (ARI – English)KHOV (ARI – Spanish)Radio announcersJon Sciambi, Jessica Mendoza, Eduardo Pérez, and Buster Olney (ESPN)Jesus Acosta, Alberto\n",
      "----------------------------------------------------------------------------------------------------\n",
      "Document 15:\n",
      "\n",
      "2023 World Series Team (Wins) Manager(s) Season Texas Rangers (4) Bruce Bochy 90–72 (.556), GB: 0 Arizona Diamondbacks (1) Torey Lovullo 84–78 (.519), GB: 16DatesOctober 27 – November 1Venue(s)Globe Life Field (Arlington, Texas)Chase Field (Phoenix, Arizona)MVPCorey Seager (Texas)UmpiresVic Carapazza, Brian Knight, Alfonso Márquez, Bill Miller (crew chief), David Rackley, D. J. Reyburn, Quinn WolcottBroadcastTelevisionFox (United States – English)Fox Deportes (United States – Spanish)MLB International (International)TV announcersJoe Davis, John Smoltz, Ken Rosenthal, and Tom Verducci (Fox)Adrian Garcia Marquez, Edgar Gonzalez, Carlos Alvarez, and Jaime Motta (Fox Deportes)Dave Flemming and Ryan Spilborghs (MLB International – English)RadioESPN (United States – English)TUDN (United States – Spanish)KRLD (TEX – English)KAMM (TEX – Spanish)KMVP (ARI – English)KHOV (ARI – Spanish)Radio announcersJon Sciambi, Jessica Mendoza, Eduardo Pérez, and Buster Olney (ESPN)Jesus Acosta, Alberto\n",
      "----------------------------------------------------------------------------------------------------\n",
      "Document 16:\n",
      "\n",
      "The Rangers and Diamondbacks entered the 2023 MLB postseason as wild cards, making this the third World Series meeting between two wild cards following 2002 and 2014. The Rangers had home-field advantage in the series over the Diamondbacks due to their better regular season record. The Rangers and Diamondbacks split the first two games in Texas before the Rangers won three consecutive games in Arizona to win the series. Corey Seager won the World Series Most Valuable Player Award for the second time in his career.[1]\n",
      "----------------------------------------------------------------------------------------------------\n",
      "Document 17:\n",
      "\n",
      "The Rangers and Diamondbacks entered the 2023 MLB postseason as wild cards, making this the third World Series meeting between two wild cards following 2002 and 2014. The Rangers had home-field advantage in the series over the Diamondbacks due to their better regular season record. The Rangers and Diamondbacks split the first two games in Texas before the Rangers won three consecutive games in Arizona to win the series. Corey Seager won the World Series Most Valuable Player Award for the second time in his career.[1]\n",
      "----------------------------------------------------------------------------------------------------\n",
      "Document 18:\n",
      "\n",
      "The Rangers and Diamondbacks entered the 2023 MLB postseason as wild cards, making this the third World Series meeting between two wild cards following 2002 and 2014. The Rangers had home-field advantage in the series over the Diamondbacks due to their better regular season record. The Rangers and Diamondbacks split the first two games in Texas before the Rangers won three consecutive games in Arizona to win the series. Corey Seager won the World Series Most Valuable Player Award for the second time in his career.[1]\n",
      "----------------------------------------------------------------------------------------------------\n",
      "Document 19:\n",
      "\n",
      "The Rangers and Diamondbacks entered the 2023 MLB postseason as wild cards, making this the third World Series meeting between two wild cards following 2002 and 2014. The Rangers had home-field advantage in the series over the Diamondbacks due to their better regular season record. The Rangers and Diamondbacks split the first two games in Texas before the Rangers won three consecutive games in Arizona to win the series. Corey Seager won the World Series Most Valuable Player Award for the second time in his career.[1]\n",
      "----------------------------------------------------------------------------------------------------\n",
      "Document 20:\n",
      "\n",
      "The Rangers and Diamondbacks entered the 2023 MLB postseason as wild cards, making this the third World Series meeting between two wild cards following 2002 and 2014. The Rangers had home-field advantage in the series over the Diamondbacks due to their better regular season record. The Rangers and Diamondbacks split the first two games in Texas before the Rangers won three consecutive games in Arizona to win the series. Corey Seager won the World Series Most Valuable Player Award for the second time in his career.[1]\n"
     ]
    }
   ],
   "source": [
    "pretty_print_docs(docs)"
   ]
  },
  {
   "cell_type": "markdown",
   "id": "3008507b",
   "metadata": {},
   "source": [
    "These results clearly indicate the correct answer. Let's try sending the query again with these results."
   ]
  },
  {
   "cell_type": "code",
   "execution_count": 9,
   "id": "23499f4a",
   "metadata": {},
   "outputs": [
    {
     "name": "stdout",
     "output_type": "stream",
     "text": [
      "Sending the RAG generation with query: Who won the 2023 World Series of baseball?\n"
     ]
    },
    {
     "name": "stderr",
     "output_type": "stream",
     "text": [
      "/fs01/projects/aieng/public/rag_bootcamp/envs/rag_dataloaders/lib/python3.10/site-packages/langchain_core/_api/deprecation.py:117: LangChainDeprecationWarning: The function `run` was deprecated in LangChain 0.1.0 and will be removed in 0.2.0. Use invoke instead.\n",
      "  warn_deprecated(\n",
      "unknown field: parameter model is not a valid field\n"
     ]
    },
    {
     "name": "stdout",
     "output_type": "stream",
     "text": [
      "Result:\n",
      "\n",
      " The Texas Rangers won the 2023 World Series of baseball.  It was played between the American League (AL) champion Texas Rangers and the National League (NL) champion Arizona Diamondbacks. The series began on October 27 and ended on November 1 with Texas winning in five games. This marked the first time since 1989 in which consecutive championships were won by different teams from the same state. \n"
     ]
    }
   ],
   "source": [
    "print(f\"Sending the RAG generation with query: {query}\")\n",
    "qa = RetrievalQA.from_chain_type(llm=llm,\n",
    "        chain_type=\"stuff\",\n",
    "        retriever=retriever)\n",
    "print(f\"Result:\\n\\n{qa.run(query=query)}\") "
   ]
  },
  {
   "cell_type": "markdown",
   "id": "6ea847fe",
   "metadata": {},
   "source": [
    "# Reranking: Improve the ordering of the document chunks"
   ]
  },
  {
   "cell_type": "markdown",
   "id": "0bb304d7",
   "metadata": {},
   "source": [
    "I guess this part isn't necessary because we already got the correct answer in the previous query. But let's step through it anyway."
   ]
  },
  {
   "cell_type": "code",
   "execution_count": 10,
   "id": "24dd59e8",
   "metadata": {},
   "outputs": [],
   "source": [
    "compressor = CohereRerank()\n",
    "compression_retriever = ContextualCompressionRetriever(\n",
    "    base_compressor=compressor, base_retriever=retriever\n",
    ")\n",
    "compressed_docs = compression_retriever.get_relevant_documents(query)"
   ]
  },
  {
   "cell_type": "markdown",
   "id": "dc20a66b",
   "metadata": {},
   "source": [
    "Now let's see what the reranked results look like:"
   ]
  },
  {
   "cell_type": "code",
   "execution_count": 11,
   "id": "961dda63",
   "metadata": {},
   "outputs": [
    {
     "name": "stdout",
     "output_type": "stream",
     "text": [
      "Document 1:\n",
      "\n",
      "The 2023 World Series was the championship series of Major League Baseball's (MLB) 2023 season, and the 119th edition of the World Series. It was a best-of-seven playoff played between the American League (AL) champion Texas Rangers and the National League (NL) champion Arizona Diamondbacks. The series began on October 27 and ended on November 1 with Texas winning in five games. The Rangers won their first World Series title since their founding in 1961. This marked the first time since 1989 in which consecutive championships were won by different teams from the same state.\n",
      "----------------------------------------------------------------------------------------------------\n",
      "Document 2:\n",
      "\n",
      "The 2023 World Series was the championship series of Major League Baseball's (MLB) 2023 season, and the 119th edition of the World Series. It was a best-of-seven playoff played between the American League (AL) champion Texas Rangers and the National League (NL) champion Arizona Diamondbacks. The series began on October 27 and ended on November 1 with Texas winning in five games. The Rangers won their first World Series title since their founding in 1961. This marked the first time since 1989 in which consecutive championships were won by different teams from the same state.\n",
      "----------------------------------------------------------------------------------------------------\n",
      "Document 3:\n",
      "\n",
      "The 2023 World Series was the championship series of Major League Baseball's (MLB) 2023 season, and the 119th edition of the World Series. It was a best-of-seven playoff played between the American League (AL) champion Texas Rangers and the National League (NL) champion Arizona Diamondbacks. The series began on October 27 and ended on November 1 with Texas winning in five games. The Rangers won their first World Series title since their founding in 1961. This marked the first time since 1989 in which consecutive championships were won by different teams from the same state.\n"
     ]
    }
   ],
   "source": [
    "pretty_print_docs(compressed_docs)"
   ]
  },
  {
   "cell_type": "markdown",
   "id": "fef217bc",
   "metadata": {},
   "source": [
    "Lastly, let's run our LLM query a final time with the reranked results:"
   ]
  },
  {
   "cell_type": "code",
   "execution_count": 12,
   "id": "63696ef9",
   "metadata": {},
   "outputs": [
    {
     "name": "stderr",
     "output_type": "stream",
     "text": [
      "unknown field: parameter model is not a valid field\n"
     ]
    },
    {
     "name": "stdout",
     "output_type": "stream",
     "text": [
      "Result:\n",
      "\n",
      "  The Texas Rangers won the 2023 World Series of baseball, winning the best-of-seven series in five games against the Arizona Diamondbacks. \n"
     ]
    }
   ],
   "source": [
    "qa = RetrievalQA.from_chain_type(llm=llm,\n",
    "        chain_type=\"stuff\",\n",
    "        retriever=compression_retriever)\n",
    "\n",
    "print(f\"Result:\\n\\n {qa.run(query=query)}\")"
   ]
  }
 ],
 "metadata": {
  "kernelspec": {
   "display_name": "rag_dataloaders",
   "language": "python",
   "name": "rag_dataloaders"
  },
  "language_info": {
   "codemirror_mode": {
    "name": "ipython",
    "version": 3
   },
   "file_extension": ".py",
   "mimetype": "text/x-python",
   "name": "python",
   "nbconvert_exporter": "python",
   "pygments_lexer": "ipython3",
   "version": "3.10.12"
  }
 },
 "nbformat": 4,
 "nbformat_minor": 5
}
