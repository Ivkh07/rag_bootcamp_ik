{
 "cells": [
  {
   "cell_type": "markdown",
   "id": "8f35cfba",
   "metadata": {},
   "source": [
    "# RAG Evaluation Basic Demo"
   ]
  },
  {
   "cell_type": "markdown",
   "id": "52dc829c",
   "metadata": {},
   "source": [
    "This example shows a basic RAG evaluation pipeline based on the [Ragas](https://docs.ragas.io/en/stable/) framework. It focuses on two basic concepts:\n",
    "\n",
    "- **Creating a test set**: This is a set of questions and answers that we'll use to evaluate a RAG pipeline.\n",
    "- **Evaluation metrics**: Which metrics do we use to score a RAG pipeline? In this example, we measure the following:\n",
    "    - *[Faithfulness](https://docs.ragas.io/en/v0.1.21/concepts/metrics/faithfulness.html)*: Are all the claims that are made in the answer inferred from the given context(s)?\n",
    "    - *[Context Precision](https://docs.ragas.io/en/v0.1.21/concepts/metrics/context_precision.html)*: Did our retriever return good results that matched the question it was being asked?\n",
    "    - *[Answer Correctness](https://docs.ragas.io/en/v0.1.21/concepts/metrics/answer_correctness.html)*: Was the generated answer correct? Was it complete?\n",
    "\n",
    "\n",
    "### <u>Requirements</u>\n",
    "1. As you will accessing the LLMs and embedding models through Vector AI Engineering's Kaleidoscope Service (Vector Inference + Autoscaling), you will need to request a KScope API Key:\n",
    "\n",
    "    Run the following command (replace ```<user_id>``` and ```<password>```) from **within the cluster** to obtain the API Key. The ```access_token``` in the output is your KScope API Key.\n",
    "  ```bash\n",
    "  curl -X POST -d \"grant_type=password\" -d \"username=<user_id>\" -d \"password=<password>\" https://kscope.vectorinstitute.ai/token\n",
    "  ```\n",
    "2. After obtaining the `.env` configurations, make sure to create the ```.kscope.env``` file in your home directory (```/h/<user_id>```) and set the following env variables:\n",
    "- For local models through Kaleidoscope (KScope):\n",
    "    ```bash\n",
    "    export OPENAI_BASE_URL=\"https://kscope.vectorinstitute.ai/v1\"\n",
    "    export OPENAI_API_KEY=<kscope_api_key>\n",
    "    ```\n",
    "- For OpenAI models:\n",
    "   ```bash\n",
    "   export OPENAI_BASE_URL=\"https://api.openai.com/v1\"\n",
    "   export OPENAI_API_KEY=<openai_api_key>\n",
    "   ```"
   ]
  },
  {
   "cell_type": "markdown",
   "id": "e4e1f5e2",
   "metadata": {},
   "source": [
    "## Set up the evaluation environment"
   ]
  },
  {
   "cell_type": "markdown",
   "id": "9c77fb34-4c45-4f54-8a60-5a7c4426f471",
   "metadata": {},
   "source": [
    "#### Import libraries"
   ]
  },
  {
   "cell_type": "code",
   "execution_count": 1,
   "id": "0a078198-4204-4ef1-a0a6-63d52f9a75ce",
   "metadata": {},
   "outputs": [],
   "source": [
    "import warnings\n",
    "warnings.filterwarnings('ignore')"
   ]
  },
  {
   "cell_type": "code",
   "execution_count": 2,
   "id": "c43325cb",
   "metadata": {},
   "outputs": [],
   "source": [
    "import os\n",
    "import sys\n",
    "\n",
    "from datasets import Dataset \n",
    "from pathlib import Path\n",
    "\n",
    "from langchain_huggingface.embeddings import HuggingFaceEmbeddings\n",
    "from langchain_openai import ChatOpenAI\n",
    "\n",
    "from ragas import evaluate\n",
    "from ragas.metrics import Faithfulness, ContextPrecision, AnswerCorrectness"
   ]
  },
  {
   "cell_type": "markdown",
   "id": "1ec48a2e-fd51-4834-90fb-75de6045ae5c",
   "metadata": {},
   "source": [
    "#### Load config files"
   ]
  },
  {
   "cell_type": "code",
   "execution_count": 3,
   "id": "b9f39d6e-bbb8-4540-a40c-6acd22068294",
   "metadata": {},
   "outputs": [],
   "source": [
    "# Add root folder of the rag_bootcamp repo to PYTHONPATH\n",
    "current_dir = Path().resolve()\n",
    "parent_dir = current_dir.parent\n",
    "sys.path.insert(0, str(parent_dir))\n",
    "\n",
    "from utils.load_secrets import load_env_file\n",
    "load_env_file()"
   ]
  },
  {
   "cell_type": "code",
   "execution_count": 4,
   "id": "a2982777-30c2-40c4-9cd2-6a90d8b0f472",
   "metadata": {},
   "outputs": [],
   "source": [
    "EVALUATOR_BASE_URL = os.environ.get(\"OPENAI_BASE_URL\")\n",
    "\n",
    "OPENAI_API_KEY = os.environ.get(\"OPENAI_API_KEY\")"
   ]
  },
  {
   "cell_type": "markdown",
   "id": "5bafa6e0-a0c2-492a-a81a-e2b8c5ceff95",
   "metadata": {},
   "source": [
    "#### Choose and set evaluator LLM and embedding model"
   ]
  },
  {
   "cell_type": "markdown",
   "id": "46daee8d-e48c-40a8-ae5c-e59dff377e8d",
   "metadata": {},
   "source": [
    "**IMP Note:** It is recommended to use most capable models for this notebook, for e.g. OpenAI's GPT-4o, o1-preview or Meta-AI's Meta-Llama-3.1-70B-Instruct."
   ]
  },
  {
   "cell_type": "code",
   "execution_count": 5,
   "id": "334bc810-c543-4bed-890a-34dc90e48092",
   "metadata": {},
   "outputs": [],
   "source": [
    "EVALUATOR_MODEL_NAME = \"Meta-Llama-3.1-8B-Instruct\"\n",
    "EVALUATOR_EMBEDDING_MODEL_NAME = \"BAAI/bge-base-en-v1.5\""
   ]
  },
  {
   "cell_type": "code",
   "execution_count": 6,
   "id": "d1d63bca-e529-4903-8ef4-3b176df96580",
   "metadata": {},
   "outputs": [],
   "source": [
    "llm = ChatOpenAI(\n",
    "    model=EVALUATOR_MODEL_NAME,\n",
    "    temperature=0,\n",
    "    max_tokens=1024,\n",
    "    base_url=EVALUATOR_BASE_URL,\n",
    "    api_key=OPENAI_API_KEY\n",
    ")"
   ]
  },
  {
   "cell_type": "code",
   "execution_count": 7,
   "id": "1de19b45-b6fd-4852-a691-649a19ff4825",
   "metadata": {},
   "outputs": [],
   "source": [
    "model_kwargs = {'device': 'cuda', 'trust_remote_code': True}\n",
    "encode_kwargs = {'normalize_embeddings': True} # set True to compute cosine similarity\n",
    "\n",
    "embeddings = HuggingFaceEmbeddings(\n",
    "    model_name=EVALUATOR_EMBEDDING_MODEL_NAME,\n",
    "    model_kwargs=model_kwargs,\n",
    "    encode_kwargs=encode_kwargs,\n",
    ")"
   ]
  },
  {
   "cell_type": "markdown",
   "id": "07ff286e",
   "metadata": {},
   "source": [
    "## Create a test set: data samples we'll use to evaluate our RAG pipeline"
   ]
  },
  {
   "cell_type": "markdown",
   "id": "59c50560",
   "metadata": {},
   "source": [
    "In the `data_samples` structure below, the **answer** attribute contains the answers that a RAG pipeline might have returned to the questions asked under **question**. Try changing these answers to see how that affects the score in the next section."
   ]
  },
  {
   "cell_type": "code",
   "execution_count": 8,
   "id": "cc3fa338",
   "metadata": {},
   "outputs": [],
   "source": [
    "rag_answer_1 = \"The first superbowl was held on Jan 15, 1967\"\n",
    "rag_answer_2 = \"The most super bowls have been won by The New England Patriots\"\n",
    "\n",
    "rag_context_1 = [\n",
    "    'The First AFL–NFL World Championship Game was an American football game played on January 15, 1967, at the Los Angeles Memorial Coliseum in Los Angeles,'\n",
    "]\n",
    "rag_context_2 = [\n",
    "    'The Green Bay Packers...Green Bay, Wisconsin.',\n",
    "    'The Packers compete...Football Conference'\n",
    "]\n",
    "\n",
    "test_set = {\n",
    "    'question': [\n",
    "        'When was the first super bowl?', \n",
    "        'Who won the most super bowls?'\n",
    "    ],\n",
    "    'answer': [\n",
    "        rag_answer_1,\n",
    "        rag_answer_2 \n",
    "    ],\n",
    "    'contexts' : [\n",
    "        rag_context_1, \n",
    "        rag_context_2\n",
    "    ],\n",
    "    'ground_truth': [\n",
    "        'The first superbowl was held on January 15, 1967', \n",
    "        'The New England Patriots have won the Super Bowl a record six times'\n",
    "    ]\n",
    "}"
   ]
  },
  {
   "cell_type": "markdown",
   "id": "56883172",
   "metadata": {},
   "source": [
    "## Now evaluate the RAG pipeline"
   ]
  },
  {
   "cell_type": "markdown",
   "id": "8e1610b0",
   "metadata": {},
   "source": [
    "Evaluate based on the metrics mentioned above: **faithfulness**, **context precision**, **factual correctness**.\n",
    "    \n",
    "There are other metrics that are available via the Ragas framework: [Ragas metrics](https://docs.ragas.io/en/stable/concepts/metrics/)"
   ]
  },
  {
   "cell_type": "markdown",
   "id": "4147a791",
   "metadata": {},
   "source": [
    "Preview our test set before sending it for evaluation:"
   ]
  },
  {
   "cell_type": "code",
   "execution_count": 9,
   "id": "e5ae58b8",
   "metadata": {},
   "outputs": [
    {
     "data": {
      "text/html": [
       "<div>\n",
       "<style scoped>\n",
       "    .dataframe tbody tr th:only-of-type {\n",
       "        vertical-align: middle;\n",
       "    }\n",
       "\n",
       "    .dataframe tbody tr th {\n",
       "        vertical-align: top;\n",
       "    }\n",
       "\n",
       "    .dataframe thead th {\n",
       "        text-align: right;\n",
       "    }\n",
       "</style>\n",
       "<table border=\"1\" class=\"dataframe\">\n",
       "  <thead>\n",
       "    <tr style=\"text-align: right;\">\n",
       "      <th></th>\n",
       "      <th>question</th>\n",
       "      <th>answer</th>\n",
       "      <th>contexts</th>\n",
       "      <th>ground_truth</th>\n",
       "    </tr>\n",
       "  </thead>\n",
       "  <tbody>\n",
       "    <tr>\n",
       "      <th>0</th>\n",
       "      <td>When was the first super bowl?</td>\n",
       "      <td>The first superbowl was held on Jan 15, 1967</td>\n",
       "      <td>[The First AFL–NFL World Championship Game was...</td>\n",
       "      <td>The first superbowl was held on January 15, 1967</td>\n",
       "    </tr>\n",
       "    <tr>\n",
       "      <th>1</th>\n",
       "      <td>Who won the most super bowls?</td>\n",
       "      <td>The most super bowls have been won by The New ...</td>\n",
       "      <td>[The Green Bay Packers...Green Bay, Wisconsin....</td>\n",
       "      <td>The New England Patriots have won the Super Bo...</td>\n",
       "    </tr>\n",
       "  </tbody>\n",
       "</table>\n",
       "</div>"
      ],
      "text/plain": [
       "                         question  \\\n",
       "0  When was the first super bowl?   \n",
       "1   Who won the most super bowls?   \n",
       "\n",
       "                                              answer  \\\n",
       "0       The first superbowl was held on Jan 15, 1967   \n",
       "1  The most super bowls have been won by The New ...   \n",
       "\n",
       "                                            contexts  \\\n",
       "0  [The First AFL–NFL World Championship Game was...   \n",
       "1  [The Green Bay Packers...Green Bay, Wisconsin....   \n",
       "\n",
       "                                        ground_truth  \n",
       "0   The first superbowl was held on January 15, 1967  \n",
       "1  The New England Patriots have won the Super Bo...  "
      ]
     },
     "execution_count": 9,
     "metadata": {},
     "output_type": "execute_result"
    }
   ],
   "source": [
    "test_dataset = Dataset.from_dict(test_set)\n",
    "test_dataset.to_pandas()"
   ]
  },
  {
   "cell_type": "markdown",
   "id": "c7acdd24",
   "metadata": {},
   "source": [
    "Evaluation results:"
   ]
  },
  {
   "cell_type": "code",
   "execution_count": 10,
   "id": "5071ae61",
   "metadata": {},
   "outputs": [
    {
     "data": {
      "application/vnd.jupyter.widget-view+json": {
       "model_id": "64285b18bda44160912b1b2cf207563a",
       "version_major": 2,
       "version_minor": 0
      },
      "text/plain": [
       "Evaluating:   0%|          | 0/6 [00:00<?, ?it/s]"
      ]
     },
     "metadata": {},
     "output_type": "display_data"
    },
    {
     "data": {
      "text/html": [
       "<div>\n",
       "<style scoped>\n",
       "    .dataframe tbody tr th:only-of-type {\n",
       "        vertical-align: middle;\n",
       "    }\n",
       "\n",
       "    .dataframe tbody tr th {\n",
       "        vertical-align: top;\n",
       "    }\n",
       "\n",
       "    .dataframe thead th {\n",
       "        text-align: right;\n",
       "    }\n",
       "</style>\n",
       "<table border=\"1\" class=\"dataframe\">\n",
       "  <thead>\n",
       "    <tr style=\"text-align: right;\">\n",
       "      <th></th>\n",
       "      <th>question</th>\n",
       "      <th>answer</th>\n",
       "      <th>contexts</th>\n",
       "      <th>ground_truth</th>\n",
       "      <th>faithfulness</th>\n",
       "      <th>context_precision</th>\n",
       "      <th>answer_correctness</th>\n",
       "    </tr>\n",
       "  </thead>\n",
       "  <tbody>\n",
       "    <tr>\n",
       "      <th>0</th>\n",
       "      <td>When was the first super bowl?</td>\n",
       "      <td>The first superbowl was held on Jan 15, 1967</td>\n",
       "      <td>[The First AFL–NFL World Championship Game was...</td>\n",
       "      <td>The first superbowl was held on January 15, 1967</td>\n",
       "      <td>1.0</td>\n",
       "      <td>1.0</td>\n",
       "      <td>0.999617</td>\n",
       "    </tr>\n",
       "    <tr>\n",
       "      <th>1</th>\n",
       "      <td>Who won the most super bowls?</td>\n",
       "      <td>The most super bowls have been won by The New ...</td>\n",
       "      <td>[The Green Bay Packers...Green Bay, Wisconsin....</td>\n",
       "      <td>The New England Patriots have won the Super Bo...</td>\n",
       "      <td>0.0</td>\n",
       "      <td>0.0</td>\n",
       "      <td>0.818121</td>\n",
       "    </tr>\n",
       "  </tbody>\n",
       "</table>\n",
       "</div>"
      ],
      "text/plain": [
       "                         question  \\\n",
       "0  When was the first super bowl?   \n",
       "1   Who won the most super bowls?   \n",
       "\n",
       "                                              answer  \\\n",
       "0       The first superbowl was held on Jan 15, 1967   \n",
       "1  The most super bowls have been won by The New ...   \n",
       "\n",
       "                                            contexts  \\\n",
       "0  [The First AFL–NFL World Championship Game was...   \n",
       "1  [The Green Bay Packers...Green Bay, Wisconsin....   \n",
       "\n",
       "                                        ground_truth  faithfulness  \\\n",
       "0   The first superbowl was held on January 15, 1967           1.0   \n",
       "1  The New England Patriots have won the Super Bo...           0.0   \n",
       "\n",
       "   context_precision  answer_correctness  \n",
       "0                1.0            0.999617  \n",
       "1                0.0            0.818121  "
      ]
     },
     "execution_count": 10,
     "metadata": {},
     "output_type": "execute_result"
    }
   ],
   "source": [
    "score = evaluate(\n",
    "    dataset=test_dataset,\n",
    "    metrics=[\n",
    "        Faithfulness(),\n",
    "        ContextPrecision(),\n",
    "        AnswerCorrectness(),\n",
    "    ],\n",
    "    llm=llm,\n",
    "    embeddings=embeddings,\n",
    ")\n",
    "score.to_pandas()"
   ]
  }
 ],
 "metadata": {
  "kernelspec": {
   "display_name": "rag_evaluation",
   "language": "python",
   "name": "rag_evaluation"
  },
  "language_info": {
   "codemirror_mode": {
    "name": "ipython",
    "version": 3
   },
   "file_extension": ".py",
   "mimetype": "text/x-python",
   "name": "python",
   "nbconvert_exporter": "python",
   "pygments_lexer": "ipython3",
   "version": "3.10.12"
  }
 },
 "nbformat": 4,
 "nbformat_minor": 5
}
