{
 "cells": [
  {
   "cell_type": "markdown",
   "id": "8f35cfba",
   "metadata": {},
   "source": [
    "# RAG Evaluation Basic Demo"
   ]
  },
  {
   "cell_type": "markdown",
   "id": "52dc829c",
   "metadata": {},
   "source": [
    "This example shows a basic RAG evaluation pipeline based on the [Ragas](https://github.com/explodinggradients/ragas) framework. It focuses on two basic concepts:\n",
    "\n",
    "- **Creating a test set**: This is a set of questions and answers that we'll use to evaluate a RAG pipeline.\n",
    "- **Evaluation metrics**: Which metrics do we use to score a RAG pipeline? In this example, we measure the following:\n",
    "    - *Faithfulness*: Are all the claims that are made in the answer inferred from the given context(s)?\n",
    "    - *Context Precision*: Did our retriever return good results that matched the question it was being asked?\n",
    "    - *Answer Correctness*: Was the generated answer correct? Was it complete?\n",
    "    \n",
    "**Requirements:**\n",
    "- You will need an OpenAI access key, which requires a paid account you can sign up for at https://platform.openai.com/signup.\n",
    "- After obtaining this key, store it in plain text in your home in directory in the `~/.openai.key` file."
   ]
  },
  {
   "cell_type": "markdown",
   "id": "e4e1f5e2",
   "metadata": {},
   "source": [
    "## Set up the evaluation environment"
   ]
  },
  {
   "cell_type": "code",
   "execution_count": 1,
   "id": "c43325cb",
   "metadata": {},
   "outputs": [],
   "source": [
    "from datasets import Dataset \n",
    "import os\n",
    "from pathlib import Path\n",
    "from ragas import evaluate\n",
    "from ragas.metrics import faithfulness, answer_correctness, context_precision"
   ]
  },
  {
   "cell_type": "markdown",
   "id": "96cd91e3",
   "metadata": {},
   "source": [
    "This implementation requires an OpenAI key."
   ]
  },
  {
   "cell_type": "code",
   "execution_count": 2,
   "id": "7c59eede",
   "metadata": {},
   "outputs": [],
   "source": [
    "try:\n",
    "    f = open(Path.home() / \".openai.key\", \"r\")\n",
    "    os.environ[\"OPENAI_API_KEY\"] = f.read().rstrip(\"\\n\")\n",
    "    f.close()\n",
    "except Exception as err:\n",
    "    print(f\"Could not read your OpenAI API key. If you wish to run RAG evaluation, please make sure this is available in plain text under your home directory in ~/.openai.key: {err}\")"
   ]
  },
  {
   "cell_type": "markdown",
   "id": "07ff286e",
   "metadata": {},
   "source": [
    "## Create a test set: data samples we'll use to evaluate our RAG pipeline"
   ]
  },
  {
   "cell_type": "markdown",
   "id": "59c50560",
   "metadata": {},
   "source": [
    "In the `data_samples` structure below, the **answer** attribute contains the answers that a RAG pipeline might have returned to the questions asked under **question**. Try changing these answers to see how that affects the score in the next section."
   ]
  },
  {
   "cell_type": "code",
   "execution_count": 3,
   "id": "cc3fa338",
   "metadata": {},
   "outputs": [],
   "source": [
    "rag_answer_1 = \"The first superbowl was held on Jan 15, 1967\"\n",
    "rag_answer_2 = \"The most super bowls have been won by The New England Patriots\"\n",
    "\n",
    "rag_context_1 = [\n",
    "    'The First AFL–NFL World Championship Game was an American football game played on January 15, 1967, at the Los Angeles Memorial Coliseum in Los Angeles,'\n",
    "]\n",
    "rag_context_2 = [\n",
    "    'The Green Bay Packers...Green Bay, Wisconsin.',\n",
    "    'The Packers compete...Football Conference'\n",
    "]\n",
    "\n",
    "test_set = {\n",
    "    'question': [\n",
    "        'When was the first super bowl?', \n",
    "        'Who won the most super bowls?'\n",
    "    ],\n",
    "    'answer': [\n",
    "        rag_answer_1,\n",
    "        rag_answer_2 \n",
    "    ],\n",
    "    'contexts' : [\n",
    "        rag_context_1, \n",
    "        rag_context_2\n",
    "    ],\n",
    "    'ground_truth': [\n",
    "        'The first superbowl was held on January 15, 1967', \n",
    "        'The New England Patriots have won the Super Bowl a record six times'\n",
    "    ]\n",
    "}"
   ]
  },
  {
   "cell_type": "markdown",
   "id": "56883172",
   "metadata": {},
   "source": [
    "## Now evaluate the RAG pipeline"
   ]
  },
  {
   "cell_type": "markdown",
   "id": "8e1610b0",
   "metadata": {},
   "source": [
    "Evaluate based on the metrics mentioned above: **faithfulness**, **context precision**, **answer correctness**.\n",
    "    \n",
    "There are other metrics that are available via the Ragas framework: [Ragas metrics](https://docs.ragas.io/en/latest/concepts/metrics/index.html)"
   ]
  },
  {
   "cell_type": "markdown",
   "id": "4147a791",
   "metadata": {},
   "source": [
    "Preview our test set before sending it for evaluation:"
   ]
  },
  {
   "cell_type": "code",
   "execution_count": 4,
   "id": "e5ae58b8",
   "metadata": {},
   "outputs": [
    {
     "data": {
      "text/html": [
       "<div>\n",
       "<style scoped>\n",
       "    .dataframe tbody tr th:only-of-type {\n",
       "        vertical-align: middle;\n",
       "    }\n",
       "\n",
       "    .dataframe tbody tr th {\n",
       "        vertical-align: top;\n",
       "    }\n",
       "\n",
       "    .dataframe thead th {\n",
       "        text-align: right;\n",
       "    }\n",
       "</style>\n",
       "<table border=\"1\" class=\"dataframe\">\n",
       "  <thead>\n",
       "    <tr style=\"text-align: right;\">\n",
       "      <th></th>\n",
       "      <th>question</th>\n",
       "      <th>answer</th>\n",
       "      <th>contexts</th>\n",
       "      <th>ground_truth</th>\n",
       "    </tr>\n",
       "  </thead>\n",
       "  <tbody>\n",
       "    <tr>\n",
       "      <th>0</th>\n",
       "      <td>When was the first super bowl?</td>\n",
       "      <td>The first superbowl was held on Jan 15, 1967</td>\n",
       "      <td>[The First AFL–NFL World Championship Game was...</td>\n",
       "      <td>The first superbowl was held on January 15, 1967</td>\n",
       "    </tr>\n",
       "    <tr>\n",
       "      <th>1</th>\n",
       "      <td>Who won the most super bowls?</td>\n",
       "      <td>The most super bowls have been won by The New ...</td>\n",
       "      <td>[The Green Bay Packers...Green Bay, Wisconsin....</td>\n",
       "      <td>The New England Patriots have won the Super Bo...</td>\n",
       "    </tr>\n",
       "  </tbody>\n",
       "</table>\n",
       "</div>"
      ],
      "text/plain": [
       "                         question  \\\n",
       "0  When was the first super bowl?   \n",
       "1   Who won the most super bowls?   \n",
       "\n",
       "                                              answer  \\\n",
       "0       The first superbowl was held on Jan 15, 1967   \n",
       "1  The most super bowls have been won by The New ...   \n",
       "\n",
       "                                            contexts  \\\n",
       "0  [The First AFL–NFL World Championship Game was...   \n",
       "1  [The Green Bay Packers...Green Bay, Wisconsin....   \n",
       "\n",
       "                                        ground_truth  \n",
       "0   The first superbowl was held on January 15, 1967  \n",
       "1  The New England Patriots have won the Super Bo...  "
      ]
     },
     "execution_count": 4,
     "metadata": {},
     "output_type": "execute_result"
    }
   ],
   "source": [
    "dataset = Dataset.from_dict(test_set)\n",
    "dataset.to_pandas()"
   ]
  },
  {
   "cell_type": "markdown",
   "id": "c7acdd24",
   "metadata": {},
   "source": [
    "Evaluation results:"
   ]
  },
  {
   "cell_type": "code",
   "execution_count": 5,
   "id": "5071ae61",
   "metadata": {},
   "outputs": [
    {
     "data": {
      "application/vnd.jupyter.widget-view+json": {
       "model_id": "69da4940d01346e1bcf88edb95feac16",
       "version_major": 2,
       "version_minor": 0
      },
      "text/plain": [
       "Evaluating:   0%|          | 0/6 [00:00<?, ?it/s]"
      ]
     },
     "metadata": {},
     "output_type": "display_data"
    },
    {
     "data": {
      "text/html": [
       "<div>\n",
       "<style scoped>\n",
       "    .dataframe tbody tr th:only-of-type {\n",
       "        vertical-align: middle;\n",
       "    }\n",
       "\n",
       "    .dataframe tbody tr th {\n",
       "        vertical-align: top;\n",
       "    }\n",
       "\n",
       "    .dataframe thead th {\n",
       "        text-align: right;\n",
       "    }\n",
       "</style>\n",
       "<table border=\"1\" class=\"dataframe\">\n",
       "  <thead>\n",
       "    <tr style=\"text-align: right;\">\n",
       "      <th></th>\n",
       "      <th>question</th>\n",
       "      <th>answer</th>\n",
       "      <th>contexts</th>\n",
       "      <th>ground_truth</th>\n",
       "      <th>faithfulness</th>\n",
       "      <th>context_precision</th>\n",
       "      <th>answer_correctness</th>\n",
       "    </tr>\n",
       "  </thead>\n",
       "  <tbody>\n",
       "    <tr>\n",
       "      <th>0</th>\n",
       "      <td>When was the first super bowl?</td>\n",
       "      <td>The first superbowl was held on Jan 15, 1967</td>\n",
       "      <td>[The First AFL–NFL World Championship Game was...</td>\n",
       "      <td>The first superbowl was held on January 15, 1967</td>\n",
       "      <td>0.0</td>\n",
       "      <td>1.0</td>\n",
       "      <td>0.749093</td>\n",
       "    </tr>\n",
       "    <tr>\n",
       "      <th>1</th>\n",
       "      <td>Who won the most super bowls?</td>\n",
       "      <td>The most super bowls have been won by The New ...</td>\n",
       "      <td>[The Green Bay Packers...Green Bay, Wisconsin....</td>\n",
       "      <td>The New England Patriots have won the Super Bo...</td>\n",
       "      <td>NaN</td>\n",
       "      <td>0.0</td>\n",
       "      <td>0.731061</td>\n",
       "    </tr>\n",
       "  </tbody>\n",
       "</table>\n",
       "</div>"
      ],
      "text/plain": [
       "                         question  \\\n",
       "0  When was the first super bowl?   \n",
       "1   Who won the most super bowls?   \n",
       "\n",
       "                                              answer  \\\n",
       "0       The first superbowl was held on Jan 15, 1967   \n",
       "1  The most super bowls have been won by The New ...   \n",
       "\n",
       "                                            contexts  \\\n",
       "0  [The First AFL–NFL World Championship Game was...   \n",
       "1  [The Green Bay Packers...Green Bay, Wisconsin....   \n",
       "\n",
       "                                        ground_truth  faithfulness  \\\n",
       "0   The first superbowl was held on January 15, 1967           0.0   \n",
       "1  The New England Patriots have won the Super Bo...           NaN   \n",
       "\n",
       "   context_precision  answer_correctness  \n",
       "0                1.0            0.749093  \n",
       "1                0.0            0.731061  "
      ]
     },
     "execution_count": 5,
     "metadata": {},
     "output_type": "execute_result"
    }
   ],
   "source": [
    "score = evaluate(dataset,metrics=[faithfulness, context_precision, answer_correctness])\n",
    "score.to_pandas()"
   ]
  }
 ],
 "metadata": {
  "kernelspec": {
   "display_name": "rag_evaluation",
   "language": "python",
   "name": "rag_evaluation"
  },
  "language_info": {
   "codemirror_mode": {
    "name": "ipython",
    "version": 3
   },
   "file_extension": ".py",
   "mimetype": "text/x-python",
   "name": "python",
   "nbconvert_exporter": "python",
   "pygments_lexer": "ipython3",
   "version": "3.10.12"
  }
 },
 "nbformat": 4,
 "nbformat_minor": 5
}
