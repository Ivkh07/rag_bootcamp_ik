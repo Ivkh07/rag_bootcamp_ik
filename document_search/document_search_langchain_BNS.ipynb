{
 "cells": [
  {
   "cell_type": "markdown",
   "id": "3d86f6cd",
   "metadata": {},
   "source": [
    "# Document Search with LangChain"
   ]
  },
  {
   "cell_type": "markdown",
   "id": "4168e6b6",
   "metadata": {},
   "source": [
    "This example shows how to use the Python [LangChain](https://python.langchain.com/docs/get_started/introduction) library to run a text-generation request on open-source LLMs and embedding models using the OpenAI SDK, then augment that request using the text stored in a collection of local PDF documents.\n",
    "\n",
    "### <u>Requirements</u>\n",
    "1. As you will accessing the LLMs and embedding models through Vector AI Engineering's Kaleidoscope Service (Vector Inference + Autoscaling), you will need to request a KScope API Key:\n",
    "\n",
    "   Run the following command (replace ```<user_id>``` and ```<password>```) from **within the cluster** to obtain the API Key. The ```access_token``` in the output is your KScope API Key.\n",
    "  ```bash\n",
    "  curl -X POST -d \"grant_type=password\" -d \"username=<user_id>\" -d \"password=<password>\" https://kscope.vectorinstitute.ai/token\n",
    "  ```\n",
    "2. After obtaining the `.env` configurations, make sure to create the ```.kscope.env``` file in your home directory (```/h/<user_id>```) and set the following env variables:\n",
    "- For local models through Kaleidoscope (KScope):\n",
    "    ```bash\n",
    "    export OPENAI_BASE_URL=\"https://kscope.vectorinstitute.ai/v1\"\n",
    "    export OPENAI_API_KEY=<kscope_api_key>\n",
    "    ```\n",
    "- For OpenAI models:\n",
    "   ```bash\n",
    "   export OPENAI_BASE_URL=\"https://api.openai.com/v1\"\n",
    "   export OPENAI_API_KEY=<openai_api_key>\n",
    "   ```\n",
    "3. (Optional) Upload some pdf files into the `source_documents` subfolder under this notebook. We have already provided some sample pdfs, but feel free to replace these with your own."
   ]
  },
  {
   "cell_type": "markdown",
   "id": "22e4da1f",
   "metadata": {},
   "source": [
    "## Set up the RAG workflow environment"
   ]
  },
  {
   "cell_type": "markdown",
   "id": "1e2cb87e-cdf4-4002-a700-77db86d0b318",
   "metadata": {},
   "source": [
    "#### Import libraries"
   ]
  },
  {
   "cell_type": "code",
   "execution_count": 1,
   "id": "742aa343-c90c-4e4a-8099-a3fa218e256d",
   "metadata": {},
   "outputs": [],
   "source": [
    "import warnings\n",
    "warnings.filterwarnings('ignore')"
   ]
  },
  {
   "cell_type": "code",
   "execution_count": 2,
   "id": "2f637730",
   "metadata": {},
   "outputs": [],
   "source": [
    "import os\n",
    "import requests\n",
    "import sys\n",
    "\n",
    "from pathlib import Path\n",
    "\n",
    "from langchain.chains import RetrievalQA\n",
    "from langchain_community.vectorstores import FAISS\n",
    "from langchain.document_loaders.pdf import PyPDFDirectoryLoader\n",
    "from langchain_huggingface.embeddings import HuggingFaceEmbeddings\n",
    "from langchain_openai import ChatOpenAI\n",
    "from langchain.text_splitter import RecursiveCharacterTextSplitter"
   ]
  },
  {
   "cell_type": "markdown",
   "id": "567a7448",
   "metadata": {},
   "source": [
    "#### Load config files"
   ]
  },
  {
   "cell_type": "code",
   "execution_count": 3,
   "id": "1e70d51a",
   "metadata": {},
   "outputs": [],
   "source": [
    "# Add root folder of the rag_bootcamp repo to PYTHONPATH\n",
    "current_dir = Path().resolve()\n",
    "parent_dir = current_dir.parent\n",
    "sys.path.insert(0, str(parent_dir))\n",
    "\n",
    "from utils.load_secrets import load_env_file\n",
    "load_env_file()"
   ]
  },
  {
   "cell_type": "code",
   "execution_count": 4,
   "id": "e9e0bec6-a89c-4fca-a218-c784ec18e109",
   "metadata": {},
   "outputs": [],
   "source": [
    "GENERATOR_BASE_URL = os.environ.get(\"OPENAI_BASE_URL\")\n",
    "\n",
    "OPENAI_API_KEY = os.environ.get(\"OPENAI_API_KEY\")"
   ]
  },
  {
   "cell_type": "markdown",
   "id": "12ecf9ac",
   "metadata": {},
   "source": [
    "#### Set up some helper functions"
   ]
  },
  {
   "cell_type": "code",
   "execution_count": 5,
   "id": "dd4e2417",
   "metadata": {},
   "outputs": [],
   "source": [
    "def pretty_print_docs(docs):\n",
    "    print(\n",
    "        f\"\\n{'-' * 100}\\n\".join(\n",
    "            [f\"Document {i+1}:\\n\\n\" + d.page_content for i, d in enumerate(docs)]\n",
    "        )\n",
    "    )"
   ]
  },
  {
   "cell_type": "markdown",
   "id": "d9edd103",
   "metadata": {},
   "source": [
    "#### Make sure other necessary items are in place"
   ]
  },
  {
   "cell_type": "code",
   "execution_count": 6,
   "id": "74b61e4f",
   "metadata": {},
   "outputs": [],
   "source": [
    "# Look for the source_documents folder and make sure there is at least 1 pdf file here\n",
    "contains_pdf = False\n",
    "directory_path = \"./source_documents\"\n",
    "if not os.path.exists(directory_path):\n",
    "    print(f\"ERROR: The {directory_path} subfolder must exist under this notebook\")\n",
    "for filename in os.listdir(directory_path):\n",
    "    contains_pdf = True if \".pdf\" in filename else contains_pdf\n",
    "if not contains_pdf:\n",
    "    print(f\"ERROR: The {directory_path} subfolder must contain at least one .pdf file\")"
   ]
  },
  {
   "cell_type": "markdown",
   "id": "a83c93ad-fe81-4acd-9ea3-eca9b425ee9a",
   "metadata": {},
   "source": [
    "#### Choose LLM and embedding model"
   ]
  },
  {
   "cell_type": "code",
   "execution_count": 7,
   "id": "2553d130-5b02-4852-928f-beb7ecd05d3f",
   "metadata": {},
   "outputs": [],
   "source": [
    "GENERATOR_MODEL_NAME = \"Meta-Llama-3.1-8B-Instruct\"\n",
    "EMBEDDING_MODEL_NAME = \"BAAI/bge-base-en-v1.5\""
   ]
  },
  {
   "cell_type": "markdown",
   "id": "1e558afb",
   "metadata": {},
   "source": [
    "## Start with a basic generation request without RAG augmentation\n",
    "\n",
    "Let's start by asking Llama-3.1 a difficult, domain-specific question we don't expect it to have an answer to. A simple question like \"*What is the capital of France?*\" is not a good question here, because that's world knowledge that we expect the LLM to know.\n",
    "\n",
    "Instead, we want to ask it a question that is domain-specific and it won't know the answer to. A good example would be an obscure detail buried deep within a company's annual report. For example:\n",
    "\n",
    "*How many Vector scholarships in AI were awarded in 2022?*"
   ]
  },
  {
   "cell_type": "code",
   "execution_count": 8,
   "id": "6133a928",
   "metadata": {},
   "outputs": [],
   "source": [
    "query = \"How many Vector scholarships in AI were awarded in 2022?\""
   ]
  },
  {
   "cell_type": "markdown",
   "id": "358a22c5",
   "metadata": {},
   "source": [
    "## Now send the query to the open source model using KScope"
   ]
  },
  {
   "cell_type": "code",
   "execution_count": 9,
   "id": "00061d61",
   "metadata": {},
   "outputs": [
    {
     "name": "stdout",
     "output_type": "stream",
     "text": [
      "The model Meta-Llama-3.1-8B-Instruct is not ready yet.\n"
     ]
    }
   ],
   "source": [
    "llm = ChatOpenAI(\n",
    "    model=GENERATOR_MODEL_NAME,\n",
    "    temperature=0,\n",
    "    max_tokens=None,\n",
    "    base_url=GENERATOR_BASE_URL,\n",
    "    api_key=OPENAI_API_KEY\n",
    ")\n",
    "message = [\n",
    "    (\"human\", query),\n",
    "]\n",
    "try:\n",
    "    result = llm.invoke(message)\n",
    "    print(f\"Result: \\n\\n{result.content}\")\n",
    "except Exception as err:\n",
    "    if \"Error code: 503\" in err.message:\n",
    "        print(f\"The model {GENERATOR_MODEL_NAME} is not ready yet.\")\n",
    "    else:\n",
    "        raise"
   ]
  },
  {
   "cell_type": "markdown",
   "id": "e6e1c200",
   "metadata": {},
   "source": [
    "Without additional information, Llama-3.1 is unable to answer the question correctly. **Vector in fact awarded 109 AI scholarships in 2022.** Fortunately, we do have that information available in Vector's 2021-22 Annual Report, which is available in the `source_documents` folder. Let's see how we can use RAG to augment our question with a document search and get the correct answer."
   ]
  },
  {
   "cell_type": "markdown",
   "id": "0255ea68",
   "metadata": {},
   "source": [
    "## Ingestion: Load and store the documents from `source_documents`"
   ]
  },
  {
   "cell_type": "markdown",
   "id": "ba9d0304",
   "metadata": {},
   "source": [
    "Start by reading in all the PDF files from `source_documents`, break them up into smaller digestible chunks, then encode them as vector embeddings."
   ]
  },
  {
   "cell_type": "code",
   "execution_count": 10,
   "id": "cleared-appraisal",
   "metadata": {},
   "outputs": [],
   "source": [
    "\n",
    "from langchain.document_loaders import TextLoader"
   ]
  },
  {
   "cell_type": "code",
   "execution_count": 11,
   "id": "hollywood-helping",
   "metadata": {},
   "outputs": [
    {
     "name": "stdout",
     "output_type": "stream",
     "text": [
      "'11114CA Wheat Farming in Canada Industry Report.pdf'\r\n",
      "'11115CA Corn Farming in Canada Industry Report.pdf'\r\n",
      "'33639CA Auto Parts Manufacturing in Canada Industry Report.pdf'\r\n",
      "'44111CA New Car Dealers in Canada Industry Report.pdf'\r\n",
      "'48412CA Long-Distance Freight Trucking in Canada Industry Report.pdf'\r\n",
      "'48422CA Local Specialized Freight Trucking in Canada Industry Report.pdf'\r\n",
      "'48423CA Long-Distance Specialized Freight Trucking in Canada Industry Report.pdf'\r\n"
     ]
    }
   ],
   "source": [
    "ls /projects/RAG2/scotia-2/Datasets-Scotia-2/IBIS"
   ]
  },
  {
   "cell_type": "code",
   "execution_count": 12,
   "id": "24b42902-d145-4f61-80c2-334a4b1da886",
   "metadata": {},
   "outputs": [
    {
     "name": "stdout",
     "output_type": "stream",
     "text": [
      "Setting up the embeddings model...\n"
     ]
    }
   ],
   "source": [
    "model_kwargs = {'device': 'cuda', 'trust_remote_code': True}\n",
    "encode_kwargs = {'normalize_embeddings': True} # set True to compute cosine similarity\n",
    "\n",
    "print(f\"Setting up the embeddings model...\")\n",
    "embeddings = HuggingFaceEmbeddings(\n",
    "    model_name=   EMBEDDING_MODEL_NAME,\n",
    "    model_kwargs=model_kwargs,\n",
    "    encode_kwargs=encode_kwargs,\n",
    ")"
   ]
  },
  {
   "cell_type": "code",
   "execution_count": 161,
   "id": "5710c72d",
   "metadata": {},
   "outputs": [
    {
     "name": "stdout",
     "output_type": "stream",
     "text": [
      "Number of source documents: 280\n",
      "CPU times: user 10.5 s, sys: 63.4 ms, total: 10.6 s\n",
      "Wall time: 10.6 s\n"
     ]
    }
   ],
   "source": [
    "%%time\n",
    "# Load the IBIS pdfs\n",
    "#directory_path = \"./source_documents\"\n",
    "directory_path = \"/projects/RAG2/scotia-2/Datasets-Scotia-2/IBIS\"\n",
    "loader = PyPDFDirectoryLoader(directory_path)\n",
    "docs = loader.load()\n",
    "print(f\"Number of source documents: {len(docs)}\")\n",
    "\n"
   ]
  },
  {
   "cell_type": "markdown",
   "id": "simplified-fabric",
   "metadata": {},
   "source": [
    "## Process PDFs (Optional)"
   ]
  },
  {
   "cell_type": "code",
   "execution_count": 162,
   "id": "greenhouse-philip",
   "metadata": {},
   "outputs": [
    {
     "name": "stderr",
     "output_type": "stream",
     "text": [
      "[nltk_data] Downloading package words to /h/ws_ikharchuk/nltk_data...\n",
      "[nltk_data]   Package words is already up-to-date!\n"
     ]
    },
    {
     "data": {
      "text/plain": [
       "True"
      ]
     },
     "execution_count": 162,
     "metadata": {},
     "output_type": "execute_result"
    }
   ],
   "source": [
    "import nltk\n",
    "from nltk.corpus import words\n",
    "nltk.download('words')"
   ]
  },
  {
   "cell_type": "code",
   "execution_count": 163,
   "id": "likely-arctic",
   "metadata": {},
   "outputs": [],
   "source": [
    "import re"
   ]
  },
  {
   "cell_type": "code",
   "execution_count": 164,
   "id": "crazy-temple",
   "metadata": {},
   "outputs": [],
   "source": [
    "def merge_adjacent_words3(word_list):\n",
    "    english_words = set(words.words())\n",
    "    i = 0\n",
    "    while i < len(word_list) - 2:\n",
    "        combined_word = word_list[i] + word_list[i + 1]+ word_list[i + 1]\n",
    "        if (combined_word.lower() in english_words) |(combined_word.lower().strip('s').strip('es').strip('ed') in english_words):\n",
    "            word_list[i] = combined_word\n",
    "            del word_list[i + 1]\n",
    "            del word_list[i + 1]\n",
    "        else:\n",
    "            i += 1\n",
    "    return word_list"
   ]
  },
  {
   "cell_type": "code",
   "execution_count": 165,
   "id": "streaming-implementation",
   "metadata": {},
   "outputs": [],
   "source": [
    "def merge_adjacent_words2(word_list):\n",
    "    english_words = set(words.words())\n",
    "    new_list = []\n",
    "    i = 0\n",
    "    while i < len(word_list) - 1:\n",
    "        combined_word = word_list[i] + word_list[i + 1]\n",
    "        if (combined_word.lower() in english_words) |(combined_word.lower().strip('s').strip('es').strip('ed') in english_words):\n",
    "            word_list[i] = combined_word\n",
    "            del word_list[i + 1]\n",
    "        else:\n",
    "            i += 1\n",
    "    return word_list"
   ]
  },
  {
   "cell_type": "code",
   "execution_count": 166,
   "id": "structural-literature",
   "metadata": {},
   "outputs": [
    {
     "data": {
      "text/plain": [
       "280"
      ]
     },
     "execution_count": 166,
     "metadata": {},
     "output_type": "execute_result"
    }
   ],
   "source": [
    "len (docs)"
   ]
  },
  {
   "cell_type": "code",
   "execution_count": 167,
   "id": "checked-component",
   "metadata": {},
   "outputs": [
    {
     "data": {
      "text/plain": [
       "'What are innovations in industry pr oduc ts and servic esLow Genetically modified seeds could become available  Gene tical ly modified crops like corn so ybeans and cotton have become c ommer cially available in recent decades Genetic modifications have helped tooee tivity while improving resistance to certain pests and diseases  Ther eareare c ommer cially produced genetically modified strains off t Farmerss ve been reluctant touse genetically modified seeds for wheat since it is directly consumed by people unlike so ybeans and most corn pr oduc ts There is significant upstream innovation  Changes too equipment fertilizers and other chemicalss the l argest source of innovation for farmerss stof these innovations promise too ease yiel ds improve quality and save farmerss  If a wheat farmer does not have adequate equipmen tandand terial sit will be difficult for them too compete Capital costs have steadily incr eased for farmerss recent years alongside growing input costs Key Success Factors What products or servic esdo successful businesses offer Alter goods and servic es pr oduc edin favor off et conditions The ability toothe balance between whea tandand ther crops or livestock pr oduc tion is akey factor fora farms viability Diversified farms are moree and areeee withstand do wnturns in the profitability off t Establish supply contracts fork ey inputssssee t volatility with input pric esAA consolidation has become moree among upstream supplier smany farmerss veeses supply contracts to avoid being price gouged because off Major Markets Whats influencing demand from the industrys markets Animal feedeed evenue has had ado wnturn amid high pric es  Most domestic demand for wheat comes from animal feedeed acturers Animal feedeed become moreeee recent years but a taa ower rate than wheat Switching grains is easier for animal feedeed human food causing this segment to shrink as a share of revenue  Demand for wheat for animal feedeed fuel led by animalss too to survive When pur chases off meat increase do downstream saleses f animal feedeed pr ocessing indus tries have ridden thew ave of higher pric es  Much demand comes from the Canadian Flour Milling industry IBIS World report 31121C A which pr oduc es pr oduc ts that are then used as inputss other foods like bread Given the scalee food processing indus tries in other c ountries a significant quantity off tic wheat sent abroad is used for this purpose  Due too population growth there has been a greater need for processed foods The sharp increase in the price of wheat in the past couple of years has alsoee the price per unit which has driv enaa stin revenue share for this segment Other markets comprise a modest share of revenue This segment is comprised off uses for wheat incl uding saleses seeds by farmerss businesses orc onsumer sand saleses industrial clients Wheat products are widely used in industrial markets for things like wheat starch as an adhesive  Due too versatile nature of this segment demand is driven by many factors One factor is the level of manuf acturing activity in Canada which in fluenc esthe amount of wheat requir edfor producing consumer pr oduc ts Agriculture Forestry Fishing and Hunting In Canada   11114C A Wheat Farming in Canada 13 www ibis world com November 202 4'"
      ]
     },
     "execution_count": 167,
     "metadata": {},
     "output_type": "execute_result"
    }
   ],
   "source": [
    "def process_string(test):\n",
    "    test =test.replace('.', ' ').replace('?', ' ').replace('\\n', ' ')\n",
    "    words_list = test.split()\n",
    "\n",
    "    words_list = [x.replace('•', ' ')  for x in words_list]\n",
    "\n",
    "    words_list =[re.sub(r'[^A-Za-z0-9\\s]', '', x) for x in words_list ]\n",
    "    return ' '.join(merge_adjacent_words2(merge_adjacent_words3(words_list)))\n",
    "process_string(test)"
   ]
  },
  {
   "cell_type": "code",
   "execution_count": 168,
   "id": "buried-august",
   "metadata": {},
   "outputs": [
    {
     "name": "stdout",
     "output_type": "stream",
     "text": [
      "CPU times: user 1min 17s, sys: 846 ms, total: 1min 18s\n",
      "Wall time: 1min 18s\n"
     ]
    }
   ],
   "source": [
    "%%time\n",
    "for doc in docs[:280]:\n",
    "    doc.page_content = process_string(doc.page_content)\n"
   ]
  },
  {
   "cell_type": "code",
   "execution_count": 169,
   "id": "incredible-chapter",
   "metadata": {},
   "outputs": [
    {
     "data": {
      "text/plain": [
       "'Profit Margin Total profit margin annual change from 20 11  2029 Profit Margin 6pp4pp2pp0pp2pp4pp 2012 2014 2016 2018 2020 2022 202 4 Source IBIS WorldTotal Profit 2 6bn 192411 0 Profit Margin 15 9 19244 0 pp Profit per Business 279 8k Current Performanc e201924 Revenue C AGR 4 7 Whats driving current industry perf ormanc eAA owing price of wheat has driven industry growth  Indus try perf ormanc eis closely tied too world price of wheat Farmerss charge a premium for their harvest when wheat pric esarar high Thew orld price of wheat has grown a taa AGR off 3 through the end off 4 spiking in double digit sin 2020  2021 and 2022  Suppl y largelydede the price of wheat Pric essur ge whensese weather or insect infestations cut crop yiel dsAA vere drought in 2020 and 2021 made wheat moree ce and boosted pric es  Revenue reached apeak in 2021 and declined in 2022 but has remained around 2021 levels in 2023 and 202 4 This hasss from year toyear volatility in price as it fell over 2023 in reaction too of incr eases Growth ineess fuel led revenue expansion  Export saccount for moree half of wheat farming revenue The value offss in 2022 and 2023 because off global supply andss growth in thew orld price of wheat  Export sof wheat to all of Canadass trading partnerss ve expanded in recent years China has been the l argest source of growth for wheat farmersseess China growing moree quin tupling between 20 17 and 2023 with moree 20 0 growth in 202 4  Export v olumes have been bolstered bythess r eputation off wheat products in foreign markets Canadian wheat has been praised for its versatility ling characteristics and superior endpr oduc t perf ormanc e Spring wheat remains the dominant product  Spring wheat which is typically planted in the spring and harvested in the summer the most popular industry pr oduc t by far Domestic spring wheat is high quality and is used fora variety of baked goods incl uding pas tries cak escereal crackers biscuitss pas ta Spring wheat accountgs for nearly thr eequarters of industry pr oduc tion  Produc tion off wheat which is higher in protein and contains moree amins and minerals has become moree ar thoughSS spring wheat accounts forthe vast majority off industrys wheat production Spring wheat is f avoured by farmerss it grows much better in Canadass te Profitability has impr oved alongside growing wheat pric es  High global wheat pric esha ve allowed farmerss raise their pric esand generate additional revenue which has made fixeded osts moree ture Forestry Fishing and Hunting In Canada   11114C A Wheat Farming in Canada 8 www ibis world com November 202 4'"
      ]
     },
     "execution_count": 169,
     "metadata": {},
     "output_type": "execute_result"
    }
   ],
   "source": [
    "docs[10].page_content"
   ]
  },
  {
   "cell_type": "markdown",
   "id": "expected-fusion",
   "metadata": {},
   "source": [
    "### Split the documents into smaller chunks"
   ]
  },
  {
   "cell_type": "code",
   "execution_count": 170,
   "id": "congressional-buying",
   "metadata": {},
   "outputs": [
    {
     "name": "stdout",
     "output_type": "stream",
     "text": [
      "Number of text chunks: 566\n",
      "CPU times: user 179 ms, sys: 11.8 ms, total: 191 ms\n",
      "Wall time: 187 ms\n"
     ]
    }
   ],
   "source": [
    "%%time\n",
    "\n",
    "text_splitter = RecursiveCharacterTextSplitter(chunk_size=1250, chunk_overlap=32)\n",
    "chunks = text_splitter.split_documents(docs)\n",
    "print(f\"Number of text chunks: {len(chunks)}\")"
   ]
  },
  {
   "cell_type": "code",
   "execution_count": null,
   "id": "baking-watershed",
   "metadata": {},
   "outputs": [],
   "source": []
  },
  {
   "cell_type": "code",
   "execution_count": 171,
   "id": "french-highland",
   "metadata": {},
   "outputs": [],
   "source": [
    "# Adding Reuters data"
   ]
  },
  {
   "cell_type": "code",
   "execution_count": 172,
   "id": "insured-wonder",
   "metadata": {},
   "outputs": [],
   "source": [
    "\n",
    "file_paths = ['/projects/RAG2/scotia-2/Datasets-Scotia-2/Agriculture_txt/agri_ca_co.csv', \n",
    "              '/projects/RAG2/scotia-2/Datasets-Scotia-2/Transport_txt/transport_CA.csv', \n",
    "              '/projects/RAG2/scotia-2/Datasets-Scotia-2/Auto_txt/auto_ca.csv', \n",
    "             ]\n",
    "def load_txt_file(file_path):\n",
    "    # Create a TextLoader instance\n",
    "\n",
    "    loader = TextLoader(file_path)\n",
    "\n",
    "    # Load the document\n",
    "\n",
    "    document = loader.load()\n",
    "    chunks2 =text_splitter.split_documents(document)\n",
    "    print(f\"Number of text chunks: {len(chunks2)}\")\n",
    "    return chunks2"
   ]
  },
  {
   "cell_type": "code",
   "execution_count": 173,
   "id": "literary-twist",
   "metadata": {},
   "outputs": [
    {
     "name": "stdout",
     "output_type": "stream",
     "text": [
      "Number of text chunks: 1212\n",
      "Number of text chunks: 927\n",
      "Number of text chunks: 2065\n",
      "CPU times: user 140 ms, sys: 15.9 ms, total: 156 ms\n",
      "Wall time: 160 ms\n"
     ]
    }
   ],
   "source": [
    "%%time\n",
    "for file_path in file_paths:\n",
    "    chunks2 = load_txt_file(file_path)\n",
    "    chunks= chunks +chunks2"
   ]
  },
  {
   "cell_type": "code",
   "execution_count": null,
   "id": "occasional-average",
   "metadata": {},
   "outputs": [],
   "source": []
  },
  {
   "cell_type": "markdown",
   "id": "6ef3fd15-213f-4774-88e0-bbdadf28789c",
   "metadata": {},
   "source": [
    "#### Define the embeddings model"
   ]
  },
  {
   "cell_type": "markdown",
   "id": "b4a7545e",
   "metadata": {},
   "source": [
    "## Retrieval: Make the document chunks available via a retriever"
   ]
  },
  {
   "cell_type": "markdown",
   "id": "01bc16fe",
   "metadata": {},
   "source": [
    "The retriever will identify the document chunks that most closely match our original query. (This takes about 1-2 minutes)"
   ]
  },
  {
   "cell_type": "code",
   "execution_count": 174,
   "id": "1048c42a",
   "metadata": {},
   "outputs": [
    {
     "name": "stdout",
     "output_type": "stream",
     "text": [
      "CPU times: user 1min 38s, sys: 280 ms, total: 1min 38s\n",
      "Wall time: 1min 33s\n"
     ]
    }
   ],
   "source": [
    "%%time\n",
    "vectorstore = FAISS.from_documents(chunks, embeddings)\n",
    "retriever = vectorstore.as_retriever(search_kwargs={\"k\": 5})"
   ]
  },
  {
   "cell_type": "code",
   "execution_count": 184,
   "id": "other-north",
   "metadata": {},
   "outputs": [],
   "source": [
    "industries  = [\"auto dealer\", \"wheat farming\", 'trucking']\n",
    "#industry  = \"wheat farming\"\n",
    "industry =\"auto dealer\"\n",
    "query = f\"Where are most {industry} companies are located in Canada?\"\n",
    "query1  = f' Who are the main payers in canadian {industry} companies' # bad\n",
    "\n",
    "query2 = f'What is the profit margin of Canadian {industry}'\n",
    "\n",
    "#query = f'Who are the main palyers in Canadian  {industry}?' # bad\n",
    "query3  = f' Which countries are competitors for canadian industry internationally?' # bad\n",
    "\n",
    "query4 = f'''Please provide a summary of news  grouping the most important event for the {industry} into trends. Is there is anything could be highlighted regional trends happening in Alberta, BC, and Ontatio?How profit margin of the {industry}  companies has changed in 2024. What was the main reasons?'''\n",
    " \n",
    "query5 =f''' What is the level of {industry}  consolidation in the Canadian sector, and what are the primary drivers behind this trend? '''\n",
    " \n",
    "query6 =f''' What are the primary factors contributing to the supply demand imbalance  in the {industry}  , and what strategies are {industry}  companies employing to address this issue? '''\n",
    "\n",
    "query7 = f'''How have fluctuating costs impacted the profitability of Canadian {industry}  companies over the past five years, and what strategies have they employed to mitigate this volatility? '''\n",
    " \n",
    "query8 = f'''To what extent has the adoption of new technologies impacted operational efficiency and cost structures within the Canadian {industry}   companies? What are new  technology opportunities in the sector'''\n",
    "\n",
    "query9 = f'''How significant is the competition from alternative providers for Canadian {industry}  and how are these companies adapting to this competitive landscape. What is the substitution risk.'''\n",
    " \n",
    "query10 = f'''What are the key regulatory and policy challenges facing the Canadian {industry}  companies(e.g., hours of service regulations, environmental regulations, safety standards), and how are these regulations impacting industry operations and profitability?''' \n",
    " \n",
    "\n",
    "query11 = f'''What is the level of government support (subsidies, grants, incentives) available to the Canadian {industry}  , and are any changes expected? '''\n"
   ]
  },
  {
   "cell_type": "code",
   "execution_count": 185,
   "id": "annoying-product",
   "metadata": {},
   "outputs": [],
   "source": [
    "query6 =f''' What are the innovations in  {industry} '''\n"
   ]
  },
  {
   "cell_type": "code",
   "execution_count": 186,
   "id": "designed-advisory",
   "metadata": {},
   "outputs": [],
   "source": [
    "queries  = [query1, query2, query3, query4, query5, query6, query7, query8, query9, query10, query11 ]"
   ]
  },
  {
   "cell_type": "code",
   "execution_count": 187,
   "id": "neutral-casting",
   "metadata": {},
   "outputs": [
    {
     "name": "stdout",
     "output_type": "stream",
     "text": [
      "CPU times: user 38.4 ms, sys: 204 µs, total: 38.6 ms\n",
      "Wall time: 35 ms\n"
     ]
    }
   ],
   "source": [
    "%%time\n",
    "retrieved_docs = retriever.invoke(query6)"
   ]
  },
  {
   "cell_type": "markdown",
   "id": "8fe1690e",
   "metadata": {},
   "source": [
    "Let's see what results it found. Important to note, these results are in the order the retriever thought were the best matches."
   ]
  },
  {
   "cell_type": "code",
   "execution_count": 188,
   "id": "51dc81d7-8333-41e6-9e77-47a45ee0b374",
   "metadata": {},
   "outputs": [
    {
     "name": "stdout",
     "output_type": "stream",
     "text": [
      "Document 1:\n",
      "\n",
      "muchneeded stability into the aut omobil e manuf acturing supply chain This stability will spur downstream consumer demand giving auto partss ers moree tooee equipment manuf acturing contracts from aut omak ers Innovation will create new opportunit esfor auto partss acturers  Automak ers have added many advanced features to vehicl es incl uding filtrations ystems too pathogens and allergens alongside new airbags that cushion the head better on impact Numerous r ecalls for airbags over the past decade have spurreded latters innovations These innovations have generally created new growth opportunities for auto partss acturers which will persist through the outlook period  The increasing pr ominenc eof electric and autonomous v ehicl es will also create demand fora host of niche y advanced auto partss trend will eventually lead too specialization and fr agmen tation among partss acturers  Even sov ehicl eslackee t systems Ass grow moree ar demand fortheee t segment will falter posing a threat to specialized manufacturers Overall auto partss acturers will need toot to major demand and t echnol ogical shift s through the outlook period too successful Consumerss l replace aging v ehicl es  Househol dsandandss arly replace aging v ehicl\n",
      "----------------------------------------------------------------------------------------------------\n",
      "Document 2:\n",
      "\n",
      "Productseses tation Industry revenue in 202 4 broken down by key produc tandandee Used v ehicl es80 6bn 42 3 New vehicl es75 7bn 39 7 Parts and repair servic es23 3bn 12 2 Other 11 1bn5 8 Source IBIS World What are innovations in industry pr oduc ts and servic esLow Electric v ehicl es EVs open up anew market  Car deal ers carrying hybrid and electric carss reach a growing market segment Moree brands have announc edel ectric v ehicl esNew car deal ers must be on top off innovations too advantage  Shifting demand forel ectric and hybrid v ehicl esal ongside go vernmen t programs and inc entives may challenge traditional brands Car deal ers must adapt to changing pr eferences and t echnol ogies The interne thas changed how customers shop  Although the inper son activity off ling v ehicl eshas under gone little change over the past 50 years new car deal erships use innovative marketing t echniques tooee traffic too erships  Deal erships have used social media and the Interne t to advertise their inventory and pric esgiving consumers moree tions Online transactions have also represented all share of revenue Key Success Factors What products or servic esdo successful businesses offer Provision off a ftersal es service Providing partss\n",
      "----------------------------------------------------------------------------------------------------\n",
      "Document 3:\n",
      "\n",
      "Adapting to Industry Change\n",
      "\n",
      "The automotive industry, our primary market, is undergoing signicant\n",
      "transformation. While recent years have seen strong demand for light vehicles,\n",
      "the near-term outlook reects softer conditions driven by economic pressures\n",
      "with production adjustments taking eect. At the same time, the pace of\n",
      "electric vehicle (EV) adoption has moderated, the lifespan of internal\n",
      "combustion engines (ICE) is extending, and the use of hybrid powertrains is\n",
      "gaining momentum. How- ever, the longer-term outlook for the automotive\n",
      "industry remains very positive, with easing interest rates expected to improve\n",
      "vehicle aordability and the need to replace an aging eet driving renewed\n",
      "growth in consumer demand. Additionally, improving safety and\n",
      "\n",
      "technology features are creating new opportunities, as advancements such as\n",
      "advanced driver-assistance systems (ADAS) and enhanced connectivity are\n",
      "increasingly inuencing consumer preferences and fostering greater demand.\n",
      "----------------------------------------------------------------------------------------------------\n",
      "Document 4:\n",
      "\n",
      "Products and Markets Key Takeaways New car deal ers primarily sell new and used v ehicl esDeal ers use tr adeins and other offers to suppl emen t revenue from new car sales New car deal ers suppl emen t car saleses repair and financing servic esThese servic esoften generate higher returns but represen taa l portion off revenue Largest Market 80 6bn Used v ehicl esProduct Innovation Low Products and Servic esHow aree industrys pr oduc ts and servic es perf orming New vehicl esha ve lost ground  New car saleses count for moree a thirdd total revenue New cars are moreeee used carss repairssss ly purchase new carss Canada the average v ehicl e lifespan is 3 22000 kil ome tres Most consumerss carss 10 too years  Major innovations can encourage individualss upgrade carssee tly People may trade in used v ehicl esfor greater phone connectivity and safety impr ovemen ts Similarly fuelee y afforded by hybrid and electric driving t echnol ogy has enc ouraged many consumerss purchase new vehicl es supporting this segment  This segment also relies on discretionary income and c orpor ate profit When economic conditions improve consumerss businesses areeee to purchase new vehicl esDeal ers faced volatile new car saleses ough the current period\n",
      "----------------------------------------------------------------------------------------------------\n",
      "Document 5:\n",
      "\n",
      "Invest in r esearch anddede t Innovation is critical too auto partss acturers success This practice enabl es manufacturers to differentiate from c ompe titors and securee with v alueadded pr oduc ts Manuf acturing In Canada   3363 9CA Auto Parts Manuf acturing in Canada 35 www ibis world com September 202 4\n"
     ]
    }
   ],
   "source": [
    "pretty_print_docs(retrieved_docs)"
   ]
  },
  {
   "cell_type": "markdown",
   "id": "9ad5e95e-f127-4092-b960-33b39ad21147",
   "metadata": {},
   "source": [
    "## Now send the query to the RAG pipeline"
   ]
  },
  {
   "cell_type": "code",
   "execution_count": 182,
   "id": "e26d9f46-a082-4497-8ffc-9fa3eccc2ef3",
   "metadata": {},
   "outputs": [
    {
     "name": "stdout",
     "output_type": "stream",
     "text": [
      "Result: \n",
      "\n",
      "Low. Innovations in wheat farming include the potential availability of genetically modified seeds, which could improve yield and resistance to pests and diseases, as well as upstream innovations in equipment, fertilizers, and other chemicals that can ease yields, improve quality, and save farmers costs.\n",
      "CPU times: user 62.1 ms, sys: 7.97 ms, total: 70 ms\n",
      "Wall time: 2.61 s\n"
     ]
    }
   ],
   "source": [
    "%%time\n",
    "rag_pipeline = RetrievalQA.from_llm(llm=llm, retriever=retriever)\n",
    "query =query6 +' Please answer in 2 sentences maximum. If answer is not available, answer NA ' \n",
    "result = rag_pipeline.invoke(input=query +' Please answer in 2 sentences maximum. If answer is not available, answer NA ' )\n",
    "print(f\"Result: \\n\\n{result['result'].replace ('According to the provided context, ', '')}\")"
   ]
  },
  {
   "cell_type": "markdown",
   "id": "3008507b",
   "metadata": {},
   "source": []
  },
  {
   "cell_type": "markdown",
   "id": "understood-while",
   "metadata": {},
   "source": [
    "# Loop"
   ]
  },
  {
   "cell_type": "code",
   "execution_count": 183,
   "id": "contrary-store",
   "metadata": {},
   "outputs": [
    {
     "name": "stdout",
     "output_type": "stream",
     "text": [
      "Result_1: \n",
      "\n",
      "the main players in the Canadian wheat farming industry are not explicitly mentioned, but it is mentioned that no single company accounts for more than 5% of the industry market share. Therefore, the answer is NA.\n",
      "------------------------------------------------------------------------------------------------------------------------\n",
      "Result_2: \n",
      "\n",
      "The profit margin of Canadian wheat farming is 15.9% as of 2024. This is based on data from IBIS World, which reports that the profit margin has remained relatively stable over the past few years.\n",
      "------------------------------------------------------------------------------------------------------------------------\n",
      "Result_3: \n",
      "\n",
      "According to the context, countries that are competitors for the Canadian auto parts industry internationally include the United States, Japan, Germany, and South Korea, which have extensive automotive and manufacturing sectors and are major buyers of auto parts. Additionally, countries like Mexico also pose a competitive threat due to their lower labor and environmental regulations, making them a significant source of imports.\n",
      "------------------------------------------------------------------------------------------------------------------------\n",
      "Result_4: \n",
      "\n",
      "Here is a summary of the news grouped into trends:\n",
      "\n",
      "**Global Trends:**\n",
      "\n",
      "* The world price of wheat has been increasing, driven by global supply concerns and droughts in major wheat-producing countries.\n",
      "* The price of wheat has grown at a CAGR of 3% from 2020 to 2024, with spikes in 2020, 2021, and 2022.\n",
      "\n",
      "**Regional Trends:**\n",
      "\n",
      "* In Canada, the wheat farming industry has experienced growth despite economic volatility, with revenue reaching $16.1 billion in 2024.\n",
      "* Alberta, BC, and Ontario have not been specifically highlighted as having unique regional trends in the provided context.\n",
      "\n",
      "**Profit Margin:**\n",
      "\n",
      "* The profit margin of wheat farming companies has decreased from 15.9% in 2019 to 4.0% in 2024.\n",
      "* The main reason for this decrease is the year-to-year volatility in the price of wheat, which fell in 2023 in reaction to increased supply and global growth.\n",
      "------------------------------------------------------------------------------------------------------------------------\n",
      "Result_5: \n",
      "\n",
      "The level of wheat farming consolidation in the Canadian sector is Low, as no farmer has a controlling share of the market and most farms employ fewer than five individuals. The primary drivers behind this trend are the limited need for workers due to the advancement of farm machinery and the lack of a controlling share of the market among farmers.\n",
      "------------------------------------------------------------------------------------------------------------------------\n",
      "Result_6: \n",
      "\n",
      "Low: Genetically modified seeds could become available, which could help to improve resistance to certain pests and diseases, but farmers have been reluctant to use them for wheat since it is directly consumed by people. \n",
      "\n",
      "Significant upstream innovation in equipment, fertilizers, and other chemicals, which promise to ease yields, improve quality, and save farmers costs.\n",
      "------------------------------------------------------------------------------------------------------------------------\n",
      "Result_7: \n",
      "\n",
      "Canadian wheat farming companies have experienced fluctuating costs over the past five years, with rising costs such as fertilizer and repair costs impacting profit margins. To mitigate this volatility, companies have employed strategies such as long-term buying contracts, crop insurance, and financial hedging to stabilize their costs and revenue.\n",
      "------------------------------------------------------------------------------------------------------------------------\n",
      "Result_8: \n",
      "\n",
      "The adoption of new technologies, such as precision farming and automation, has significantly impacted operational efficiency and cost structures within Canadian wheat farming companies, allowing them to boost efficiency, improve productivity, and reduce costs. New technology opportunities in the sector include the development of genetically modified seeds, advanced irrigation systems, and data analytics tools to optimize crop yields and reduce waste.\n",
      "------------------------------------------------------------------------------------------------------------------------\n",
      "Result_9: \n",
      "\n",
      "The competition from alternative providers for Canadian wheat farming is moderate, with alternative grains such as amaranth, buckwheat, millet, quinoa, and teff gaining popularity in recent years, driven by consumer demand for gluten-free options. The substitution risk is moderate to high, as consumers are increasingly seeking out alternative grains, which could potentially erode demand for traditional wheat products.\n",
      "------------------------------------------------------------------------------------------------------------------------\n",
      "Result_10: \n",
      "\n",
      "NA\n",
      "------------------------------------------------------------------------------------------------------------------------\n",
      "Result_11: \n",
      "\n",
      "According to the context, there are various government programs that help farmers manage the system and take full advantage of available resources, but the specific level of support is not explicitly stated. However, it is mentioned that wheat farmers can take advantage of \"vernment subsidies and other grants\" to help them navigate the system.\n",
      "------------------------------------------------------------------------------------------------------------------------\n",
      "CPU times: user 881 ms, sys: 27.8 ms, total: 909 ms\n",
      "Wall time: 33.8 s\n"
     ]
    }
   ],
   "source": [
    "%%time\n",
    "for i, query in enumerate (queries):\n",
    "    query = query + ' Please answer in 2 sentences maximum. If answer is not available, answer NA ' \n",
    "    retrieved_docs = retriever.invoke(query)\n",
    "    rag_pipeline = RetrievalQA.from_llm(llm=llm, retriever=retriever)\n",
    "    result = rag_pipeline.invoke(input=query)\n",
    "    print(f\"Result_{i+1}: \\n\\n{result['result'].replace ('According to the provided context, ', '').replace ('Based on the provided context, ', '')}\")\n",
    "    print ('-'*120)\n",
    "    \n",
    "    "
   ]
  },
  {
   "cell_type": "code",
   "execution_count": null,
   "id": "finished-sharp",
   "metadata": {},
   "outputs": [],
   "source": []
  }
 ],
 "metadata": {
  "kernelspec": {
   "display_name": "rag_dataloaders",
   "language": "python",
   "name": "rag_dataloaders"
  },
  "language_info": {
   "codemirror_mode": {
    "name": "ipython",
    "version": 3
   },
   "file_extension": ".py",
   "mimetype": "text/x-python",
   "name": "python",
   "nbconvert_exporter": "python",
   "pygments_lexer": "ipython3",
   "version": "3.10.12"
  }
 },
 "nbformat": 4,
 "nbformat_minor": 5
}
