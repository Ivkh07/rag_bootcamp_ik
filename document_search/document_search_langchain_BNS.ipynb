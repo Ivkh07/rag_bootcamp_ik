{
 "cells": [
  {
   "cell_type": "markdown",
   "id": "3d86f6cd",
   "metadata": {},
   "source": [
    "# Document Search with LangChain"
   ]
  },
  {
   "cell_type": "markdown",
   "id": "4168e6b6",
   "metadata": {},
   "source": [
    "This example shows how to use the Python [LangChain](https://python.langchain.com/docs/get_started/introduction) library to run a text-generation request on open-source LLMs and embedding models using the OpenAI SDK, then augment that request using the text stored in a collection of local PDF documents.\n",
    "\n",
    "### <u>Requirements</u>\n",
    "1. As you will accessing the LLMs and embedding models through Vector AI Engineering's Kaleidoscope Service (Vector Inference + Autoscaling), you will need to request a KScope API Key:\n",
    "\n",
    "   Run the following command (replace ```<user_id>``` and ```<password>```) from **within the cluster** to obtain the API Key. The ```access_token``` in the output is your KScope API Key.\n",
    "  ```bash\n",
    "  curl -X POST -d \"grant_type=password\" -d \"username=<user_id>\" -d \"password=<password>\" https://kscope.vectorinstitute.ai/token\n",
    "  ```\n",
    "2. After obtaining the `.env` configurations, make sure to create the ```.kscope.env``` file in your home directory (```/h/<user_id>```) and set the following env variables:\n",
    "- For local models through Kaleidoscope (KScope):\n",
    "    ```bash\n",
    "    export OPENAI_BASE_URL=\"https://kscope.vectorinstitute.ai/v1\"\n",
    "    export OPENAI_API_KEY=<kscope_api_key>\n",
    "    ```\n",
    "- For OpenAI models:\n",
    "   ```bash\n",
    "   export OPENAI_BASE_URL=\"https://api.openai.com/v1\"\n",
    "   export OPENAI_API_KEY=<openai_api_key>\n",
    "   ```\n",
    "3. (Optional) Upload some pdf files into the `source_documents` subfolder under this notebook. We have already provided some sample pdfs, but feel free to replace these with your own."
   ]
  },
  {
   "cell_type": "markdown",
   "id": "22e4da1f",
   "metadata": {},
   "source": [
    "## Set up the RAG workflow environment"
   ]
  },
  {
   "cell_type": "markdown",
   "id": "1e2cb87e-cdf4-4002-a700-77db86d0b318",
   "metadata": {},
   "source": [
    "#### Import libraries"
   ]
  },
  {
   "cell_type": "code",
   "execution_count": 7,
   "id": "742aa343-c90c-4e4a-8099-a3fa218e256d",
   "metadata": {},
   "outputs": [],
   "source": [
    "import warnings\n",
    "warnings.filterwarnings('ignore')"
   ]
  },
  {
   "cell_type": "code",
   "execution_count": 8,
   "id": "2f637730",
   "metadata": {},
   "outputs": [],
   "source": [
    "import os\n",
    "import requests\n",
    "import sys\n",
    "\n",
    "from pathlib import Path\n",
    "\n",
    "from langchain.chains import RetrievalQA\n",
    "from langchain_community.vectorstores import FAISS\n",
    "from langchain.document_loaders.pdf import PyPDFDirectoryLoader\n",
    "from langchain_huggingface.embeddings import HuggingFaceEmbeddings\n",
    "from langchain_openai import ChatOpenAI\n",
    "from langchain.text_splitter import RecursiveCharacterTextSplitter"
   ]
  },
  {
   "cell_type": "markdown",
   "id": "567a7448",
   "metadata": {},
   "source": [
    "#### Load config files"
   ]
  },
  {
   "cell_type": "code",
   "execution_count": 9,
   "id": "1e70d51a",
   "metadata": {},
   "outputs": [],
   "source": [
    "# Add root folder of the rag_bootcamp repo to PYTHONPATH\n",
    "current_dir = Path().resolve()\n",
    "parent_dir = current_dir.parent\n",
    "sys.path.insert(0, str(parent_dir))\n",
    "\n",
    "from utils.load_secrets import load_env_file\n",
    "load_env_file()"
   ]
  },
  {
   "cell_type": "code",
   "execution_count": 10,
   "id": "e9e0bec6-a89c-4fca-a218-c784ec18e109",
   "metadata": {},
   "outputs": [],
   "source": [
    "GENERATOR_BASE_URL = os.environ.get(\"OPENAI_BASE_URL\")\n",
    "\n",
    "OPENAI_API_KEY = os.environ.get(\"OPENAI_API_KEY\")"
   ]
  },
  {
   "cell_type": "markdown",
   "id": "12ecf9ac",
   "metadata": {},
   "source": [
    "#### Set up some helper functions"
   ]
  },
  {
   "cell_type": "code",
   "execution_count": 11,
   "id": "dd4e2417",
   "metadata": {},
   "outputs": [],
   "source": [
    "def pretty_print_docs(docs):\n",
    "    print(\n",
    "        f\"\\n{'-' * 100}\\n\".join(\n",
    "            [f\"Document {i+1}:\\n\\n\" + d.page_content for i, d in enumerate(docs)]\n",
    "        )\n",
    "    )"
   ]
  },
  {
   "cell_type": "markdown",
   "id": "d9edd103",
   "metadata": {},
   "source": [
    "#### Make sure other necessary items are in place"
   ]
  },
  {
   "cell_type": "code",
   "execution_count": 12,
   "id": "74b61e4f",
   "metadata": {},
   "outputs": [],
   "source": [
    "# Look for the source_documents folder and make sure there is at least 1 pdf file here\n",
    "contains_pdf = False\n",
    "directory_path = \"./source_documents\"\n",
    "if not os.path.exists(directory_path):\n",
    "    print(f\"ERROR: The {directory_path} subfolder must exist under this notebook\")\n",
    "for filename in os.listdir(directory_path):\n",
    "    contains_pdf = True if \".pdf\" in filename else contains_pdf\n",
    "if not contains_pdf:\n",
    "    print(f\"ERROR: The {directory_path} subfolder must contain at least one .pdf file\")"
   ]
  },
  {
   "cell_type": "markdown",
   "id": "a83c93ad-fe81-4acd-9ea3-eca9b425ee9a",
   "metadata": {},
   "source": [
    "#### Choose LLM and embedding model"
   ]
  },
  {
   "cell_type": "code",
   "execution_count": 62,
   "id": "2553d130-5b02-4852-928f-beb7ecd05d3f",
   "metadata": {},
   "outputs": [],
   "source": [
    "GENERATOR_MODEL_NAME = \"Meta-Llama-3.1-8B-Instruct\"\n",
    "#GENERATOR_MODEL_NAME = 'DeepSeek-R1-Distill-Qwen-1.5B'\n",
    "EMBEDDING_MODEL_NAME = \"BAAI/bge-base-en-v1.5\"\n"
   ]
  },
  {
   "cell_type": "markdown",
   "id": "1e558afb",
   "metadata": {},
   "source": [
    "## Start with a basic generation request without RAG augmentation\n",
    "\n",
    "Let's start by asking Llama-3.1 a difficult, domain-specific question we don't expect it to have an answer to. A simple question like \"*What is the capital of France?*\" is not a good question here, because that's world knowledge that we expect the LLM to know.\n",
    "\n",
    "Instead, we want to ask it a question that is domain-specific and it won't know the answer to. A good example would be an obscure detail buried deep within a company's annual report. For example:\n",
    "\n",
    "*How many Vector scholarships in AI were awarded in 2022?*"
   ]
  },
  {
   "cell_type": "code",
   "execution_count": 63,
   "id": "6133a928",
   "metadata": {},
   "outputs": [],
   "source": [
    "query = \"How many Vector scholarships in AI were awarded in 2022?\""
   ]
  },
  {
   "cell_type": "markdown",
   "id": "358a22c5",
   "metadata": {},
   "source": [
    "## Now send the query to the open source model using KScope"
   ]
  },
  {
   "cell_type": "code",
   "execution_count": 64,
   "id": "adopted-repair",
   "metadata": {},
   "outputs": [],
   "source": [
    "llm = ChatOpenAI(\n",
    "    model=GENERATOR_MODEL_NAME,\n",
    "    temperature=0,\n",
    "    max_tokens=None,\n",
    "    base_url=GENERATOR_BASE_URL,\n",
    "    api_key=OPENAI_API_KEY\n",
    ")"
   ]
  },
  {
   "cell_type": "code",
   "execution_count": 65,
   "id": "00061d61",
   "metadata": {},
   "outputs": [
    {
     "name": "stdout",
     "output_type": "stream",
     "text": [
      "Result: \n",
      "\n",
      "I don't have access to real-time data or specific information about the number of Vector scholarships in AI awarded in 2022. For the most accurate and up-to-date information, I recommend checking directly with Vector Institute or their official website. They would have the most current details on their scholarship programs and awards.\n",
      "CPU times: user 18.5 ms, sys: 12.1 ms, total: 30.5 ms\n",
      "Wall time: 1.94 s\n"
     ]
    }
   ],
   "source": [
    "%%time\n",
    "message = [\n",
    "    (\"human\", query),\n",
    "]\n",
    "try:\n",
    "    result = llm.invoke(message)\n",
    "    print(f\"Result: \\n\\n{result.content}\")\n",
    "except Exception as err:\n",
    "    if \"Error code: 503\" in err.message:\n",
    "        print(f\"The model {GENERATOR_MODEL_NAME} is not ready yet.\")\n",
    "    else:\n",
    "        raise"
   ]
  },
  {
   "cell_type": "markdown",
   "id": "e6e1c200",
   "metadata": {},
   "source": [
    "Without additional information, Llama-3.1 is unable to answer the question correctly. **Vector in fact awarded 109 AI scholarships in 2022.** Fortunately, we do have that information available in Vector's 2021-22 Annual Report, which is available in the `source_documents` folder. Let's see how we can use RAG to augment our question with a document search and get the correct answer."
   ]
  },
  {
   "cell_type": "markdown",
   "id": "0255ea68",
   "metadata": {},
   "source": [
    "## Ingestion: Load and store the documents from `source_documents`"
   ]
  },
  {
   "cell_type": "markdown",
   "id": "ba9d0304",
   "metadata": {},
   "source": [
    "Start by reading in all the PDF files from `source_documents`, break them up into smaller digestible chunks, then encode them as vector embeddings."
   ]
  },
  {
   "cell_type": "code",
   "execution_count": 17,
   "id": "cleared-appraisal",
   "metadata": {},
   "outputs": [],
   "source": [
    "\n",
    "from langchain.document_loaders import TextLoader"
   ]
  },
  {
   "cell_type": "code",
   "execution_count": 18,
   "id": "hollywood-helping",
   "metadata": {},
   "outputs": [
    {
     "name": "stdout",
     "output_type": "stream",
     "text": [
      "'11114CA Wheat Farming in Canada Industry Report.pdf'\r\n",
      "'11115CA Corn Farming in Canada Industry Report.pdf'\r\n",
      "'33639CA Auto Parts Manufacturing in Canada Industry Report.pdf'\r\n",
      "'44111CA New Car Dealers in Canada Industry Report.pdf'\r\n",
      "'48412CA Long-Distance Freight Trucking in Canada Industry Report.pdf'\r\n",
      "'48422CA Local Specialized Freight Trucking in Canada Industry Report.pdf'\r\n",
      "'48423CA Long-Distance Specialized Freight Trucking in Canada Industry Report.pdf'\r\n"
     ]
    }
   ],
   "source": [
    "ls /projects/RAG2/scotia-2/Datasets-Scotia-2/IBIS"
   ]
  },
  {
   "cell_type": "code",
   "execution_count": 19,
   "id": "24b42902-d145-4f61-80c2-334a4b1da886",
   "metadata": {},
   "outputs": [
    {
     "name": "stdout",
     "output_type": "stream",
     "text": [
      "Setting up the embeddings model...\n"
     ]
    }
   ],
   "source": [
    "model_kwargs = {'device': 'cuda', 'trust_remote_code': True}\n",
    "encode_kwargs = {'normalize_embeddings': True} # set True to compute cosine similarity\n",
    "\n",
    "print(f\"Setting up the embeddings model...\")\n",
    "embeddings = HuggingFaceEmbeddings(\n",
    "    model_name=   EMBEDDING_MODEL_NAME,\n",
    "    model_kwargs=model_kwargs,\n",
    "    encode_kwargs=encode_kwargs,\n",
    ")"
   ]
  },
  {
   "cell_type": "code",
   "execution_count": 43,
   "id": "5710c72d",
   "metadata": {},
   "outputs": [
    {
     "name": "stdout",
     "output_type": "stream",
     "text": [
      "Number of source documents: 280\n",
      "CPU times: user 10.5 s, sys: 134 ms, total: 10.7 s\n",
      "Wall time: 10.7 s\n"
     ]
    }
   ],
   "source": [
    "%%time\n",
    "# Load the IBIS pdfs\n",
    "#directory_path = \"./source_documents\"\n",
    "directory_path = \"/projects/RAG2/scotia-2/Datasets-Scotia-2/IBIS\"\n",
    "loader = PyPDFDirectoryLoader(directory_path)\n",
    "docs = loader.load()\n",
    "print(f\"Number of source documents: {len(docs)}\")\n",
    "\n"
   ]
  },
  {
   "cell_type": "code",
   "execution_count": 48,
   "id": "clear-meditation",
   "metadata": {},
   "outputs": [
    {
     "name": "stdout",
     "output_type": "stream",
     "text": [
      "CPU times: user 3.21 s, sys: 125 ms, total: 3.33 s\n",
      "Wall time: 3.33 s\n"
     ]
    }
   ],
   "source": [
    "%%time\n",
    "for doc in docs[:12]:\n",
    "    doc.page_content = process_string(doc.page_content)"
   ]
  },
  {
   "cell_type": "code",
   "execution_count": 49,
   "id": "received-scheduling",
   "metadata": {},
   "outputs": [
    {
     "data": {
      "text/plain": [
       "'manageable Combined with capital in vestments that have reduced farmerssee labour profit hasee for Canadian wheat farmerss fertilizer pric esha ve limiteded ofit growth though The price of fertilizer doubled between 20 19 and 2022 boo sting input costs for farmerssee er is a widely used c omponen tin agriculture In they ears since this has comedown some what  Growth in purchase costs has been a major concern for wheat farmerss recent years Costs for other major inputssee and supplies have grown in tandem with f ertiliz er pric esVolatility High Wheat pric esarardede globally  Global supply and demand conditions dictate the price of wheat The global supply of wheat is the primarydede t of price since demand tends too relatively steady  Changes in thew orld price of wheat have fuel led revenue volatility in recent years Strong growth in wheat pric eshas been the primary contributor to revenue growth Weather affects the supply of wheat  Weather conditions aree ant for any agricultural industry Adverse weather can negatively affect yiel dsandand op quality Genetically modified crops have impr oved the viability off crops during ins tances offerse weather but many consumerss hesitant about consuming these pr oduc ts  In 2022 drough ts in partss the Uniteded tates c ontribut edtoto global supply shortage off t This combined with growing difficul ties in Ukraine due too war caused thew orld price of wheat to expand 35 5 in 2022 alone Roller Coaster Industry volatility vss growth 20 1824 CAGR Source IBIS WorldBelowGDP growth Abo veGDP growth Revenue GrowthVolatility HighRoller Coaster Blue Chip Stagnan tHazar dousLow Agriculture Forestry Fishing and Hunting In Canada   11114C A Wheat Farming in Canada 9 www ibis world com November 202 4'"
      ]
     },
     "execution_count": 49,
     "metadata": {},
     "output_type": "execute_result"
    }
   ],
   "source": [
    "docs[11].page_content"
   ]
  },
  {
   "cell_type": "code",
   "execution_count": 47,
   "id": "capital-dallas",
   "metadata": {},
   "outputs": [
    {
     "data": {
      "text/plain": [
       "['manageabl',\n",
       " 'e.',\n",
       " 'Combined',\n",
       " 'with',\n",
       " 'capital',\n",
       " 'in',\n",
       " 'vestments',\n",
       " 'that',\n",
       " 'have',\n",
       " 'reduced',\n",
       " 'farmer',\n",
       " \"s'\",\n",
       " 'reliance',\n",
       " 'on',\n",
       " 'l']"
      ]
     },
     "execution_count": 47,
     "metadata": {},
     "output_type": "execute_result"
    }
   ],
   "source": [
    "test[:20],\n",
    "merge_adjacent_words3( merge_adjacent_words2(test[:20]))"
   ]
  },
  {
   "cell_type": "markdown",
   "id": "graphic-pepper",
   "metadata": {},
   "source": [
    "## Process PDFs (Optional)"
   ]
  },
  {
   "cell_type": "code",
   "execution_count": 21,
   "id": "constant-bracelet",
   "metadata": {},
   "outputs": [
    {
     "name": "stderr",
     "output_type": "stream",
     "text": [
      "[nltk_data] Downloading package words to /h/ws_ikharchuk/nltk_data...\n",
      "[nltk_data]   Package words is already up-to-date!\n"
     ]
    },
    {
     "data": {
      "text/plain": [
       "True"
      ]
     },
     "execution_count": 21,
     "metadata": {},
     "output_type": "execute_result"
    }
   ],
   "source": [
    "import nltk\n",
    "from nltk.corpus import words\n",
    "nltk.download('words')"
   ]
  },
  {
   "cell_type": "code",
   "execution_count": null,
   "id": "palestinian-brave",
   "metadata": {},
   "outputs": [],
   "source": []
  },
  {
   "cell_type": "code",
   "execution_count": 22,
   "id": "loaded-speaking",
   "metadata": {},
   "outputs": [],
   "source": [
    "import re"
   ]
  },
  {
   "cell_type": "code",
   "execution_count": 35,
   "id": "essential-swiss",
   "metadata": {},
   "outputs": [],
   "source": [
    "def merge_adjacent_words3(word_list):\n",
    "    english_words = set(words.words())\n",
    "    i = 0\n",
    "    while i < len(word_list) - 2:\n",
    "        combined_word = word_list[i] + word_list[i + 1]+ word_list[i + 1]\n",
    "        if (combined_word.lower() in english_words) |(combined_word.lower().strip('s').strip('es').strip('ed') in english_words):\n",
    "            word_list[i] = combined_word\n",
    "            del word_list[i + 1]\n",
    "            del word_list[i + 1]\n",
    "        else:\n",
    "            i += 1\n",
    "    return word_list"
   ]
  },
  {
   "cell_type": "code",
   "execution_count": 36,
   "id": "infinite-microphone",
   "metadata": {},
   "outputs": [],
   "source": [
    "def merge_adjacent_words2(word_list):\n",
    "    english_words = set(words.words())\n",
    "    new_list = []\n",
    "    i = 0\n",
    "    while i < len(word_list) - 1:\n",
    "        combined_word = word_list[i] + word_list[i + 1]\n",
    "        if (combined_word.lower() in english_words) |(combined_word.lower().strip('s').strip('es').strip('ed') in english_words):\n",
    "            word_list[i] = combined_word\n",
    "            del word_list[i + 1]\n",
    "        else:\n",
    "            i += 1\n",
    "    return word_list"
   ]
  },
  {
   "cell_type": "code",
   "execution_count": 37,
   "id": "sufficient-maker",
   "metadata": {},
   "outputs": [],
   "source": [
    "# def merge_adjacent_words2(word_list):\n",
    "#     english_words = set(words.words())\n",
    "#     new_list = []\n",
    "#     i = 0\n",
    "#     while i < len(word_list) - 1:\n",
    "#         combined_word = word_list[i] + word_list[i + 1]\n",
    "#         if (combined_word.lower() in english_words) |(combined_word.lower().strip('s').strip('es').strip('ed').strip('ing') in english_words):\n",
    "#             new_list.append (combined_word)\n",
    "#             i += 2           \n",
    "#         else:\n",
    "#             new_list.append (word_list[i])\n",
    "#             i += 1\n",
    "#     return new_list"
   ]
  },
  {
   "cell_type": "code",
   "execution_count": 38,
   "id": "suspended-amazon",
   "metadata": {},
   "outputs": [],
   "source": [
    "def process_string(test):\n",
    "    test =test.replace('. ', ' ').replace('?', ' ').replace('\\n', ' ')\n",
    "    words_list = test.split()\n",
    "\n",
    "    words_list = [x.replace('•', ' ')  for x in words_list]\n",
    "\n",
    "    #words_list =[re.sub(r'[^A-Za-z0-9\\s]', '', x) for x in words_list ]\n",
    "    return ' '.join(merge_adjacent_words2(merge_adjacent_words3(words_list)))\n",
    "#process_string(test)"
   ]
  },
  {
   "cell_type": "code",
   "execution_count": 22,
   "id": "loaded-desert",
   "metadata": {},
   "outputs": [
    {
     "name": "stdout",
     "output_type": "stream",
     "text": [
      "CPU times: user 1min 8s, sys: 4.26 s, total: 1min 12s\n",
      "Wall time: 1min 12s\n"
     ]
    }
   ],
   "source": [
    "%%time\n",
    "for doc in docs[:]:\n",
    "    doc.page_content = process_string(doc.page_content)\n"
   ]
  },
  {
   "cell_type": "code",
   "execution_count": 23,
   "id": "adapted-local",
   "metadata": {},
   "outputs": [],
   "source": [
    "#docs[10].page_content"
   ]
  },
  {
   "cell_type": "markdown",
   "id": "agreed-bachelor",
   "metadata": {},
   "source": [
    "### Split the documents into smaller chunks"
   ]
  },
  {
   "cell_type": "code",
   "execution_count": 24,
   "id": "configured-flush",
   "metadata": {},
   "outputs": [
    {
     "name": "stdout",
     "output_type": "stream",
     "text": [
      "Number of text chunks: 566\n",
      "CPU times: user 165 ms, sys: 15.6 ms, total: 180 ms\n",
      "Wall time: 177 ms\n"
     ]
    }
   ],
   "source": [
    "%%time\n",
    "\n",
    "text_splitter = RecursiveCharacterTextSplitter(chunk_size=1250, chunk_overlap=32)\n",
    "chunks = text_splitter.split_documents(docs)\n",
    "print(f\"Number of text chunks: {len(chunks)}\")"
   ]
  },
  {
   "cell_type": "code",
   "execution_count": 55,
   "id": "cooperative-thursday",
   "metadata": {},
   "outputs": [],
   "source": [
    "# Adding Reuters data\n",
    "text_splitter = RecursiveCharacterTextSplitter(chunk_size=1250, chunk_overlap=32)"
   ]
  },
  {
   "cell_type": "code",
   "execution_count": null,
   "id": "acceptable-norfolk",
   "metadata": {},
   "outputs": [],
   "source": [
    "def read_csv_from_directory(directory_path):\n",
    "    dataframes= []\n",
    "    for filename in os.listdir(directory_path):\n",
    "        if filename.endswith('.csv'): \n",
    "            file_path = os.path.join(directory_path, filename)\n",
    "            df = pd.read_csv(file_path)\n",
    "            df[\"source\"] = filename\n",
    "            # print(df.head(1))\n",
    "            dataframes.append(df)\n",
    "    return pd.concat(dataframes, ignore_index=True)"
   ]
  },
  {
   "cell_type": "markdown",
   "id": "numerous-watch",
   "metadata": {},
   "source": [
    "# Load cleaned PFD from txt files "
   ]
  },
  {
   "cell_type": "code",
   "execution_count": 50,
   "id": "conventional-mayor",
   "metadata": {},
   "outputs": [],
   "source": [
    "directory_path  ='/projects/RAG2/scotia-2/Datasets-Scotia-2/PDF_text'\n",
    "\n",
    "chunks=[]\n",
    "for filename in os.listdir(directory_path):\n",
    "    if filename.endswith('.txt'):\n",
    "        file_path = os.path.join(directory_path, filename)\n",
    "        print (file_path)\n",
    "        loader = TextLoader(file_path)\n",
    "\n",
    "        # Load the document\n",
    "\n",
    "        document = loader.load()\n",
    "        chunks2 =text_splitter.split_documents(document)\n",
    "        print(f\"Number of text chunks: {len(chunks2)}\")\n",
    "        chunks= chunks +chunks2"
   ]
  },
  {
   "cell_type": "code",
   "execution_count": 59,
   "id": "insured-wonder",
   "metadata": {},
   "outputs": [],
   "source": [
    "#Load news data\n",
    "file_paths = ['/projects/RAG2/scotia-2/Datasets-Scotia-2/Agriculture_txt/agri_ca_co.csv', \n",
    "              '/projects/RAG2/scotia-2/Datasets-Scotia-2/Transport_txt/transport_CA.csv', \n",
    "              '/projects/RAG2/scotia-2/Datasets-Scotia-2/Auto_txt/auto_ca.csv', \n",
    "             ]\n",
    "def load_txt_file(file_path):\n",
    "    # Create a TextLoader instance\n",
    "\n",
    "    loader = TextLoader(file_path)\n",
    "\n",
    "    # Load the document\n",
    "\n",
    "    document = loader.load()\n",
    "    chunks2 =text_splitter.split_documents(document)\n",
    "    print(f\"Number of text chunks: {len(chunks2)}\")\n",
    "    return chunks2"
   ]
  },
  {
   "cell_type": "code",
   "execution_count": 60,
   "id": "literary-twist",
   "metadata": {},
   "outputs": [
    {
     "name": "stdout",
     "output_type": "stream",
     "text": [
      "Number of text chunks: 1212\n",
      "Number of text chunks: 927\n",
      "Number of text chunks: 2065\n",
      "CPU times: user 137 ms, sys: 18.9 ms, total: 156 ms\n",
      "Wall time: 171 ms\n"
     ]
    }
   ],
   "source": [
    "%%time\n",
    "for file_path in file_paths:\n",
    "    chunks2 = load_txt_file(file_path)\n",
    "    chunks= chunks +chunks2"
   ]
  },
  {
   "cell_type": "markdown",
   "id": "6ef3fd15-213f-4774-88e0-bbdadf28789c",
   "metadata": {},
   "source": [
    "#### Define the embeddings model"
   ]
  },
  {
   "cell_type": "markdown",
   "id": "b4a7545e",
   "metadata": {},
   "source": [
    "## Retrieval: Make the document chunks available via a retriever"
   ]
  },
  {
   "cell_type": "markdown",
   "id": "01bc16fe",
   "metadata": {},
   "source": [
    "The retriever will identify the document chunks that most closely match our original query. (This takes about 1-2 minutes)"
   ]
  },
  {
   "cell_type": "code",
   "execution_count": 61,
   "id": "1048c42a",
   "metadata": {},
   "outputs": [
    {
     "name": "stdout",
     "output_type": "stream",
     "text": [
      "CPU times: user 1min 54s, sys: 539 ms, total: 1min 54s\n",
      "Wall time: 1min 51s\n"
     ]
    }
   ],
   "source": [
    "%%time\n",
    "vectorstore = FAISS.from_documents(chunks, embeddings)\n",
    "retriever = vectorstore.as_retriever(search_kwargs={\"k\": 5})"
   ]
  },
  {
   "cell_type": "code",
   "execution_count": 68,
   "id": "other-north",
   "metadata": {},
   "outputs": [],
   "source": [
    "industries  = [\"auto dealer\", \"wheat farming\", 'trucking']\n",
    "#industry  = \"wheat farming\"\n",
    "industry =\"auto dealer\"\n",
    "query = f\"Where are most {industry} companies are located in Canada?\"\n",
    "query1  = f' Who are the main payers in canadian {industry} companies' # bad\n",
    "\n",
    "query2 = f'What is the profit margin of Canadian {industry}'\n",
    "\n",
    "#query = f'Who are the main palyers in Canadian  {industry}?' # bad\n",
    "query3  = f' Which countries are competitors for canadian industry internationally?' # bad\n",
    "\n",
    "query4 = f'''Please provide a summary of news  grouping the most important event for the {industry} into trends. Is there is anything could be highlighted regional trends happening in Alberta, BC, and Ontatio?How profit margin of the {industry}  companies has changed in 2024. What was the main reasons?'''\n",
    " \n",
    "query5 =f''' What is the level of {industry}  consolidation in the Canadian sector, and what are the primary drivers behind this trend? '''\n",
    " \n",
    "query6 =f''' What are the primary factors contributing to the supply demand imbalance  in the {industry}  , and what strategies are {industry}  companies employing to address this issue? '''\n",
    "\n",
    "query7 = f'''How have fluctuating costs impacted the profitability of Canadian {industry}  companies over the past five years, and what strategies have they employed to mitigate this volatility? '''\n",
    " \n",
    "query8 = f'''To what extent has the adoption of new technologies impacted operational efficiency and cost structures within the Canadian {industry}   companies? What are new  technology opportunities in the sector'''\n",
    "\n",
    "query9 = f'''How significant is the competition from alternative providers for Canadian {industry}  and how are these companies adapting to this competitive landscape. What is the substitution risk.'''\n",
    " \n",
    "query10 = f'''What are the key regulatory and policy challenges facing the Canadian {industry}  companies(e.g., hours of service regulations, environmental regulations, safety standards), and how are these regulations impacting industry operations and profitability?''' \n",
    " \n",
    "\n",
    "query11 = f'''What is the level of government support (subsidies, grants, incentives) available to the Canadian {industry}  , and are any changes expected? '''\n"
   ]
  },
  {
   "cell_type": "code",
   "execution_count": 69,
   "id": "stuffed-kruger",
   "metadata": {},
   "outputs": [],
   "source": [
    "query6 =f''' What are the innovations in  {industry} '''\n"
   ]
  },
  {
   "cell_type": "code",
   "execution_count": 70,
   "id": "starting-copying",
   "metadata": {},
   "outputs": [],
   "source": [
    "queries  = [query1, query2, query3, query4, query5, query6, query7, query8, query9, query10, query11 ]"
   ]
  },
  {
   "cell_type": "code",
   "execution_count": 71,
   "id": "neutral-casting",
   "metadata": {},
   "outputs": [
    {
     "name": "stdout",
     "output_type": "stream",
     "text": [
      "Document 1:\n",
      "\n",
      "Macro-economic factors observed in recent quarters, including a softening\n",
      "Canadian economy, inflated vehicle prices and interest rate hikes of recent\n",
      "years, are expected to continue to be headwinds in the near term. Alongside\n",
      "these challenges, elevated national inventory of new light vehicles from key\n",
      "brands in our dealership operations, and a constrained supply of quality,\n",
      "affordable used vehicles are anticipated to create operating conditions in the\n",
      "third quarter of 2024 similar to those in the second quarter.\n",
      "\n",
      "In response to these challenging market conditions, AutoCanada is intensifying\n",
      "its focus on enhancing its core dealership operations and accelerating\n",
      "strategic initiatives aimed at improving profitability, reducing leverage, and\n",
      "adapting to the evolving market landscape.\n",
      "----------------------------------------------------------------------------------------------------\n",
      "Document 2:\n",
      "\n",
      "While the foregoing economic, political and other factors are part of the\n",
      "general context in which the global automotive industry operates, there are a\n",
      "number of significant industry trends that are shaping the future of the\n",
      "industry and creating opportunities and risks for automotive suppliers. We\n",
      "continue to implement a business strategy which is rooted in our best\n",
      "assessment as to the rate and direction of change in the automotive industry,\n",
      "including with respect to trends related to vehicle electrification, advanced\n",
      "driver assistance systems, connectivity, as well as future mobility business\n",
      "models. Our short and medium-term operational success, as well as our ability\n",
      "to create long-term value through our business strategy, are subject to a\n",
      "number of risks and uncertainties. Significant industry trends, our business\n",
      "strategy and the major risks we face, are discussed in our Annual Information\n",
      "Form [\"\"AIF\"\"] and Annual Report on Form 40-F [\"\"Form 40-F\"\"] in respect of the\n",
      "year ended December 31, 2023, together with subsequent filings. Those industry\n",
      "trends and risk factors remain substantially unchanged in respect of the first\n",
      "quarter ended March 31, 2024, except as follows:\n",
      "----------------------------------------------------------------------------------------------------\n",
      "Document 3:\n",
      "\n",
      "<^^^^^^^^^^^^^^^^^^^^^^^^^^^^^^^^^^^^^^^^^^^^^^^^^^^^^^^^^^^\n",
      "FACTBOX-Moscow takes control over assets of Western companies   \n",
      "[nL8N39D6O7]\n",
      "    ^^^^^^^^^^^^^^^^^^^^^^^^^^^^^^^^^^^^^^^^^^^^^^^^^^^^^^^^^^^>\n",
      " (Compiled by Augustin Turpin, Agnieszka Gosciak, Matteo\n",
      "Allievi, Tristan Veyet, Paolo Laudani and Victor Goury-Laffont\n",
      "in Gdansk; editing by Emelia Sithole-Matarise and Milla Nissi)\n",
      " ((paolo.laudani@thomsonreuters.com))\"\n",
      "\"(Adds details on layoffs at company's unit in paragraph 3,\n",
      "sales impact in paragraph 5)\n",
      "    By Nathan Gomes\n",
      "       Aug 2 (Reuters) - Canada's Magna International <MG.TO>\n",
      "missed analysts' estimates for second-quarter results, hurt by\n",
      "production being stopped for certain vehicles and lower volumes\n",
      "of automobiles assembled, sending the auto parts supplier's\n",
      "shares down about 2%.\n",
      "    The company, which counts BMW <BMWG.DE>, Mazda <7261.T> and\n",
      "Ferrari <RACE.MI> as customers, produces parts and builds\n",
      "vehicles at its complete vehicle manufacturing unit for various\n",
      "automakers.\n",
      "    There were layoffs at Magna's complete vehicle operations,\n",
      "the company said on Friday, adding that the job cuts started\n",
      "earlier this year.\n",
      "    \"\"Sales were negatively impacted by the end of production of\n",
      "----------------------------------------------------------------------------------------------------\n",
      "Document 4:\n",
      "\n",
      "<^^^^^^^^^^^^^^^^^^^^^^^^^^^^^^^^^^^^^^^^^^^^^^^^^^^^^^^^^^^\n",
      "Auto industry stock performance    https://tmsnrt.rs/46Z7Gbw\n",
      "EXPLAINER-UAW chief ratchets up pressure on Detroit Three as\n",
      "deal talks drag on    [nL4N3BJ4G9]\n",
      "ANALYSIS-Detroit's strikes become an industrial 'Survivor' game \n",
      "  [nL2N3B828M]\n",
      "    ^^^^^^^^^^^^^^^^^^^^^^^^^^^^^^^^^^^^^^^^^^^^^^^^^^^^^^^^^^^>\n",
      " (Reporting by Raechel Thankam Job, Shivansh Tiwary in Bengaluru\n",
      "and additional reporting by Marie Mannes in Stockholm and Nathan\n",
      "Gomes in Bengaluru; Editing by Arun Koyyur)\n",
      " ((Abhijith.G@thomsonreuters.com | X: https://twitter.com/abhijithg4;\n",
      " +91-9019785574;))\"\n",
      "\"Nov 3 (Reuters) - Canadian auto parts supplier Magna\n",
      "International <MG.TO> raised its 2023 profit forecast on Friday,\n",
      "but flagged an impact from the United Auto Workers (UAW) union\n",
      "strike in North America.\n",
      "    Suppliers have benefited from an uptick in demand for their\n",
      "auto parts, software and tech as vehicle makers around the globe\n",
      "rush to push out safer vehicles with advanced driver-aid systems\n",
      "and higher efficiencies.\n",
      "    But analysts expect auto parts makers to feel the heat after\n",
      "the UAW's near six-week long strike shut operations at the\n",
      "Detroit Three automakers â General Motors <GM.N>, Ford Motor\n",
      "----------------------------------------------------------------------------------------------------\n",
      "Document 5:\n",
      "\n",
      "New Car Dealers in Canada\n",
      "Volatility Moderate\n",
      "Economic uncertainty drags car sales down\n",
      "â¢\n",
      "Some consumers purchased vehicles to avoid public transportation during the pandemic. Still, soaring unemployment rates and stay-at-home orders kept more consumers away from new car lots, resulting in a net loss in 2020.\n",
      "â¢\n",
      "In 2022 and 2023, soaring overnight rates and plummeting consumer confidence counteracted torrid 2021 growth. High interest rates have prevented some lower-credit buyers from financing purchases, leading to net declines.\n",
      "Supply chain uncertainty contributed to volatility\n",
      "â¢\n",
      "A semiconductor shortage slowed the global production of new vehicles in 2021 and 2022. Empty new car lots led to skyrocketing car prices, partially diminishing demand for new cars.\n",
      "â¢\n",
      "Volatile crude oil prices also altered vehicle consumption and use trends. High gasoline prices increased vehicle operating costs, encouraging greater use of public transportation and other substitutes. This trend has also contributed to greater demand for electric vehicles.\n",
      "New technology will alter key processes\n",
      "â¢\n",
      "CPU times: user 43.9 ms, sys: 263 µs, total: 44.2 ms\n",
      "Wall time: 68.2 ms\n"
     ]
    }
   ],
   "source": [
    "%%time\n",
    "retrieved_docs = retriever.invoke(query4)\n",
    "\n",
    "pretty_print_docs(retrieved_docs)"
   ]
  },
  {
   "cell_type": "markdown",
   "id": "9ad5e95e-f127-4092-b960-33b39ad21147",
   "metadata": {},
   "source": [
    "## Now send the query to the RAG pipeline"
   ]
  },
  {
   "cell_type": "markdown",
   "id": "3008507b",
   "metadata": {},
   "source": []
  },
  {
   "cell_type": "code",
   "execution_count": 72,
   "id": "e26d9f46-a082-4497-8ffc-9fa3eccc2ef3",
   "metadata": {},
   "outputs": [
    {
     "name": "stdout",
     "output_type": "stream",
     "text": [
      "Result: \n",
      "\n",
      "Innovations in the auto dealer industry include electric vehicles (EVs) and hybrid cars, which open up a new market segment and require dealers to adapt to changing preferences and technologies. Additionally, the internet has changed how customers shop, with dealerships using social media and online transactions to advertise inventory and prices, and drive foot traffic to dealerships.\n",
      "CPU times: user 49.2 ms, sys: 4.1 ms, total: 53.3 ms\n",
      "Wall time: 2.57 s\n"
     ]
    }
   ],
   "source": [
    "%%time\n",
    "rag_pipeline = RetrievalQA.from_llm(llm=llm, retriever=retriever)\n",
    "query =query6 +' Please answer in 2 sentences maximum. If answer is not available, answer NA ' \n",
    "result = rag_pipeline.invoke(input=query +' Please answer in 2 sentences maximum. If answer is not available, answer NA ' )\n",
    "result = result['result'].split ('\\n')[-1]\n",
    "print(f\"Result: \\n\\n{result.replace ('According to the provided context, ', '')}\")"
   ]
  },
  {
   "cell_type": "markdown",
   "id": "herbal-essence",
   "metadata": {},
   "source": [
    "# Loop"
   ]
  },
  {
   "cell_type": "code",
   "execution_count": 74,
   "id": "insured-textbook",
   "metadata": {},
   "outputs": [
    {
     "name": "stdout",
     "output_type": "stream",
     "text": [
      "Result_1: \n",
      "\n",
      "the main players in Canadian auto dealer companies are AutoCanada Inc. and NewRoads Automotive Group, with AutoCanada Inc. being the largest with a revenue of $3.2bn.\n",
      "------------------------------------------------------------------------------------------------------------------------\n",
      "Result_2: \n",
      "\n",
      "The profit margin of Canadian auto dealers is 2.0% as of 2019-2024, with a 0.2 percentage point annual change.\n",
      "------------------------------------------------------------------------------------------------------------------------\n",
      "Result_3: \n",
      "\n",
      "The main competitors for the Canadian auto parts manufacturing industry internationally are the United States, China, Mexico, Germany, Japan, South Korea, and Taiwan. These countries have a strong foothold in Canadian trade markets and offer comparable or superior quality parts at competitive prices.\n",
      "------------------------------------------------------------------------------------------------------------------------\n",
      "Result_4: \n",
      "\n",
      "The profit margin of auto dealer companies has decreased to 2.0% in 2024, down from 2.2% in 2019. The main reason for this decline is the volatility in the Canadian auto market, which has led to fluctuations in car sales and prices.\n",
      "------------------------------------------------------------------------------------------------------------------------\n",
      "Result_5: \n",
      "\n",
      "AutoCanada actively acquires competitors, indicating a level of consolidation in the Canadian sector. The primary drivers behind this trend are likely to strengthen control of local markets, gain regional market share, and offer a more diverse inventory.\n",
      "------------------------------------------------------------------------------------------------------------------------\n",
      "Result_6: \n",
      "\n",
      "Innovations in the auto dealer industry include electric vehicles (EVs), hybrid cars, and online transactions, which have changed how customers shop and interact with dealerships. Additionally, dealerships are using digital marketing techniques, such as social media and the internet, to advertise inventory and prices.\n",
      "------------------------------------------------------------------------------------------------------------------------\n",
      "Result_7: \n",
      "\n",
      "Fluctuating costs, including inventory purchases, labor shortages, and supply chain uncertainty, have impacted the profitability of Canadian auto dealer companies over the past five years, leading to revenue and gross profit declines. To mitigate this volatility, Canadian auto dealers have employed strategies such as using high volume/low margin sales strategies, superior financial management and debt management, and integrating online services to cut costs and salvage profit.\n",
      "------------------------------------------------------------------------------------------------------------------------\n",
      "Result_8: \n",
      "\n",
      "The adoption of new technologies, such as digital transactions, virtual reality showrooms, and online inventory management, has significantly impacted operational efficiency and cost structures within Canadian auto dealer companies, enabling them to streamline processes, reduce costs, and improve customer experiences. New technology opportunities in the sector include the integration of artificial intelligence, blockchain, and the Internet of Things (IoT) to enhance customer engagement, inventory management, and after-sales services.\n",
      "------------------------------------------------------------------------------------------------------------------------\n",
      "Result_9: \n",
      "\n",
      "The competition from alternative providers, such as used car dealers, public transportation, and biking, is moderate to increasing, posing a moderate substitution risk for Canadian auto dealers. To adapt to this competitive landscape, successful auto dealers are providing superior after-sales service, varying services to suit different needs, and leveraging strong relationships with upstream automakers to decrease recurring inventory costs.\n",
      "------------------------------------------------------------------------------------------------------------------------\n",
      "Result_10: \n",
      "\n",
      "The key regulatory and policy challenges facing Canadian auto dealer companies include compliance with the Motor Dealers Act, Occupational Health and Safety (OHS) Regulations, and financing regulations, which impact industry operations and profitability by increasing costs and administrative burdens. These regulations are also contributing to higher labor costs due to the need to offer premium wages to attract and retain skilled labor.\n",
      "------------------------------------------------------------------------------------------------------------------------\n",
      "Result_11: \n",
      "\n",
      "New car dealers in Canada receive limited government assistance, with most aid coming from trade associations rather than direct government subsidies or grants. There are no indications of significant changes to government support for Canadian auto dealers in the near future, although the government is considering imposing tariffs on Chinese-made electric vehicles.\n",
      "------------------------------------------------------------------------------------------------------------------------\n",
      "CPU times: user 856 ms, sys: 40.8 ms, total: 897 ms\n",
      "Wall time: 28.6 s\n"
     ]
    }
   ],
   "source": [
    "%%time\n",
    "for i, query in enumerate (queries):\n",
    "    query = query + ' Please answer in 2 sentences maximum. If answer is not available, answer NA ' \n",
    "    retrieved_docs = retriever.invoke(query)\n",
    "    rag_pipeline = RetrievalQA.from_llm(llm=llm, retriever=retriever)\n",
    "    result = rag_pipeline.invoke(input=query)\n",
    "    result = result['result'].split ('\\n')[-1]\n",
    "    print(f\"Result_{i+1}: \\n\\n{result.replace ('According to the provided context, ', '').replace ('Based on the provided context, ', '')}\")\n",
    "    print ('-'*120)\n",
    "    \n",
    "    "
   ]
  },
  {
   "cell_type": "markdown",
   "id": "exotic-machinery",
   "metadata": {},
   "source": [
    "# Setting up having two vector stores\n"
   ]
  },
  {
   "cell_type": "code",
   "execution_count": 37,
   "id": "heavy-idaho",
   "metadata": {},
   "outputs": [
    {
     "name": "stdout",
     "output_type": "stream",
     "text": [
      "Number of text chunks: 4770\n"
     ]
    }
   ],
   "source": [
    "#PDF \n",
    "\n",
    "text_splitter = RecursiveCharacterTextSplitter(chunk_size=1250, chunk_overlap=32)\n",
    "chunks5 = text_splitter.split_documents(docs)\n",
    "print(f\"Number of text chunks: {len(chunks)}\")"
   ]
  },
  {
   "cell_type": "code",
   "execution_count": 38,
   "id": "instructional-riverside",
   "metadata": {},
   "outputs": [
    {
     "name": "stdout",
     "output_type": "stream",
     "text": [
      "CPU times: user 11.7 s, sys: 31.8 ms, total: 11.7 s\n",
      "Wall time: 11 s\n"
     ]
    }
   ],
   "source": [
    "%%time\n",
    "vectorstore_pdf = FAISS.from_documents(chunks5, embeddings)\n",
    "retriever_pdf = vectorstore_pdf.as_retriever(search_kwargs={\"k\": 3})"
   ]
  },
  {
   "cell_type": "code",
   "execution_count": 39,
   "id": "opened-census",
   "metadata": {},
   "outputs": [
    {
     "name": "stdout",
     "output_type": "stream",
     "text": [
      "Number of text chunks: 1212\n",
      "Number of text chunks: 927\n",
      "Number of text chunks: 2065\n"
     ]
    }
   ],
   "source": [
    "# News\n",
    "chunks6=[]\n",
    "\n",
    "for file_path in file_paths:\n",
    "    chunks7 = load_txt_file(file_path)\n",
    "    chunks6= chunks6 +chunks7"
   ]
  },
  {
   "cell_type": "code",
   "execution_count": 40,
   "id": "encouraging-vietnam",
   "metadata": {},
   "outputs": [
    {
     "name": "stdout",
     "output_type": "stream",
     "text": [
      "CPU times: user 1min 27s, sys: 357 ms, total: 1min 28s\n",
      "Wall time: 1min 23s\n"
     ]
    }
   ],
   "source": [
    "%%time\n",
    "# news\n",
    "vectorstore_news = FAISS.from_documents(chunks6, embeddings)\n",
    "retriever_news = vectorstore_news.as_retriever(search_kwargs={\"k\": 3})"
   ]
  },
  {
   "cell_type": "markdown",
   "id": "british-adoption",
   "metadata": {},
   "source": [
    " ## Querying"
   ]
  },
  {
   "cell_type": "code",
   "execution_count": 41,
   "id": "mexican-engineering",
   "metadata": {},
   "outputs": [
    {
     "name": "stdout",
     "output_type": "stream",
     "text": [
      "from News\n",
      "Document 1:\n",
      "\n",
      "Macro-economic factors observed in recent quarters, including a softening\n",
      "Canadian economy, inflated vehicle prices and interest rate hikes of recent\n",
      "years, are expected to continue to be headwinds in the near term. Alongside\n",
      "these challenges, elevated national inventory of new light vehicles from key\n",
      "brands in our dealership operations, and a constrained supply of quality,\n",
      "affordable used vehicles are anticipated to create operating conditions in the\n",
      "third quarter of 2024 similar to those in the second quarter.\n",
      "\n",
      "In response to these challenging market conditions, AutoCanada is intensifying\n",
      "its focus on enhancing its core dealership operations and accelerating\n",
      "strategic initiatives aimed at improving profitability, reducing leverage, and\n",
      "adapting to the evolving market landscape.\n",
      "----------------------------------------------------------------------------------------------------\n",
      "Document 2:\n",
      "\n",
      "While the foregoing economic, political and other factors are part of the\n",
      "general context in which the global automotive industry operates, there are a\n",
      "number of significant industry trends that are shaping the future of the\n",
      "industry and creating opportunities and risks for automotive suppliers. We\n",
      "continue to implement a business strategy which is rooted in our best\n",
      "assessment as to the rate and direction of change in the automotive industry,\n",
      "including with respect to trends related to vehicle electrification, advanced\n",
      "driver assistance systems, connectivity, as well as future mobility business\n",
      "models. Our short and medium-term operational success, as well as our ability\n",
      "to create long-term value through our business strategy, are subject to a\n",
      "number of risks and uncertainties. Significant industry trends, our business\n",
      "strategy and the major risks we face, are discussed in our Annual Information\n",
      "Form [\"\"AIF\"\"] and Annual Report on Form 40-F [\"\"Form 40-F\"\"] in respect of the\n",
      "year ended December 31, 2023, together with subsequent filings. Those industry\n",
      "trends and risk factors remain substantially unchanged in respect of the first\n",
      "quarter ended March 31, 2024, except as follows:\n",
      "----------------------------------------------------------------------------------------------------\n",
      "Document 3:\n",
      "\n",
      "<^^^^^^^^^^^^^^^^^^^^^^^^^^^^^^^^^^^^^^^^^^^^^^^^^^^^^^^^^^^\n",
      "FACTBOX-Moscow takes control over assets of Western companies   \n",
      "[nL8N39D6O7]\n",
      "    ^^^^^^^^^^^^^^^^^^^^^^^^^^^^^^^^^^^^^^^^^^^^^^^^^^^^^^^^^^^>\n",
      " (Compiled by Augustin Turpin, Agnieszka Gosciak, Matteo\n",
      "Allievi, Tristan Veyet, Paolo Laudani and Victor Goury-Laffont\n",
      "in Gdansk; editing by Emelia Sithole-Matarise and Milla Nissi)\n",
      " ((paolo.laudani@thomsonreuters.com))\"\n",
      "\"(Adds details on layoffs at company's unit in paragraph 3,\n",
      "sales impact in paragraph 5)\n",
      "    By Nathan Gomes\n",
      "       Aug 2 (Reuters) - Canada's Magna International <MG.TO>\n",
      "missed analysts' estimates for second-quarter results, hurt by\n",
      "production being stopped for certain vehicles and lower volumes\n",
      "of automobiles assembled, sending the auto parts supplier's\n",
      "shares down about 2%.\n",
      "    The company, which counts BMW <BMWG.DE>, Mazda <7261.T> and\n",
      "Ferrari <RACE.MI> as customers, produces parts and builds\n",
      "vehicles at its complete vehicle manufacturing unit for various\n",
      "automakers.\n",
      "    There were layoffs at Magna's complete vehicle operations,\n",
      "the company said on Friday, adding that the job cuts started\n",
      "earlier this year.\n",
      "    \"\"Sales were negatively impacted by the end of production of\n",
      "CPU times: user 35.2 ms, sys: 0 ns, total: 35.2 ms\n",
      "Wall time: 33.4 ms\n"
     ]
    }
   ],
   "source": [
    "%%time\n",
    "retrieved_docs1 = retriever_news.invoke(query4)\n",
    "print ('from News')\n",
    "pretty_print_docs(retrieved_docs1)"
   ]
  },
  {
   "cell_type": "code",
   "execution_count": 42,
   "id": "affiliated-sewing",
   "metadata": {},
   "outputs": [
    {
     "name": "stdout",
     "output_type": "stream",
     "text": [
      "from PDF\n",
      "Document 1:\n",
      "\n",
      "Whats impac ting Ne wRoads A utomo tive Groups perf ormanc e NewRoads A utomo tive Group pur chased Ne wmark et Honda now called Ne wRoads Honda  NewRoad A utomo tive announc edthe acquisition too chase Ne wRoads too itss too oss York Region Also this isee ted to strengthen the c ompan ys roster of servic esand v ehicl esYou can view and do wnload moree ydede on my ibisworld com Retail Trade In Canada   44 111CA New Car Deal ers in Canada 25 www ibis world com November 202 4\n",
      "----------------------------------------------------------------------------------------------------\n",
      "Document 2:\n",
      "\n",
      "Profit Margin Total profit margin annual change from 20 11  2029 Profit Margin 2pp1pp0pp1pp2pp3pp 2012 2014 2016 2018 2020 2022 202 4 Source IBIS WorldTotal Profit 3 8bn 19240 8 Profit Margin 2 0 19240 2 pp Profit per Business 810 8k Current Performanc e201924 Revenue C AGR 2 8 Whats driving current industry perf ormanc eNew car deal ers have endur edv olatile conditions  The pandemic caused revenue too in 2020 Plumme ting consumer and business c onfidenc e enc ouraged buyers to save transl ating into weak new car saleses arly stayathome orders slashed driving activity limiting demand for dealer repair servic es  In comparison r ebounding consumer c onfidenc eandss c orpor ate profit in the following years enc ouraged new car pur chases especially as individualss househol ds expressed pen tup demand for driving and travel Mounting demand combined with higher pric es contribut edtoto t revenue growth for deal ers in Canada  Simil arly inbound in terna tional travel skyr ocketed in 2022 suggesting elevated demand for taxi rideshar eand rental car c ompanies This trend enc ouraged c ommer cial buyers to expand and update vehicle fleets contributing too demand and helping deal ers diversify demand  Even so interest rates have\n",
      "----------------------------------------------------------------------------------------------------\n",
      "Document 3:\n",
      "\n",
      "pur chases increasing new car saleses eater consumer c onfidenc ealso pushes buyers to purchase moreeee v ehicl es Greater consumer confidence presents new opportunities for new car deal ers in Canada Corporate profitdede a c ompan ys available budget for new vehicle pur chases Higher c orpor ate profit pushes c ommer cial buyers to upgr adeee v ehicl efleets rather than rely on repairss ating strong returns for Canadian new car deal ers Weak corporate profit can limit growth in c ommer cial markets Retail Trade In Canada   44 111CA New Car Deal ers in Canada 26 www ibis world com November 202 4\n",
      "CPU times: user 25.9 ms, sys: 7.78 ms, total: 33.6 ms\n",
      "Wall time: 31.4 ms\n"
     ]
    }
   ],
   "source": [
    "%%time\n",
    "retrieved_docs2 = retriever_pdf.invoke(query4)\n",
    "print ('from PDF')\n",
    "pretty_print_docs(retrieved_docs2)"
   ]
  },
  {
   "cell_type": "code",
   "execution_count": 43,
   "id": "conscious-situation",
   "metadata": {},
   "outputs": [],
   "source": [
    "retrieved_docs=retrieved_docs1 +retrieved_docs2"
   ]
  },
  {
   "cell_type": "code",
   "execution_count": 44,
   "id": "interesting-temple",
   "metadata": {},
   "outputs": [
    {
     "name": "stdout",
     "output_type": "stream",
     "text": [
      "Result: \n",
      "\n",
      "<think>\n",
      "Okay, so I need to figure out the answer to the user's question about the innovations in auto dealers. Let me start by reading through the provided context carefully.\n",
      "\n",
      "First, I see that the user provided several contexts, but the main focus is on the context about auto dealers and their innovations. The user's question is asking for a concise answer in two sentences, and if it's not available, just say NA.\n",
      "\n",
      "Looking at the context, it mentions that auto dealers are adapting to industry changes, especially with electric vehicles and hybrid powertrains. They are also using social media and online transactions to increase their revenue. Additionally, they are leveraging innovative marketing techniques and partnerships to enhance their products and services.\n",
      "\n",
      "So, the key points are:\n",
      "1. Auto dealers are innovating with electric and hybrid vehicles.\n",
      "2. They are using social media and online transactions to boost revenue.\n",
      "3. They are employing innovative marketing and partnerships to improve their offerings.\n",
      "\n",
      "Putting this together, I can structure the answer to highlight these three main areas of innovation.\n",
      "</think>\n",
      "\n",
      "Auto dealers are innovating with electric and hybrid vehicles, leveraging social media and online transactions to boost revenue, and employing innovative marketing and partnerships to enhance their offerings.\n",
      "CPU times: user 65.2 ms, sys: 4 ms, total: 69.2 ms\n",
      "Wall time: 2.22 s\n"
     ]
    }
   ],
   "source": [
    "%%time\n",
    "rag_pipeline = RetrievalQA.from_llm(llm=llm, retriever=retriever)\n",
    "query =query6 +' Please answer in 2 sentences maximum. If answer is not available, answer NA ' \n",
    "result = rag_pipeline.invoke(input=query +' Please answer in 2 sentences maximum. If answer is not available, answer NA ' )\n",
    "print(f\"Result: \\n\\n{result['result'].replace ('According to the provided context, ', '')}\")"
   ]
  },
  {
   "cell_type": "code",
   "execution_count": 45,
   "id": "corresponding-priority",
   "metadata": {},
   "outputs": [
    {
     "data": {
      "text/plain": [
       "'Auto dealers are innovating with electric and hybrid vehicles, leveraging social media and online transactions to boost revenue, and employing innovative marketing and partnerships to enhance their offerings.'"
      ]
     },
     "execution_count": 45,
     "metadata": {},
     "output_type": "execute_result"
    }
   ],
   "source": [
    "result['result'].split('\\n')[-1]"
   ]
  },
  {
   "cell_type": "code",
   "execution_count": 46,
   "id": "beneficial-softball",
   "metadata": {},
   "outputs": [
    {
     "name": "stdout",
     "output_type": "stream",
     "text": [
      "Auto dealers are innovating with electric and hybrid vehicles, leveraging social media and online transactions to boost revenue, and employing innovative marketing and partnerships to enhance their offering.\n"
     ]
    }
   ],
   "source": [
    "# previous \n",
    "print ('Auto dealers are innovating with electric and hybrid vehicles, leveraging social media and online transactions to boost revenue, and employing innovative marketing and partnerships to enhance their offering.')"
   ]
  },
  {
   "cell_type": "code",
   "execution_count": null,
   "id": "reported-bonus",
   "metadata": {},
   "outputs": [],
   "source": [
    "`"
   ]
  }
 ],
 "metadata": {
  "kernelspec": {
   "display_name": "rag_dataloaders",
   "language": "python",
   "name": "rag_dataloaders"
  },
  "language_info": {
   "codemirror_mode": {
    "name": "ipython",
    "version": 3
   },
   "file_extension": ".py",
   "mimetype": "text/x-python",
   "name": "python",
   "nbconvert_exporter": "python",
   "pygments_lexer": "ipython3",
   "version": "3.10.12"
  }
 },
 "nbformat": 4,
 "nbformat_minor": 5
}
