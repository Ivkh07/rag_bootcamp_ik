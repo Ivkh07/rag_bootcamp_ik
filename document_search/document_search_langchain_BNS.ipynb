{
 "cells": [
  {
   "cell_type": "markdown",
   "id": "3d86f6cd",
   "metadata": {},
   "source": [
    "# Document Search with LangChain"
   ]
  },
  {
   "cell_type": "markdown",
   "id": "4168e6b6",
   "metadata": {},
   "source": [
    "This example shows how to use the Python [LangChain](https://python.langchain.com/docs/get_started/introduction) library to run a text-generation request on open-source LLMs and embedding models using the OpenAI SDK, then augment that request using the text stored in a collection of local PDF documents.\n",
    "\n",
    "### <u>Requirements</u>\n",
    "1. As you will accessing the LLMs and embedding models through Vector AI Engineering's Kaleidoscope Service (Vector Inference + Autoscaling), you will need to request a KScope API Key:\n",
    "\n",
    "   Run the following command (replace ```<user_id>``` and ```<password>```) from **within the cluster** to obtain the API Key. The ```access_token``` in the output is your KScope API Key.\n",
    "  ```bash\n",
    "  curl -X POST -d \"grant_type=password\" -d \"username=<user_id>\" -d \"password=<password>\" https://kscope.vectorinstitute.ai/token\n",
    "  ```\n",
    "2. After obtaining the `.env` configurations, make sure to create the ```.kscope.env``` file in your home directory (```/h/<user_id>```) and set the following env variables:\n",
    "- For local models through Kaleidoscope (KScope):\n",
    "    ```bash\n",
    "    export OPENAI_BASE_URL=\"https://kscope.vectorinstitute.ai/v1\"\n",
    "    export OPENAI_API_KEY=<kscope_api_key>\n",
    "    ```\n",
    "- For OpenAI models:\n",
    "   ```bash\n",
    "   export OPENAI_BASE_URL=\"https://api.openai.com/v1\"\n",
    "   export OPENAI_API_KEY=<openai_api_key>\n",
    "   ```\n",
    "3. (Optional) Upload some pdf files into the `source_documents` subfolder under this notebook. We have already provided some sample pdfs, but feel free to replace these with your own."
   ]
  },
  {
   "cell_type": "markdown",
   "id": "22e4da1f",
   "metadata": {},
   "source": [
    "## Set up the RAG workflow environment"
   ]
  },
  {
   "cell_type": "markdown",
   "id": "1e2cb87e-cdf4-4002-a700-77db86d0b318",
   "metadata": {},
   "source": [
    "#### Import libraries"
   ]
  },
  {
   "cell_type": "code",
   "execution_count": 1,
   "id": "742aa343-c90c-4e4a-8099-a3fa218e256d",
   "metadata": {},
   "outputs": [],
   "source": [
    "import warnings\n",
    "warnings.filterwarnings('ignore')"
   ]
  },
  {
   "cell_type": "code",
   "execution_count": 2,
   "id": "2f637730",
   "metadata": {},
   "outputs": [],
   "source": [
    "import os\n",
    "import requests\n",
    "import sys\n",
    "\n",
    "from pathlib import Path\n",
    "\n",
    "from langchain.chains import RetrievalQA\n",
    "from langchain_community.vectorstores import FAISS\n",
    "from langchain.document_loaders.pdf import PyPDFDirectoryLoader\n",
    "from langchain_huggingface.embeddings import HuggingFaceEmbeddings\n",
    "from langchain_openai import ChatOpenAI\n",
    "from langchain.text_splitter import RecursiveCharacterTextSplitter"
   ]
  },
  {
   "cell_type": "markdown",
   "id": "567a7448",
   "metadata": {},
   "source": [
    "#### Load config files"
   ]
  },
  {
   "cell_type": "code",
   "execution_count": 3,
   "id": "1e70d51a",
   "metadata": {},
   "outputs": [],
   "source": [
    "# Add root folder of the rag_bootcamp repo to PYTHONPATH\n",
    "current_dir = Path().resolve()\n",
    "parent_dir = current_dir.parent\n",
    "sys.path.insert(0, str(parent_dir))\n",
    "\n",
    "from utils.load_secrets import load_env_file\n",
    "load_env_file()"
   ]
  },
  {
   "cell_type": "code",
   "execution_count": 4,
   "id": "e9e0bec6-a89c-4fca-a218-c784ec18e109",
   "metadata": {},
   "outputs": [],
   "source": [
    "GENERATOR_BASE_URL = os.environ.get(\"OPENAI_BASE_URL\")\n",
    "\n",
    "OPENAI_API_KEY = os.environ.get(\"OPENAI_API_KEY\")"
   ]
  },
  {
   "cell_type": "markdown",
   "id": "12ecf9ac",
   "metadata": {},
   "source": [
    "#### Set up some helper functions"
   ]
  },
  {
   "cell_type": "code",
   "execution_count": 5,
   "id": "dd4e2417",
   "metadata": {},
   "outputs": [],
   "source": [
    "def pretty_print_docs(docs):\n",
    "    print(\n",
    "        f\"\\n{'-' * 100}\\n\".join(\n",
    "            [f\"Document {i+1}:\\n\\n\" + d.page_content for i, d in enumerate(docs)]\n",
    "        )\n",
    "    )"
   ]
  },
  {
   "cell_type": "markdown",
   "id": "d9edd103",
   "metadata": {},
   "source": [
    "#### Make sure other necessary items are in place"
   ]
  },
  {
   "cell_type": "code",
   "execution_count": 6,
   "id": "74b61e4f",
   "metadata": {},
   "outputs": [],
   "source": [
    "# Look for the source_documents folder and make sure there is at least 1 pdf file here\n",
    "contains_pdf = False\n",
    "directory_path = \"./source_documents\"\n",
    "if not os.path.exists(directory_path):\n",
    "    print(f\"ERROR: The {directory_path} subfolder must exist under this notebook\")\n",
    "for filename in os.listdir(directory_path):\n",
    "    contains_pdf = True if \".pdf\" in filename else contains_pdf\n",
    "if not contains_pdf:\n",
    "    print(f\"ERROR: The {directory_path} subfolder must contain at least one .pdf file\")"
   ]
  },
  {
   "cell_type": "markdown",
   "id": "a83c93ad-fe81-4acd-9ea3-eca9b425ee9a",
   "metadata": {},
   "source": [
    "#### Choose LLM and embedding model"
   ]
  },
  {
   "cell_type": "code",
   "execution_count": 7,
   "id": "2553d130-5b02-4852-928f-beb7ecd05d3f",
   "metadata": {},
   "outputs": [],
   "source": [
    "#GENERATOR_MODEL_NAME = \"Meta-Llama-3.1-8B-Instruct\"\n",
    "GENERATOR_MODEL_NAME = 'DeepSeek-R1-Distill-Qwen-1.5B'\n",
    "EMBEDDING_MODEL_NAME = \"BAAI/bge-base-en-v1.5\"\n"
   ]
  },
  {
   "cell_type": "markdown",
   "id": "1e558afb",
   "metadata": {},
   "source": [
    "## Start with a basic generation request without RAG augmentation\n",
    "\n",
    "Let's start by asking Llama-3.1 a difficult, domain-specific question we don't expect it to have an answer to. A simple question like \"*What is the capital of France?*\" is not a good question here, because that's world knowledge that we expect the LLM to know.\n",
    "\n",
    "Instead, we want to ask it a question that is domain-specific and it won't know the answer to. A good example would be an obscure detail buried deep within a company's annual report. For example:\n",
    "\n",
    "*How many Vector scholarships in AI were awarded in 2022?*"
   ]
  },
  {
   "cell_type": "code",
   "execution_count": 8,
   "id": "6133a928",
   "metadata": {},
   "outputs": [],
   "source": [
    "query = \"How many Vector scholarships in AI were awarded in 2022?\""
   ]
  },
  {
   "cell_type": "markdown",
   "id": "358a22c5",
   "metadata": {},
   "source": [
    "## Now send the query to the open source model using KScope"
   ]
  },
  {
   "cell_type": "code",
   "execution_count": 9,
   "id": "adopted-repair",
   "metadata": {},
   "outputs": [],
   "source": [
    "llm = ChatOpenAI(\n",
    "    model=GENERATOR_MODEL_NAME,\n",
    "    temperature=0,\n",
    "    max_tokens=None,\n",
    "    base_url=GENERATOR_BASE_URL,\n",
    "    api_key=OPENAI_API_KEY\n",
    ")"
   ]
  },
  {
   "cell_type": "code",
   "execution_count": 11,
   "id": "00061d61",
   "metadata": {},
   "outputs": [
    {
     "name": "stdout",
     "output_type": "stream",
     "text": [
      "Result: \n",
      "\n",
      "<think>\n",
      "Okay, so I need to figure out how many Vector scholarships in AI were awarded in 2022. I'm not exactly sure where to start, but I know Vector is a company that offers various kinds of scholarships, including AI-related ones. Maybe I can look up their website or some official reports from them. \n",
      "\n",
      "First, I should check their official website. I remember they have a section for scholarships, so I'll go there. Let me search for Vector scholarships in AI. Hmm, they have a section for AI-related programs, so that's probably where I can find the information. \n",
      "\n",
      "Once I find the scholarship details, I'll need to filter them by the year 2022. I can probably use a search function or go through the list and pick out the ones from that year. But wait, I'm not sure if they have a specific search feature or if I need to manually go through each entry. Maybe they have a table or a list that I can sort by year. \n",
      "\n",
      "I also wonder if Vector has multiple categories of scholarships, like AI, machine learning, etc. So, I should check if there are multiple categories and see if any of them were awarded in 2022. If there are multiple categories, I might need to look into each one separately. \n",
      "\n",
      "Another thought: sometimes scholarships are awarded to multiple students, so I might need to count each individual award. But I'm not sure if Vector does that. Maybe they just list each scholarship individually. \n",
      "\n",
      "I should also consider if there are any updates or changes in their scholarship programs in 2022. Maybe they announced new scholarships or had some changes in their award criteria. I should check their announcements or news releases for that year. \n",
      "\n",
      "Wait, I'm not sure if Vector has a database of all their scholarship awards. Maybe I can look for any reports or press releases from Vector that mention their AI scholarships for 2022. That might give me a better idea of how many were awarded. \n",
      "\n",
      "I think I'll start by going to Vector's official website and searching for \"scholarships in AI 2022.\" That should bring up a list of scholarships they offer in that year. Once I have that list, I can go through each one and count how many were awarded. \n",
      "\n",
      "But I'm a bit worried that I might miss some or count extra ones. Maybe I should also check their annual reports or any press releases from that year for confirmation. That way, I can be sure I'm accurate. \n",
      "\n",
      "Alternatively, if Vector has a website that aggregates all their scholarship information, I can use that to search for 2022. Sometimes websites have a search feature that allows you to filter by year. \n",
      "\n",
      "I should also consider if Vector has any partnerships or programs that might have been announced in 2022 that weren't on their main website. Maybe they have a dedicated page for AI scholarships. I'll check that as well. \n",
      "\n",
      "Another approach: I can look for any news articles or press releases from Vector in 2022 that mention AI scholarships. That might give me a direct count. \n",
      "\n",
      "Wait, I'm not sure if Vector has a specific database or if they use external sources. Maybe I can look for any reports or articles from Vector that discuss their AI scholarships. That might help me find the number without having to search the entire website. \n",
      "\n",
      "I think I'll proceed by going to Vector's official website, searching for \"scholarships in AI 2022,\" and then looking through the results. I'll count each individual scholarship listed, making sure not to double-count or miss any. If I can't find the exact number, I'll try to estimate based on their previous years' award counts. \n",
      "\n",
      "I should also consider if Vector has any special programs or categories that might have been awarded in 2022. For example, if they had a specific focus on certain areas of AI, maybe they awarded more scholarships in that category. \n",
      "\n",
      "In the end, I think the best way is to go to Vector's website, search for the specific year and category, and then count the number of scholarships listed. If I can't find the exact number, I might have to make an educated guess based on their previous years' data or any press releases I can access. \n",
      "\n",
      "I hope I don't have to recount any awards, but I'm more worried about missing some. Maybe I'll check a few more times or look for any additional information that could help me confirm the number. \n",
      "\n",
      "Overall, I think the key steps are: go to Vector's website, search for 2022 AI scholarships, count the number, and verify if that's accurate. If I'm unsure, I can look for any additional resources or press releases from that year. \n",
      "</think>\n",
      "\n",
      "To determine the number of Vector scholarships awarded in 2022 related to AI, follow these steps:\n",
      "\n",
      "1. **Visit Vector's Official Website**: Go to Vector's official website to access their scholarship information.\n",
      "\n",
      "2. **Search for 2022 AI Scholarships**: Use the search function to look for scholarships specifically related to AI and to filter the results by the year 2022.\n",
      "\n",
      "3. **Count the Scholarships**: Once you have the list of scholarships for 2022, count each individual award. Ensure you do not double-count or miss any.\n",
      "\n",
      "4. **Verify with Additional Resources**: If possible, check Vector's annual reports or press releases from 2022 for confirmation. Consider any partnerships or special programs they might have announced.\n",
      "\n",
      "5. **Estimate if Necessary**: If the exact number is unclear, use previous years' award counts or any additional information to estimate the number.\n",
      "\n",
      "By following these steps, you can accurately determine the number of Vector scholarships awarded in 2022 related to AI.\n",
      "CPU times: user 17.9 ms, sys: 0 ns, total: 17.9 ms\n",
      "Wall time: 10 s\n"
     ]
    }
   ],
   "source": [
    "%%time\n",
    "message = [\n",
    "    (\"human\", query),\n",
    "]\n",
    "try:\n",
    "    result = llm.invoke(message)\n",
    "    print(f\"Result: \\n\\n{result.content}\")\n",
    "except Exception as err:\n",
    "    if \"Error code: 503\" in err.message:\n",
    "        print(f\"The model {GENERATOR_MODEL_NAME} is not ready yet.\")\n",
    "    else:\n",
    "        raise"
   ]
  },
  {
   "cell_type": "markdown",
   "id": "e6e1c200",
   "metadata": {},
   "source": [
    "Without additional information, Llama-3.1 is unable to answer the question correctly. **Vector in fact awarded 109 AI scholarships in 2022.** Fortunately, we do have that information available in Vector's 2021-22 Annual Report, which is available in the `source_documents` folder. Let's see how we can use RAG to augment our question with a document search and get the correct answer."
   ]
  },
  {
   "cell_type": "markdown",
   "id": "0255ea68",
   "metadata": {},
   "source": [
    "## Ingestion: Load and store the documents from `source_documents`"
   ]
  },
  {
   "cell_type": "markdown",
   "id": "ba9d0304",
   "metadata": {},
   "source": [
    "Start by reading in all the PDF files from `source_documents`, break them up into smaller digestible chunks, then encode them as vector embeddings."
   ]
  },
  {
   "cell_type": "code",
   "execution_count": 12,
   "id": "cleared-appraisal",
   "metadata": {},
   "outputs": [],
   "source": [
    "\n",
    "from langchain.document_loaders import TextLoader"
   ]
  },
  {
   "cell_type": "code",
   "execution_count": 13,
   "id": "hollywood-helping",
   "metadata": {},
   "outputs": [
    {
     "name": "stdout",
     "output_type": "stream",
     "text": [
      "'11114CA Wheat Farming in Canada Industry Report.pdf'\r\n",
      "'11115CA Corn Farming in Canada Industry Report.pdf'\r\n",
      "'33639CA Auto Parts Manufacturing in Canada Industry Report.pdf'\r\n",
      "'44111CA New Car Dealers in Canada Industry Report.pdf'\r\n",
      "'48412CA Long-Distance Freight Trucking in Canada Industry Report.pdf'\r\n",
      "'48422CA Local Specialized Freight Trucking in Canada Industry Report.pdf'\r\n",
      "'48423CA Long-Distance Specialized Freight Trucking in Canada Industry Report.pdf'\r\n"
     ]
    }
   ],
   "source": [
    "ls /projects/RAG2/scotia-2/Datasets-Scotia-2/IBIS"
   ]
  },
  {
   "cell_type": "code",
   "execution_count": 14,
   "id": "24b42902-d145-4f61-80c2-334a4b1da886",
   "metadata": {},
   "outputs": [
    {
     "name": "stdout",
     "output_type": "stream",
     "text": [
      "Setting up the embeddings model...\n"
     ]
    }
   ],
   "source": [
    "model_kwargs = {'device': 'cuda', 'trust_remote_code': True}\n",
    "encode_kwargs = {'normalize_embeddings': True} # set True to compute cosine similarity\n",
    "\n",
    "print(f\"Setting up the embeddings model...\")\n",
    "embeddings = HuggingFaceEmbeddings(\n",
    "    model_name=   EMBEDDING_MODEL_NAME,\n",
    "    model_kwargs=model_kwargs,\n",
    "    encode_kwargs=encode_kwargs,\n",
    ")"
   ]
  },
  {
   "cell_type": "code",
   "execution_count": 15,
   "id": "5710c72d",
   "metadata": {},
   "outputs": [
    {
     "name": "stdout",
     "output_type": "stream",
     "text": [
      "Number of source documents: 280\n",
      "CPU times: user 10.1 s, sys: 97.3 ms, total: 10.2 s\n",
      "Wall time: 10.3 s\n"
     ]
    }
   ],
   "source": [
    "%%time\n",
    "# Load the IBIS pdfs\n",
    "#directory_path = \"./source_documents\"\n",
    "directory_path = \"/projects/RAG2/scotia-2/Datasets-Scotia-2/IBIS\"\n",
    "loader = PyPDFDirectoryLoader(directory_path)\n",
    "docs = loader.load()\n",
    "print(f\"Number of source documents: {len(docs)}\")\n",
    "\n"
   ]
  },
  {
   "cell_type": "markdown",
   "id": "graphic-pepper",
   "metadata": {},
   "source": [
    "## Process PDFs (Optional)"
   ]
  },
  {
   "cell_type": "code",
   "execution_count": 16,
   "id": "constant-bracelet",
   "metadata": {},
   "outputs": [
    {
     "name": "stderr",
     "output_type": "stream",
     "text": [
      "[nltk_data] Downloading package words to /h/ws_ikharchuk/nltk_data...\n",
      "[nltk_data]   Package words is already up-to-date!\n"
     ]
    },
    {
     "data": {
      "text/plain": [
       "True"
      ]
     },
     "execution_count": 16,
     "metadata": {},
     "output_type": "execute_result"
    }
   ],
   "source": [
    "import nltk\n",
    "from nltk.corpus import words\n",
    "nltk.download('words')"
   ]
  },
  {
   "cell_type": "code",
   "execution_count": 17,
   "id": "loaded-speaking",
   "metadata": {},
   "outputs": [],
   "source": [
    "import re"
   ]
  },
  {
   "cell_type": "code",
   "execution_count": 18,
   "id": "essential-swiss",
   "metadata": {},
   "outputs": [],
   "source": [
    "def merge_adjacent_words3(word_list):\n",
    "    english_words = set(words.words())\n",
    "    i = 0\n",
    "    while i < len(word_list) - 2:\n",
    "        combined_word = word_list[i] + word_list[i + 1]+ word_list[i + 1]\n",
    "        if (combined_word.lower() in english_words) |(combined_word.lower().strip('s').strip('es').strip('ed') in english_words):\n",
    "            word_list[i] = combined_word\n",
    "            del word_list[i + 1]\n",
    "            del word_list[i + 1]\n",
    "        else:\n",
    "            i += 1\n",
    "    return word_list"
   ]
  },
  {
   "cell_type": "code",
   "execution_count": 19,
   "id": "infinite-microphone",
   "metadata": {},
   "outputs": [],
   "source": [
    "def merge_adjacent_words2(word_list):\n",
    "    english_words = set(words.words())\n",
    "    new_list = []\n",
    "    i = 0\n",
    "    while i < len(word_list) - 1:\n",
    "        combined_word = word_list[i] + word_list[i + 1]\n",
    "        if (combined_word.lower() in english_words) |(combined_word.lower().strip('s').strip('es').strip('ed') in english_words):\n",
    "            word_list[i] = combined_word\n",
    "            del word_list[i + 1]\n",
    "        else:\n",
    "            i += 1\n",
    "    return word_list"
   ]
  },
  {
   "cell_type": "code",
   "execution_count": 20,
   "id": "sufficient-maker",
   "metadata": {},
   "outputs": [],
   "source": [
    "# def merge_adjacent_words2(word_list):\n",
    "#     english_words = set(words.words())\n",
    "#     new_list = []\n",
    "#     i = 0\n",
    "#     while i < len(word_list) - 1:\n",
    "#         combined_word = word_list[i] + word_list[i + 1]\n",
    "#         if (combined_word.lower() in english_words) |(combined_word.lower().strip('s').strip('es').strip('ed').strip('ing') in english_words):\n",
    "#             new_list.append (combined_word)\n",
    "#             i += 2           \n",
    "#         else:\n",
    "#             new_list.append (word_list[i])\n",
    "#             i += 1\n",
    "#     return new_list"
   ]
  },
  {
   "cell_type": "code",
   "execution_count": 21,
   "id": "suspended-amazon",
   "metadata": {},
   "outputs": [],
   "source": [
    "def process_string(test):\n",
    "    test =test.replace('.', ' ').replace('?', ' ').replace('\\n', ' ')\n",
    "    words_list = test.split()\n",
    "\n",
    "    words_list = [x.replace('•', ' ')  for x in words_list]\n",
    "\n",
    "    words_list =[re.sub(r'[^A-Za-z0-9\\s]', '', x) for x in words_list ]\n",
    "    return ' '.join(merge_adjacent_words2(merge_adjacent_words3(words_list)))\n",
    "#process_string(test)"
   ]
  },
  {
   "cell_type": "code",
   "execution_count": 22,
   "id": "loaded-desert",
   "metadata": {},
   "outputs": [
    {
     "name": "stdout",
     "output_type": "stream",
     "text": [
      "CPU times: user 1min 8s, sys: 4.26 s, total: 1min 12s\n",
      "Wall time: 1min 12s\n"
     ]
    }
   ],
   "source": [
    "%%time\n",
    "for doc in docs[:]:\n",
    "    doc.page_content = process_string(doc.page_content)\n"
   ]
  },
  {
   "cell_type": "code",
   "execution_count": 23,
   "id": "adapted-local",
   "metadata": {},
   "outputs": [],
   "source": [
    "#docs[10].page_content"
   ]
  },
  {
   "cell_type": "markdown",
   "id": "agreed-bachelor",
   "metadata": {},
   "source": [
    "### Split the documents into smaller chunks"
   ]
  },
  {
   "cell_type": "code",
   "execution_count": 24,
   "id": "configured-flush",
   "metadata": {},
   "outputs": [
    {
     "name": "stdout",
     "output_type": "stream",
     "text": [
      "Number of text chunks: 566\n",
      "CPU times: user 165 ms, sys: 15.6 ms, total: 180 ms\n",
      "Wall time: 177 ms\n"
     ]
    }
   ],
   "source": [
    "%%time\n",
    "\n",
    "text_splitter = RecursiveCharacterTextSplitter(chunk_size=1250, chunk_overlap=32)\n",
    "chunks = text_splitter.split_documents(docs)\n",
    "print(f\"Number of text chunks: {len(chunks)}\")"
   ]
  },
  {
   "cell_type": "code",
   "execution_count": 25,
   "id": "cooperative-thursday",
   "metadata": {},
   "outputs": [],
   "source": [
    "# Adding Reuters data"
   ]
  },
  {
   "cell_type": "code",
   "execution_count": 26,
   "id": "insured-wonder",
   "metadata": {},
   "outputs": [],
   "source": [
    "\n",
    "file_paths = ['/projects/RAG2/scotia-2/Datasets-Scotia-2/Agriculture_txt/agri_ca_co.csv', \n",
    "              '/projects/RAG2/scotia-2/Datasets-Scotia-2/Transport_txt/transport_CA.csv', \n",
    "              '/projects/RAG2/scotia-2/Datasets-Scotia-2/Auto_txt/auto_ca.csv', \n",
    "             ]\n",
    "def load_txt_file(file_path):\n",
    "    # Create a TextLoader instance\n",
    "\n",
    "    loader = TextLoader(file_path)\n",
    "\n",
    "    # Load the document\n",
    "\n",
    "    document = loader.load()\n",
    "    chunks2 =text_splitter.split_documents(document)\n",
    "    print(f\"Number of text chunks: {len(chunks2)}\")\n",
    "    return chunks2"
   ]
  },
  {
   "cell_type": "code",
   "execution_count": 27,
   "id": "literary-twist",
   "metadata": {},
   "outputs": [
    {
     "name": "stdout",
     "output_type": "stream",
     "text": [
      "Number of text chunks: 1212\n",
      "Number of text chunks: 927\n",
      "Number of text chunks: 2065\n",
      "CPU times: user 136 ms, sys: 7.56 ms, total: 144 ms\n",
      "Wall time: 152 ms\n"
     ]
    }
   ],
   "source": [
    "%%time\n",
    "for file_path in file_paths:\n",
    "    chunks2 = load_txt_file(file_path)\n",
    "    chunks= chunks +chunks2"
   ]
  },
  {
   "cell_type": "markdown",
   "id": "6ef3fd15-213f-4774-88e0-bbdadf28789c",
   "metadata": {},
   "source": [
    "#### Define the embeddings model"
   ]
  },
  {
   "cell_type": "markdown",
   "id": "b4a7545e",
   "metadata": {},
   "source": [
    "## Retrieval: Make the document chunks available via a retriever"
   ]
  },
  {
   "cell_type": "markdown",
   "id": "01bc16fe",
   "metadata": {},
   "source": [
    "The retriever will identify the document chunks that most closely match our original query. (This takes about 1-2 minutes)"
   ]
  },
  {
   "cell_type": "code",
   "execution_count": 28,
   "id": "1048c42a",
   "metadata": {},
   "outputs": [
    {
     "name": "stdout",
     "output_type": "stream",
     "text": [
      "CPU times: user 1min 39s, sys: 673 ms, total: 1min 40s\n",
      "Wall time: 1min 34s\n"
     ]
    }
   ],
   "source": [
    "%%time\n",
    "vectorstore = FAISS.from_documents(chunks, embeddings)\n",
    "retriever = vectorstore.as_retriever(search_kwargs={\"k\": 5})"
   ]
  },
  {
   "cell_type": "code",
   "execution_count": 29,
   "id": "other-north",
   "metadata": {},
   "outputs": [],
   "source": [
    "industries  = [\"auto dealer\", \"wheat farming\", 'trucking']\n",
    "#industry  = \"wheat farming\"\n",
    "industry =\"auto dealer\"\n",
    "query = f\"Where are most {industry} companies are located in Canada?\"\n",
    "query1  = f' Who are the main payers in canadian {industry} companies' # bad\n",
    "\n",
    "query2 = f'What is the profit margin of Canadian {industry}'\n",
    "\n",
    "#query = f'Who are the main palyers in Canadian  {industry}?' # bad\n",
    "query3  = f' Which countries are competitors for canadian industry internationally?' # bad\n",
    "\n",
    "query4 = f'''Please provide a summary of news  grouping the most important event for the {industry} into trends. Is there is anything could be highlighted regional trends happening in Alberta, BC, and Ontatio?How profit margin of the {industry}  companies has changed in 2024. What was the main reasons?'''\n",
    " \n",
    "query5 =f''' What is the level of {industry}  consolidation in the Canadian sector, and what are the primary drivers behind this trend? '''\n",
    " \n",
    "query6 =f''' What are the primary factors contributing to the supply demand imbalance  in the {industry}  , and what strategies are {industry}  companies employing to address this issue? '''\n",
    "\n",
    "query7 = f'''How have fluctuating costs impacted the profitability of Canadian {industry}  companies over the past five years, and what strategies have they employed to mitigate this volatility? '''\n",
    " \n",
    "query8 = f'''To what extent has the adoption of new technologies impacted operational efficiency and cost structures within the Canadian {industry}   companies? What are new  technology opportunities in the sector'''\n",
    "\n",
    "query9 = f'''How significant is the competition from alternative providers for Canadian {industry}  and how are these companies adapting to this competitive landscape. What is the substitution risk.'''\n",
    " \n",
    "query10 = f'''What are the key regulatory and policy challenges facing the Canadian {industry}  companies(e.g., hours of service regulations, environmental regulations, safety standards), and how are these regulations impacting industry operations and profitability?''' \n",
    " \n",
    "\n",
    "query11 = f'''What is the level of government support (subsidies, grants, incentives) available to the Canadian {industry}  , and are any changes expected? '''\n"
   ]
  },
  {
   "cell_type": "code",
   "execution_count": 30,
   "id": "stuffed-kruger",
   "metadata": {},
   "outputs": [],
   "source": [
    "query6 =f''' What are the innovations in  {industry} '''\n"
   ]
  },
  {
   "cell_type": "code",
   "execution_count": 31,
   "id": "starting-copying",
   "metadata": {},
   "outputs": [],
   "source": [
    "queries  = [query1, query2, query3, query4, query5, query6, query7, query8, query9, query10, query11 ]"
   ]
  },
  {
   "cell_type": "code",
   "execution_count": 32,
   "id": "neutral-casting",
   "metadata": {},
   "outputs": [
    {
     "name": "stdout",
     "output_type": "stream",
     "text": [
      "Document 1:\n",
      "\n",
      "Macro-economic factors observed in recent quarters, including a softening\n",
      "Canadian economy, inflated vehicle prices and interest rate hikes of recent\n",
      "years, are expected to continue to be headwinds in the near term. Alongside\n",
      "these challenges, elevated national inventory of new light vehicles from key\n",
      "brands in our dealership operations, and a constrained supply of quality,\n",
      "affordable used vehicles are anticipated to create operating conditions in the\n",
      "third quarter of 2024 similar to those in the second quarter.\n",
      "\n",
      "In response to these challenging market conditions, AutoCanada is intensifying\n",
      "its focus on enhancing its core dealership operations and accelerating\n",
      "strategic initiatives aimed at improving profitability, reducing leverage, and\n",
      "adapting to the evolving market landscape.\n",
      "----------------------------------------------------------------------------------------------------\n",
      "Document 2:\n",
      "\n",
      "While the foregoing economic, political and other factors are part of the\n",
      "general context in which the global automotive industry operates, there are a\n",
      "number of significant industry trends that are shaping the future of the\n",
      "industry and creating opportunities and risks for automotive suppliers. We\n",
      "continue to implement a business strategy which is rooted in our best\n",
      "assessment as to the rate and direction of change in the automotive industry,\n",
      "including with respect to trends related to vehicle electrification, advanced\n",
      "driver assistance systems, connectivity, as well as future mobility business\n",
      "models. Our short and medium-term operational success, as well as our ability\n",
      "to create long-term value through our business strategy, are subject to a\n",
      "number of risks and uncertainties. Significant industry trends, our business\n",
      "strategy and the major risks we face, are discussed in our Annual Information\n",
      "Form [\"\"AIF\"\"] and Annual Report on Form 40-F [\"\"Form 40-F\"\"] in respect of the\n",
      "year ended December 31, 2023, together with subsequent filings. Those industry\n",
      "trends and risk factors remain substantially unchanged in respect of the first\n",
      "quarter ended March 31, 2024, except as follows:\n",
      "----------------------------------------------------------------------------------------------------\n",
      "Document 3:\n",
      "\n",
      "<^^^^^^^^^^^^^^^^^^^^^^^^^^^^^^^^^^^^^^^^^^^^^^^^^^^^^^^^^^^\n",
      "FACTBOX-Moscow takes control over assets of Western companies   \n",
      "[nL8N39D6O7]\n",
      "    ^^^^^^^^^^^^^^^^^^^^^^^^^^^^^^^^^^^^^^^^^^^^^^^^^^^^^^^^^^^>\n",
      " (Compiled by Augustin Turpin, Agnieszka Gosciak, Matteo\n",
      "Allievi, Tristan Veyet, Paolo Laudani and Victor Goury-Laffont\n",
      "in Gdansk; editing by Emelia Sithole-Matarise and Milla Nissi)\n",
      " ((paolo.laudani@thomsonreuters.com))\"\n",
      "\"(Adds details on layoffs at company's unit in paragraph 3,\n",
      "sales impact in paragraph 5)\n",
      "    By Nathan Gomes\n",
      "       Aug 2 (Reuters) - Canada's Magna International <MG.TO>\n",
      "missed analysts' estimates for second-quarter results, hurt by\n",
      "production being stopped for certain vehicles and lower volumes\n",
      "of automobiles assembled, sending the auto parts supplier's\n",
      "shares down about 2%.\n",
      "    The company, which counts BMW <BMWG.DE>, Mazda <7261.T> and\n",
      "Ferrari <RACE.MI> as customers, produces parts and builds\n",
      "vehicles at its complete vehicle manufacturing unit for various\n",
      "automakers.\n",
      "    There were layoffs at Magna's complete vehicle operations,\n",
      "the company said on Friday, adding that the job cuts started\n",
      "earlier this year.\n",
      "    \"\"Sales were negatively impacted by the end of production of\n",
      "----------------------------------------------------------------------------------------------------\n",
      "Document 4:\n",
      "\n",
      "<^^^^^^^^^^^^^^^^^^^^^^^^^^^^^^^^^^^^^^^^^^^^^^^^^^^^^^^^^^^\n",
      "Auto industry stock performance    https://tmsnrt.rs/46Z7Gbw\n",
      "EXPLAINER-UAW chief ratchets up pressure on Detroit Three as\n",
      "deal talks drag on    [nL4N3BJ4G9]\n",
      "ANALYSIS-Detroit's strikes become an industrial 'Survivor' game \n",
      "  [nL2N3B828M]\n",
      "    ^^^^^^^^^^^^^^^^^^^^^^^^^^^^^^^^^^^^^^^^^^^^^^^^^^^^^^^^^^^>\n",
      " (Reporting by Raechel Thankam Job, Shivansh Tiwary in Bengaluru\n",
      "and additional reporting by Marie Mannes in Stockholm and Nathan\n",
      "Gomes in Bengaluru; Editing by Arun Koyyur)\n",
      " ((Abhijith.G@thomsonreuters.com | X: https://twitter.com/abhijithg4;\n",
      " +91-9019785574;))\"\n",
      "\"Nov 3 (Reuters) - Canadian auto parts supplier Magna\n",
      "International <MG.TO> raised its 2023 profit forecast on Friday,\n",
      "but flagged an impact from the United Auto Workers (UAW) union\n",
      "strike in North America.\n",
      "    Suppliers have benefited from an uptick in demand for their\n",
      "auto parts, software and tech as vehicle makers around the globe\n",
      "rush to push out safer vehicles with advanced driver-aid systems\n",
      "and higher efficiencies.\n",
      "    But analysts expect auto parts makers to feel the heat after\n",
      "the UAW's near six-week long strike shut operations at the\n",
      "Detroit Three automakers â General Motors <GM.N>, Ford Motor\n",
      "----------------------------------------------------------------------------------------------------\n",
      "Document 5:\n",
      "\n",
      "Whats impac ting Ne wRoads A utomo tive Groups perf ormanc e NewRoads A utomo tive Group pur chased Ne wmark et Honda now called Ne wRoads Honda  NewRoad A utomo tive announc edthe acquisition too chase Ne wRoads too itss too oss York Region Also this isee ted to strengthen the c ompan ys roster of servic esand v ehicl esYou can view and do wnload moree ydede on my ibisworld com Retail Trade In Canada   44 111CA New Car Deal ers in Canada 25 www ibis world com November 202 4\n",
      "CPU times: user 31.5 ms, sys: 0 ns, total: 31.5 ms\n",
      "Wall time: 31 ms\n"
     ]
    }
   ],
   "source": [
    "%%time\n",
    "retrieved_docs = retriever.invoke(query4)\n",
    "\n",
    "pretty_print_docs(retrieved_docs)"
   ]
  },
  {
   "cell_type": "markdown",
   "id": "9ad5e95e-f127-4092-b960-33b39ad21147",
   "metadata": {},
   "source": [
    "## Now send the query to the RAG pipeline"
   ]
  },
  {
   "cell_type": "markdown",
   "id": "3008507b",
   "metadata": {},
   "source": []
  },
  {
   "cell_type": "code",
   "execution_count": 34,
   "id": "e26d9f46-a082-4497-8ffc-9fa3eccc2ef3",
   "metadata": {},
   "outputs": [
    {
     "name": "stdout",
     "output_type": "stream",
     "text": [
      "Result: \n",
      "\n",
      "Auto dealers are innovating with electric and hybrid vehicles, leveraging social media and online transactions to boost revenue, and employing innovative marketing and partnerships to enhance their offerings.\n",
      "CPU times: user 660 ms, sys: 535 ms, total: 1.2 s\n",
      "Wall time: 4.22 s\n"
     ]
    }
   ],
   "source": [
    "%%time\n",
    "rag_pipeline = RetrievalQA.from_llm(llm=llm, retriever=retriever)\n",
    "query =query6 +' Please answer in 2 sentences maximum. If answer is not available, answer NA ' \n",
    "result = rag_pipeline.invoke(input=query +' Please answer in 2 sentences maximum. If answer is not available, answer NA ' )\n",
    "result = result['result'].split ('\\n')[-1]\n",
    "print(f\"Result: \\n\\n{result.replace ('According to the provided context, ', '')}\")"
   ]
  },
  {
   "cell_type": "code",
   "execution_count": 35,
   "id": "constant-egyptian",
   "metadata": {},
   "outputs": [
    {
     "data": {
      "text/plain": [
       "'Auto dealers are innovating with electric and hybrid vehicles, leveraging social media and online transactions to boost revenue, and employing innovative marketing and partnerships to enhance their offerings.'"
      ]
     },
     "execution_count": 35,
     "metadata": {},
     "output_type": "execute_result"
    }
   ],
   "source": [
    "result"
   ]
  },
  {
   "cell_type": "markdown",
   "id": "herbal-essence",
   "metadata": {},
   "source": [
    "# Loop"
   ]
  },
  {
   "cell_type": "code",
   "execution_count": 36,
   "id": "insured-textbook",
   "metadata": {},
   "outputs": [
    {
     "name": "stdout",
     "output_type": "stream",
     "text": [
      "Result_1: \n",
      "\n",
      "The main payers in Canadian auto dealer companies are the original equipment manufacturers (OEMs), used vehicle dealerships, collision repair centers, and companies that purchase from foreign automakers. These entities contribute significantly to the revenue and success of the dealerships.\n",
      "------------------------------------------------------------------------------------------------------------------------\n",
      "Result_2: \n",
      "\n",
      "The profit margin of Canadian auto dealers isn't provided in the given contexts.\n",
      "------------------------------------------------------------------------------------------------------------------------\n",
      "Result_3: \n",
      "\n",
      "Mexico, the United States, Canada, the United Kingdom, and the United States are competitors for the Canadian industry internationally.\n",
      "------------------------------------------------------------------------------------------------------------------------\n",
      "Result_4: \n",
      "\n",
      "**Main Reasons**: The reasons behind these changes include economic factors, industry trends, supply chain disruptions, operational inefficiencies, and increased demand from new vehicle short ages.\n",
      "------------------------------------------------------------------------------------------------------------------------\n",
      "Result_5: \n",
      "\n",
      "The level of auto dealer consolidation in the Canadian sector is likely driven by the popularity of brands such as Ford, Toyota, Chev, and Hyda, who regularly purchase inventory and accessories. Additionally, economic factors like inflation and interest rate volatility may contribute to consolidation as companies adjust their operations.\n",
      "------------------------------------------------------------------------------------------------------------------------\n",
      "Result_6: \n",
      "\n",
      "The innovations in auto dealers include the adoption of AI-driven technology, the use of ADAS for driver-assistance, the development of self-driving trucks, and the integration of electric and autonomous vehicles into consumer demand.\n",
      "------------------------------------------------------------------------------------------------------------------------\n",
      "Result_7: \n",
      "\n",
      "Fluctuating costs, including inventory expenses, interest payments, and rising vehicle prices, have impacted Canadian auto dealer profitability. To mitigate this, companies have focused on optimizing inventory levels, negotiating better supplier terms, and diversifying into new markets or products. Additionally, investing in operational efficiency and technology can help manage costs effectively.\n",
      "------------------------------------------------------------------------------------------------------------------------\n",
      "Result_8: \n",
      "\n",
      "New technologies are likely impacting operational efficiency by improving supply chain management and reducing costs through better inventory management. However, the volatile economic environment and supply chain volatility suggest that these technologies may not be fully adopted or could lead to increased costs. Additionally, new technologies offer new opportunities for innovation and efficiency, but the overall impact on operational efficiency and cost structures is a mix of challenges and opportunities.\n",
      "------------------------------------------------------------------------------------------------------------------------\n",
      "Result_9: \n",
      "\n",
      "The competition from alternative providers is significant, particularly from local suppliers, as auto dealers in Canada are trying to maintain their market share. While the context suggests that dealers are investing in better support and premium products, specific data on the extent of competition or the extent of adaptation is not provided.\n",
      "------------------------------------------------------------------------------------------------------------------------\n",
      "Result_10: \n",
      "\n",
      "The key regulatory and policy challenges for Canadian auto dealer companies include strict environmental regulations, such as emissions standards and traffic safety, regulatory compliance requirements, and labor regulations like trucking and driving time limits. These challenges are impacting operations and profitability by requiring companies to manage costs, adapt to changing consumer preferences, and compete in a market where differentiation is difficult due to reliance on pre-existing contracts.\n",
      "------------------------------------------------------------------------------------------------------------------------\n",
      "Result_11: \n",
      "\n",
      "The level of direct government support available to Canadian auto dealers isn't explicitly mentioned, but there is indirect support through trade associations and industry programs. Changes are expected due to potential trade-related initiatives and external factors like tariffs.\n",
      "------------------------------------------------------------------------------------------------------------------------\n",
      "CPU times: user 859 ms, sys: 20.9 ms, total: 880 ms\n",
      "Wall time: 48.1 s\n"
     ]
    }
   ],
   "source": [
    "%%time\n",
    "for i, query in enumerate (queries):\n",
    "    query = query + ' Please answer in 2 sentences maximum. If answer is not available, answer NA ' \n",
    "    retrieved_docs = retriever.invoke(query)\n",
    "    rag_pipeline = RetrievalQA.from_llm(llm=llm, retriever=retriever)\n",
    "    result = rag_pipeline.invoke(input=query)\n",
    "    result = result['result'].split ('\\n')[-1]\n",
    "    print(f\"Result_{i+1}: \\n\\n{result.replace ('According to the provided context, ', '').replace ('Based on the provided context, ', '')}\")\n",
    "    print ('-'*120)\n",
    "    \n",
    "    "
   ]
  },
  {
   "cell_type": "markdown",
   "id": "exotic-machinery",
   "metadata": {},
   "source": [
    "# Setting up having two vector stores\n"
   ]
  },
  {
   "cell_type": "code",
   "execution_count": 37,
   "id": "heavy-idaho",
   "metadata": {},
   "outputs": [
    {
     "name": "stdout",
     "output_type": "stream",
     "text": [
      "Number of text chunks: 4770\n"
     ]
    }
   ],
   "source": [
    "#PDF \n",
    "\n",
    "text_splitter = RecursiveCharacterTextSplitter(chunk_size=1250, chunk_overlap=32)\n",
    "chunks5 = text_splitter.split_documents(docs)\n",
    "print(f\"Number of text chunks: {len(chunks)}\")"
   ]
  },
  {
   "cell_type": "code",
   "execution_count": 38,
   "id": "instructional-riverside",
   "metadata": {},
   "outputs": [
    {
     "name": "stdout",
     "output_type": "stream",
     "text": [
      "CPU times: user 11.7 s, sys: 31.8 ms, total: 11.7 s\n",
      "Wall time: 11 s\n"
     ]
    }
   ],
   "source": [
    "%%time\n",
    "vectorstore_pdf = FAISS.from_documents(chunks5, embeddings)\n",
    "retriever_pdf = vectorstore_pdf.as_retriever(search_kwargs={\"k\": 3})"
   ]
  },
  {
   "cell_type": "code",
   "execution_count": 39,
   "id": "opened-census",
   "metadata": {},
   "outputs": [
    {
     "name": "stdout",
     "output_type": "stream",
     "text": [
      "Number of text chunks: 1212\n",
      "Number of text chunks: 927\n",
      "Number of text chunks: 2065\n"
     ]
    }
   ],
   "source": [
    "# News\n",
    "chunks6=[]\n",
    "\n",
    "for file_path in file_paths:\n",
    "    chunks7 = load_txt_file(file_path)\n",
    "    chunks6= chunks6 +chunks7"
   ]
  },
  {
   "cell_type": "code",
   "execution_count": 40,
   "id": "encouraging-vietnam",
   "metadata": {},
   "outputs": [
    {
     "name": "stdout",
     "output_type": "stream",
     "text": [
      "CPU times: user 1min 27s, sys: 357 ms, total: 1min 28s\n",
      "Wall time: 1min 23s\n"
     ]
    }
   ],
   "source": [
    "%%time\n",
    "# news\n",
    "vectorstore_news = FAISS.from_documents(chunks6, embeddings)\n",
    "retriever_news = vectorstore_news.as_retriever(search_kwargs={\"k\": 3})"
   ]
  },
  {
   "cell_type": "markdown",
   "id": "british-adoption",
   "metadata": {},
   "source": [
    " ## Querying"
   ]
  },
  {
   "cell_type": "code",
   "execution_count": 41,
   "id": "mexican-engineering",
   "metadata": {},
   "outputs": [
    {
     "name": "stdout",
     "output_type": "stream",
     "text": [
      "from News\n",
      "Document 1:\n",
      "\n",
      "Macro-economic factors observed in recent quarters, including a softening\n",
      "Canadian economy, inflated vehicle prices and interest rate hikes of recent\n",
      "years, are expected to continue to be headwinds in the near term. Alongside\n",
      "these challenges, elevated national inventory of new light vehicles from key\n",
      "brands in our dealership operations, and a constrained supply of quality,\n",
      "affordable used vehicles are anticipated to create operating conditions in the\n",
      "third quarter of 2024 similar to those in the second quarter.\n",
      "\n",
      "In response to these challenging market conditions, AutoCanada is intensifying\n",
      "its focus on enhancing its core dealership operations and accelerating\n",
      "strategic initiatives aimed at improving profitability, reducing leverage, and\n",
      "adapting to the evolving market landscape.\n",
      "----------------------------------------------------------------------------------------------------\n",
      "Document 2:\n",
      "\n",
      "While the foregoing economic, political and other factors are part of the\n",
      "general context in which the global automotive industry operates, there are a\n",
      "number of significant industry trends that are shaping the future of the\n",
      "industry and creating opportunities and risks for automotive suppliers. We\n",
      "continue to implement a business strategy which is rooted in our best\n",
      "assessment as to the rate and direction of change in the automotive industry,\n",
      "including with respect to trends related to vehicle electrification, advanced\n",
      "driver assistance systems, connectivity, as well as future mobility business\n",
      "models. Our short and medium-term operational success, as well as our ability\n",
      "to create long-term value through our business strategy, are subject to a\n",
      "number of risks and uncertainties. Significant industry trends, our business\n",
      "strategy and the major risks we face, are discussed in our Annual Information\n",
      "Form [\"\"AIF\"\"] and Annual Report on Form 40-F [\"\"Form 40-F\"\"] in respect of the\n",
      "year ended December 31, 2023, together with subsequent filings. Those industry\n",
      "trends and risk factors remain substantially unchanged in respect of the first\n",
      "quarter ended March 31, 2024, except as follows:\n",
      "----------------------------------------------------------------------------------------------------\n",
      "Document 3:\n",
      "\n",
      "<^^^^^^^^^^^^^^^^^^^^^^^^^^^^^^^^^^^^^^^^^^^^^^^^^^^^^^^^^^^\n",
      "FACTBOX-Moscow takes control over assets of Western companies   \n",
      "[nL8N39D6O7]\n",
      "    ^^^^^^^^^^^^^^^^^^^^^^^^^^^^^^^^^^^^^^^^^^^^^^^^^^^^^^^^^^^>\n",
      " (Compiled by Augustin Turpin, Agnieszka Gosciak, Matteo\n",
      "Allievi, Tristan Veyet, Paolo Laudani and Victor Goury-Laffont\n",
      "in Gdansk; editing by Emelia Sithole-Matarise and Milla Nissi)\n",
      " ((paolo.laudani@thomsonreuters.com))\"\n",
      "\"(Adds details on layoffs at company's unit in paragraph 3,\n",
      "sales impact in paragraph 5)\n",
      "    By Nathan Gomes\n",
      "       Aug 2 (Reuters) - Canada's Magna International <MG.TO>\n",
      "missed analysts' estimates for second-quarter results, hurt by\n",
      "production being stopped for certain vehicles and lower volumes\n",
      "of automobiles assembled, sending the auto parts supplier's\n",
      "shares down about 2%.\n",
      "    The company, which counts BMW <BMWG.DE>, Mazda <7261.T> and\n",
      "Ferrari <RACE.MI> as customers, produces parts and builds\n",
      "vehicles at its complete vehicle manufacturing unit for various\n",
      "automakers.\n",
      "    There were layoffs at Magna's complete vehicle operations,\n",
      "the company said on Friday, adding that the job cuts started\n",
      "earlier this year.\n",
      "    \"\"Sales were negatively impacted by the end of production of\n",
      "CPU times: user 35.2 ms, sys: 0 ns, total: 35.2 ms\n",
      "Wall time: 33.4 ms\n"
     ]
    }
   ],
   "source": [
    "%%time\n",
    "retrieved_docs1 = retriever_news.invoke(query4)\n",
    "print ('from News')\n",
    "pretty_print_docs(retrieved_docs1)"
   ]
  },
  {
   "cell_type": "code",
   "execution_count": 42,
   "id": "affiliated-sewing",
   "metadata": {},
   "outputs": [
    {
     "name": "stdout",
     "output_type": "stream",
     "text": [
      "from PDF\n",
      "Document 1:\n",
      "\n",
      "Whats impac ting Ne wRoads A utomo tive Groups perf ormanc e NewRoads A utomo tive Group pur chased Ne wmark et Honda now called Ne wRoads Honda  NewRoad A utomo tive announc edthe acquisition too chase Ne wRoads too itss too oss York Region Also this isee ted to strengthen the c ompan ys roster of servic esand v ehicl esYou can view and do wnload moree ydede on my ibisworld com Retail Trade In Canada   44 111CA New Car Deal ers in Canada 25 www ibis world com November 202 4\n",
      "----------------------------------------------------------------------------------------------------\n",
      "Document 2:\n",
      "\n",
      "Profit Margin Total profit margin annual change from 20 11  2029 Profit Margin 2pp1pp0pp1pp2pp3pp 2012 2014 2016 2018 2020 2022 202 4 Source IBIS WorldTotal Profit 3 8bn 19240 8 Profit Margin 2 0 19240 2 pp Profit per Business 810 8k Current Performanc e201924 Revenue C AGR 2 8 Whats driving current industry perf ormanc eNew car deal ers have endur edv olatile conditions  The pandemic caused revenue too in 2020 Plumme ting consumer and business c onfidenc e enc ouraged buyers to save transl ating into weak new car saleses arly stayathome orders slashed driving activity limiting demand for dealer repair servic es  In comparison r ebounding consumer c onfidenc eandss c orpor ate profit in the following years enc ouraged new car pur chases especially as individualss househol ds expressed pen tup demand for driving and travel Mounting demand combined with higher pric es contribut edtoto t revenue growth for deal ers in Canada  Simil arly inbound in terna tional travel skyr ocketed in 2022 suggesting elevated demand for taxi rideshar eand rental car c ompanies This trend enc ouraged c ommer cial buyers to expand and update vehicle fleets contributing too demand and helping deal ers diversify demand  Even so interest rates have\n",
      "----------------------------------------------------------------------------------------------------\n",
      "Document 3:\n",
      "\n",
      "pur chases increasing new car saleses eater consumer c onfidenc ealso pushes buyers to purchase moreeee v ehicl es Greater consumer confidence presents new opportunities for new car deal ers in Canada Corporate profitdede a c ompan ys available budget for new vehicle pur chases Higher c orpor ate profit pushes c ommer cial buyers to upgr adeee v ehicl efleets rather than rely on repairss ating strong returns for Canadian new car deal ers Weak corporate profit can limit growth in c ommer cial markets Retail Trade In Canada   44 111CA New Car Deal ers in Canada 26 www ibis world com November 202 4\n",
      "CPU times: user 25.9 ms, sys: 7.78 ms, total: 33.6 ms\n",
      "Wall time: 31.4 ms\n"
     ]
    }
   ],
   "source": [
    "%%time\n",
    "retrieved_docs2 = retriever_pdf.invoke(query4)\n",
    "print ('from PDF')\n",
    "pretty_print_docs(retrieved_docs2)"
   ]
  },
  {
   "cell_type": "code",
   "execution_count": 43,
   "id": "conscious-situation",
   "metadata": {},
   "outputs": [],
   "source": [
    "retrieved_docs=retrieved_docs1 +retrieved_docs2"
   ]
  },
  {
   "cell_type": "code",
   "execution_count": 44,
   "id": "interesting-temple",
   "metadata": {},
   "outputs": [
    {
     "name": "stdout",
     "output_type": "stream",
     "text": [
      "Result: \n",
      "\n",
      "<think>\n",
      "Okay, so I need to figure out the answer to the user's question about the innovations in auto dealers. Let me start by reading through the provided context carefully.\n",
      "\n",
      "First, I see that the user provided several contexts, but the main focus is on the context about auto dealers and their innovations. The user's question is asking for a concise answer in two sentences, and if it's not available, just say NA.\n",
      "\n",
      "Looking at the context, it mentions that auto dealers are adapting to industry changes, especially with electric vehicles and hybrid powertrains. They are also using social media and online transactions to increase their revenue. Additionally, they are leveraging innovative marketing techniques and partnerships to enhance their products and services.\n",
      "\n",
      "So, the key points are:\n",
      "1. Auto dealers are innovating with electric and hybrid vehicles.\n",
      "2. They are using social media and online transactions to boost revenue.\n",
      "3. They are employing innovative marketing and partnerships to improve their offerings.\n",
      "\n",
      "Putting this together, I can structure the answer to highlight these three main areas of innovation.\n",
      "</think>\n",
      "\n",
      "Auto dealers are innovating with electric and hybrid vehicles, leveraging social media and online transactions to boost revenue, and employing innovative marketing and partnerships to enhance their offerings.\n",
      "CPU times: user 65.2 ms, sys: 4 ms, total: 69.2 ms\n",
      "Wall time: 2.22 s\n"
     ]
    }
   ],
   "source": [
    "%%time\n",
    "rag_pipeline = RetrievalQA.from_llm(llm=llm, retriever=retriever)\n",
    "query =query6 +' Please answer in 2 sentences maximum. If answer is not available, answer NA ' \n",
    "result = rag_pipeline.invoke(input=query +' Please answer in 2 sentences maximum. If answer is not available, answer NA ' )\n",
    "print(f\"Result: \\n\\n{result['result'].replace ('According to the provided context, ', '')}\")"
   ]
  },
  {
   "cell_type": "code",
   "execution_count": 45,
   "id": "corresponding-priority",
   "metadata": {},
   "outputs": [
    {
     "data": {
      "text/plain": [
       "'Auto dealers are innovating with electric and hybrid vehicles, leveraging social media and online transactions to boost revenue, and employing innovative marketing and partnerships to enhance their offerings.'"
      ]
     },
     "execution_count": 45,
     "metadata": {},
     "output_type": "execute_result"
    }
   ],
   "source": [
    "result['result'].split('\\n')[-1]"
   ]
  },
  {
   "cell_type": "code",
   "execution_count": 46,
   "id": "beneficial-softball",
   "metadata": {},
   "outputs": [
    {
     "name": "stdout",
     "output_type": "stream",
     "text": [
      "Auto dealers are innovating with electric and hybrid vehicles, leveraging social media and online transactions to boost revenue, and employing innovative marketing and partnerships to enhance their offering.\n"
     ]
    }
   ],
   "source": [
    "# previous \n",
    "print ('Auto dealers are innovating with electric and hybrid vehicles, leveraging social media and online transactions to boost revenue, and employing innovative marketing and partnerships to enhance their offering.')"
   ]
  },
  {
   "cell_type": "code",
   "execution_count": null,
   "id": "reported-bonus",
   "metadata": {},
   "outputs": [],
   "source": [
    "`"
   ]
  }
 ],
 "metadata": {
  "kernelspec": {
   "display_name": "rag_dataloaders",
   "language": "python",
   "name": "rag_dataloaders"
  },
  "language_info": {
   "codemirror_mode": {
    "name": "ipython",
    "version": 3
   },
   "file_extension": ".py",
   "mimetype": "text/x-python",
   "name": "python",
   "nbconvert_exporter": "python",
   "pygments_lexer": "ipython3",
   "version": "3.10.12"
  }
 },
 "nbformat": 4,
 "nbformat_minor": 5
}
